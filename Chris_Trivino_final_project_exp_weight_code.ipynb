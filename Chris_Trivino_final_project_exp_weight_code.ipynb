{
  "nbformat": 4,
  "nbformat_minor": 0,
  "metadata": {
    "colab": {
      "name": "Chris_Trivino_final_project.ipynb",
      "provenance": [],
      "collapsed_sections": [],
      "machine_shape": "hm",
      "authorship_tag": "ABX9TyNKEKhe6/31AZWECKBmOXve",
      "include_colab_link": true
    },
    "kernelspec": {
      "name": "python3",
      "display_name": "Python 3"
    },
    "language_info": {
      "name": "python"
    },
    "accelerator": "GPU"
  },
  "cells": [
    {
      "cell_type": "markdown",
      "metadata": {
        "id": "view-in-github",
        "colab_type": "text"
      },
      "source": [
        "<a href=\"https://colab.research.google.com/github/ctrivino1/ML_class_final/blob/main/Chris_Trivino_final_project_exp_weight_code.ipynb\" target=\"_parent\"><img src=\"https://colab.research.google.com/assets/colab-badge.svg\" alt=\"Open In Colab\"/></a>"
      ]
    },
    {
      "cell_type": "markdown",
      "metadata": {
        "id": "LbZzz2oy3b25"
      },
      "source": [
        "Libraries"
      ]
    },
    {
      "cell_type": "code",
      "metadata": {
        "id": "Wy3PmcrjyQtb",
        "colab": {
          "base_uri": "https://localhost:8080/"
        },
        "outputId": "0feec79c-37be-49e4-90db-6391f2ca94e9"
      },
      "source": [
        "!pip install pyforest\n",
        "!pip install git+https://github.com/keras-team/keras-preprocessing.git\n",
        "!pip install keras-rectified-adam\n",
        "!pip install tensorflow_addons\n",
        "import tensorflow_addons as tfa\n",
        "from keras_radam import RAdam\n",
        "import pyforest\n",
        "import shutil, os\n",
        "from keras_preprocessing.image import ImageDataGenerator\n",
        "import tensorflow as tf\n",
        "from tensorflow import keras\n",
        "from keras import layers\n",
        "from tensorflow.keras.applications import ResNet50\n",
        "from tensorflow.keras.preprocessing import image_dataset_from_directory\n",
        "from keras_radam import RAdam\n",
        "import datetime\n",
        "%load_ext tensorboard\n",
        "from tensorflow.python.keras.callbacks import TensorBoard\n",
        "from sklearn.utils import class_weight\n",
        "import numpy as np\n",
        "\n"
      ],
      "execution_count": 1,
      "outputs": [
        {
          "output_type": "stream",
          "name": "stdout",
          "text": [
            "Collecting pyforest\n",
            "  Downloading pyforest-1.1.0.tar.gz (15 kB)\n",
            "Building wheels for collected packages: pyforest\n",
            "  Building wheel for pyforest (setup.py) ... \u001b[?25l\u001b[?25hdone\n",
            "  Created wheel for pyforest: filename=pyforest-1.1.0-py2.py3-none-any.whl size=14607 sha256=8381ebdf5fb65b5ad3cadd1636b5684cab3d58057a5f598efcfe6a1ff826db82\n",
            "  Stored in directory: /root/.cache/pip/wheels/61/1c/da/48e6c884142d485475d852d69d20a096aba5beceb338822893\n",
            "Successfully built pyforest\n",
            "Installing collected packages: pyforest\n",
            "Successfully installed pyforest-1.1.0\n",
            "Collecting git+https://github.com/keras-team/keras-preprocessing.git\n",
            "  Cloning https://github.com/keras-team/keras-preprocessing.git to /tmp/pip-req-build-og85ek8a\n",
            "  Running command git clone -q https://github.com/keras-team/keras-preprocessing.git /tmp/pip-req-build-og85ek8a\n",
            "Requirement already satisfied: numpy>=1.9.1 in /usr/local/lib/python3.7/dist-packages (from Keras-Preprocessing==1.1.2) (1.19.5)\n",
            "Collecting keras-rectified-adam\n",
            "  Downloading keras-rectified-adam-0.19.0.tar.gz (8.4 kB)\n",
            "Requirement already satisfied: numpy in /usr/local/lib/python3.7/dist-packages (from keras-rectified-adam) (1.19.5)\n",
            "Requirement already satisfied: Keras in /usr/local/lib/python3.7/dist-packages (from keras-rectified-adam) (2.7.0)\n",
            "Building wheels for collected packages: keras-rectified-adam\n",
            "  Building wheel for keras-rectified-adam (setup.py) ... \u001b[?25l\u001b[?25hdone\n",
            "  Created wheel for keras-rectified-adam: filename=keras_rectified_adam-0.19.0-py3-none-any.whl size=9017 sha256=bf8d7e3fddf441349f7cd32723f929cd95fe12d927aab475e2e043f8480d03fa\n",
            "  Stored in directory: /root/.cache/pip/wheels/52/1d/66/374c85b327ea412af5301b4811088408d9764314d6cfb8f127\n",
            "Successfully built keras-rectified-adam\n",
            "Installing collected packages: keras-rectified-adam\n",
            "Successfully installed keras-rectified-adam-0.19.0\n",
            "Collecting tensorflow_addons\n",
            "  Downloading tensorflow_addons-0.15.0-cp37-cp37m-manylinux_2_12_x86_64.manylinux2010_x86_64.whl (1.1 MB)\n",
            "\u001b[K     |████████████████████████████████| 1.1 MB 4.3 MB/s \n",
            "\u001b[?25hRequirement already satisfied: typeguard>=2.7 in /usr/local/lib/python3.7/dist-packages (from tensorflow_addons) (2.7.1)\n",
            "Installing collected packages: tensorflow-addons\n",
            "Successfully installed tensorflow-addons-0.15.0\n"
          ]
        }
      ]
    },
    {
      "cell_type": "code",
      "metadata": {
        "id": "gu_lX-Sc3bcP",
        "colab": {
          "base_uri": "https://localhost:8080/"
        },
        "outputId": "70ce64bf-069b-44c4-ad22-724b0367fc20"
      },
      "source": [
        "!git clone https://github.com/ctrivino1/ML_class_final.git\n"
      ],
      "execution_count": 2,
      "outputs": [
        {
          "output_type": "stream",
          "name": "stdout",
          "text": [
            "Cloning into 'ML_class_final'...\n",
            "remote: Enumerating objects: 21471, done.\u001b[K\n",
            "remote: Total 21471 (delta 0), reused 0 (delta 0), pack-reused 21471\u001b[K\n",
            "Receiving objects: 100% (21471/21471), 2.38 GiB | 14.23 MiB/s, done.\n",
            "Resolving deltas: 100% (41/41), done.\n",
            "Checking out files: 100% (21402/21402), done.\n"
          ]
        }
      ]
    },
    {
      "cell_type": "code",
      "metadata": {
        "id": "RSFRurgaSC4Y",
        "colab": {
          "base_uri": "https://localhost:8080/",
          "height": 126
        },
        "outputId": "e7c174f3-c3ed-4cfc-8876-4ee1e721e2d8"
      },
      "source": [
        "training_dir = \"/content/ML_class_final/train_imgs_1\"\n",
        "test_dir = \"/content/ML_class_final/test_imgs_1\"\n",
        "df=pd.read_csv(\"/content/ML_class_final/train_1.csv\")\n",
        "df.label = df.label.astype(str)\n",
        "df.label.value_counts()"
      ],
      "execution_count": 3,
      "outputs": [
        {
          "output_type": "display_data",
          "data": {
            "application/javascript": [
              "\n",
              "        if (window._pyforest_update_imports_cell) { window._pyforest_update_imports_cell('import pandas as pd'); }\n",
              "    "
            ],
            "text/plain": [
              "<IPython.core.display.Javascript object>"
            ]
          },
          "metadata": {}
        },
        {
          "output_type": "execute_result",
          "data": {
            "text/plain": [
              "3    10533\n",
              "4     2044\n",
              "2     1920\n",
              "1     1758\n",
              "0      862\n",
              "Name: label, dtype: int64"
            ]
          },
          "metadata": {},
          "execution_count": 3
        }
      ]
    },
    {
      "cell_type": "code",
      "metadata": {
        "id": "ssQFogS1TDLi",
        "colab": {
          "base_uri": "https://localhost:8080/"
        },
        "outputId": "976808bf-e2eb-4882-ef14-89251c26a981"
      },
      "source": [
        "train_datagen=ImageDataGenerator(rescale=1./255,shear_range=.2,zoom_range=.2,horizontal_flip=True,width_shift_range=0.2,height_shift_range=0.2,validation_split=.2,)\n",
        "\n",
        "\n",
        "train_generator = train_datagen.flow_from_dataframe(dataframe=df, \n",
        "                                         directory=training_dir, \n",
        "                                         x_col=\"image_id\", \n",
        "                                         y_col=\"label\", \n",
        "                                         class_mode=\"categorical\", \n",
        "                                         target_size=(256,256), \n",
        "                                         batch_size=64,\n",
        "                                         subset=\"training\",\n",
        "                                         seed=69,\n",
        "                                         )\n",
        "\n",
        "\n",
        "\n",
        "\n"
      ],
      "execution_count": 4,
      "outputs": [
        {
          "output_type": "stream",
          "name": "stdout",
          "text": [
            "Found 13694 validated image filenames belonging to 5 classes.\n"
          ]
        }
      ]
    },
    {
      "cell_type": "code",
      "metadata": {
        "id": "yizwNBTljJvK",
        "colab": {
          "base_uri": "https://localhost:8080/"
        },
        "outputId": "da7a7f1e-bd91-40c0-9d33-f8ee6c1b093d"
      },
      "source": [
        "val_datagen = ImageDataGenerator(rescale=1./255, validation_split=0.2)\n",
        "valid_generator = val_datagen.flow_from_dataframe(dataframe=df, \n",
        "                                         directory=training_dir, \n",
        "                                         x_col=\"image_id\", \n",
        "                                         y_col=\"label\", \n",
        "                                         class_mode=\"categorical\", \n",
        "                                         target_size=(256,256), \n",
        "                                         batch_size=64,\n",
        "                                         subset=\"validation\",\n",
        "                                         seed=69)\n",
        "\n"
      ],
      "execution_count": 5,
      "outputs": [
        {
          "output_type": "stream",
          "name": "stdout",
          "text": [
            "Found 3423 validated image filenames belonging to 5 classes.\n"
          ]
        }
      ]
    },
    {
      "cell_type": "code",
      "source": [
        "## since the dataset is imbalanced lets try to weight the classes differently. \n",
        "## this is experimental code that I found online\n",
        "from sklearn.utils import compute_class_weight\n",
        "class_weights = compute_class_weight(\n",
        "                                        class_weight = \"balanced\",\n",
        "                                        classes = np.unique(train_generator.classes),\n",
        "                                        y = train_generator.classes                                                    \n",
        "                                    )\n",
        "class_weights = dict(zip(np.unique(train_generator.classes), class_weights))\n",
        "class_weights"
      ],
      "metadata": {
        "colab": {
          "base_uri": "https://localhost:8080/"
        },
        "id": "jXUx8B4wwmwj",
        "outputId": "bcece50d-c1cc-442d-f15c-c421f20eb9c5"
      },
      "execution_count": 6,
      "outputs": [
        {
          "output_type": "execute_result",
          "data": {
            "text/plain": [
              "{0: 3.884822695035461,\n",
              " 1: 1.9451704545454545,\n",
              " 2: 1.7784415584415585,\n",
              " 3: 0.3258536585365854,\n",
              " 4: 1.6740831295843521}"
            ]
          },
          "metadata": {},
          "execution_count": 6
        }
      ]
    },
    {
      "cell_type": "code",
      "metadata": {
        "id": "jv4cXwEOUL6_",
        "colab": {
          "base_uri": "https://localhost:8080/"
        },
        "outputId": "87eb49cc-dd1b-4244-b22d-39e9007357d3"
      },
      "source": [
        "\n",
        "resnet50 = tf.keras.applications.ResNet50(\n",
        "    include_top=False, weights='imagenet', input_tensor=None,\n",
        "    input_shape=(256,256,3), pooling=\"max\")\n",
        "\n",
        "\n",
        "vgg16 = tf.keras.applications.VGG16(\n",
        "    include_top=False, weights='imagenet', input_tensor=None,\n",
        "    input_shape=(256,256,3), pooling=\"max\")\n",
        "\n",
        "# Freeze the pretrained CNN's\n",
        "resnet50.trainable = False\n",
        "vgg16.trainable = False\n",
        "\n",
        "# optimizers\n",
        "radam = tfa.optimizers.RectifiedAdam(learning_rate=1e-3)\n",
        "\n",
        "# Adds ResNet50 into a model with a output layers with 5 classifaction nodes\n",
        "model = keras.Sequential([vgg16,\n",
        "    tf.keras.layers.Dense(units=256, activation='LeakyReLU'),\n",
        "    tf.keras.layers.Dense(units=256, activation='LeakyReLU'),\n",
        "    tf.keras.layers.Dense(units=128, activation='LeakyReLU'),\n",
        "    tf.keras.layers.Dense(5,activation=\"softmax\") # number of perceptrons\n",
        "])\n",
        "model.compile(loss=\"categorical_crossentropy\",\n",
        "optimizer=radam, metrics=['acc'])\n",
        "STEP_SIZE_TRAIN=train_generator.n//train_generator.batch_size\n",
        "STEP_SIZE_VALID=valid_generator.n//valid_generator.batch_size\n",
        "\n",
        "\n",
        "model_checkpoint_callback = keras.callbacks.ModelCheckpoint(\n",
        "    filepath='/tmp/checkpoint', #creates a temporary folder that will store the model weight associated with the best val_acc score. \n",
        "    monitor='val_acc',\n",
        "    mode='max',\n",
        "    save_best_only=True)\n",
        "\n",
        "history = model.fit(train_generator, \n",
        "                    validation_data = valid_generator,\n",
        "                    steps_per_epoch = STEP_SIZE_TRAIN,\n",
        "                    validation_steps = STEP_SIZE_VALID,\n",
        "                    class_weight=class_weights, # trying out the weights from the experimental code I got\n",
        "                    callbacks=[model_checkpoint_callback],\n",
        "                    batch_size=64,\n",
        "                    epochs=15,)\n",
        "\n"
      ],
      "execution_count": 8,
      "outputs": [
        {
          "output_type": "stream",
          "name": "stdout",
          "text": [
            "Epoch 1/15\n",
            "213/213 [==============================] - ETA: 0s - loss: 1.4674 - acc: 0.4389"
          ]
        },
        {
          "output_type": "stream",
          "name": "stderr",
          "text": [
            "WARNING:absl:Found untraced functions such as leaky_re_lu_4_layer_call_fn, leaky_re_lu_4_layer_call_and_return_conditional_losses, leaky_re_lu_5_layer_call_fn, leaky_re_lu_5_layer_call_and_return_conditional_losses, leaky_re_lu_6_layer_call_fn while saving (showing 5 of 15). These functions will not be directly callable after loading.\n"
          ]
        },
        {
          "output_type": "stream",
          "name": "stdout",
          "text": [
            "INFO:tensorflow:Assets written to: /tmp/checkpoint/assets\n"
          ]
        },
        {
          "output_type": "stream",
          "name": "stderr",
          "text": [
            "INFO:tensorflow:Assets written to: /tmp/checkpoint/assets\n"
          ]
        },
        {
          "output_type": "stream",
          "name": "stdout",
          "text": [
            "\b\b\b\b\b\b\b\b\b\b\b\b\b\b\b\b\b\b\b\b\b\b\b\b\b\b\b\b\b\b\b\b\b\b\b\b\b\b\b\b\b\b\b\b\b\b\b\b\b\b\b\b\b\b\b\b\b\b\b\b\b\b\b\b\b\b\b\b\b\b\b\b\b\b\b\b\b\b\b\r213/213 [==============================] - 278s 1s/step - loss: 1.4674 - acc: 0.4389 - val_loss: 1.2212 - val_acc: 0.5542\n",
            "Epoch 2/15\n",
            "213/213 [==============================] - 274s 1s/step - loss: 1.3249 - acc: 0.5348 - val_loss: 1.3757 - val_acc: 0.4057\n",
            "Epoch 3/15\n",
            "213/213 [==============================] - 273s 1s/step - loss: 1.2837 - acc: 0.5531 - val_loss: 1.1988 - val_acc: 0.5466\n",
            "Epoch 4/15\n",
            "213/213 [==============================] - 273s 1s/step - loss: 1.2742 - acc: 0.5464 - val_loss: 1.2957 - val_acc: 0.4443\n",
            "Epoch 5/15\n",
            "213/213 [==============================] - ETA: 0s - loss: 1.2433 - acc: 0.5552"
          ]
        },
        {
          "output_type": "stream",
          "name": "stderr",
          "text": [
            "WARNING:absl:Found untraced functions such as leaky_re_lu_4_layer_call_fn, leaky_re_lu_4_layer_call_and_return_conditional_losses, leaky_re_lu_5_layer_call_fn, leaky_re_lu_5_layer_call_and_return_conditional_losses, leaky_re_lu_6_layer_call_fn while saving (showing 5 of 15). These functions will not be directly callable after loading.\n"
          ]
        },
        {
          "output_type": "stream",
          "name": "stdout",
          "text": [
            "INFO:tensorflow:Assets written to: /tmp/checkpoint/assets\n"
          ]
        },
        {
          "output_type": "stream",
          "name": "stderr",
          "text": [
            "INFO:tensorflow:Assets written to: /tmp/checkpoint/assets\n"
          ]
        },
        {
          "output_type": "stream",
          "name": "stdout",
          "text": [
            "\b\b\b\b\b\b\b\b\b\b\b\b\b\b\b\b\b\b\b\b\b\b\b\b\b\b\b\b\b\b\b\b\b\b\b\b\b\b\b\b\b\b\b\b\b\b\b\b\b\b\b\b\b\b\b\b\b\b\b\b\b\b\b\b\b\b\b\b\b\b\b\b\b\b\b\b\b\b\b\r213/213 [==============================] - 273s 1s/step - loss: 1.2433 - acc: 0.5552 - val_loss: 1.0719 - val_acc: 0.5722\n",
            "Epoch 6/15\n",
            "213/213 [==============================] - ETA: 0s - loss: 1.2336 - acc: 0.5575"
          ]
        },
        {
          "output_type": "stream",
          "name": "stderr",
          "text": [
            "WARNING:absl:Found untraced functions such as leaky_re_lu_4_layer_call_fn, leaky_re_lu_4_layer_call_and_return_conditional_losses, leaky_re_lu_5_layer_call_fn, leaky_re_lu_5_layer_call_and_return_conditional_losses, leaky_re_lu_6_layer_call_fn while saving (showing 5 of 15). These functions will not be directly callable after loading.\n"
          ]
        },
        {
          "output_type": "stream",
          "name": "stdout",
          "text": [
            "INFO:tensorflow:Assets written to: /tmp/checkpoint/assets\n"
          ]
        },
        {
          "output_type": "stream",
          "name": "stderr",
          "text": [
            "INFO:tensorflow:Assets written to: /tmp/checkpoint/assets\n"
          ]
        },
        {
          "output_type": "stream",
          "name": "stdout",
          "text": [
            "\b\b\b\b\b\b\b\b\b\b\b\b\b\b\b\b\b\b\b\b\b\b\b\b\b\b\b\b\b\b\b\b\b\b\b\b\b\b\b\b\b\b\b\b\b\b\b\b\b\b\b\b\b\b\b\b\b\b\b\b\b\b\b\b\b\b\b\b\b\b\b\b\b\b\b\b\b\b\b\r213/213 [==============================] - 275s 1s/step - loss: 1.2336 - acc: 0.5575 - val_loss: 0.9669 - val_acc: 0.6580\n",
            "Epoch 7/15\n",
            "213/213 [==============================] - 272s 1s/step - loss: 1.2159 - acc: 0.5698 - val_loss: 1.1872 - val_acc: 0.4876\n",
            "Epoch 8/15\n",
            "213/213 [==============================] - 274s 1s/step - loss: 1.2055 - acc: 0.5740 - val_loss: 1.4341 - val_acc: 0.3912\n",
            "Epoch 9/15\n",
            "213/213 [==============================] - 274s 1s/step - loss: 1.1923 - acc: 0.5838 - val_loss: 1.4736 - val_acc: 0.3992\n",
            "Epoch 10/15\n",
            "213/213 [==============================] - 274s 1s/step - loss: 1.2120 - acc: 0.5608 - val_loss: 1.2928 - val_acc: 0.4422\n",
            "Epoch 11/15\n",
            "213/213 [==============================] - 274s 1s/step - loss: 1.1832 - acc: 0.5825 - val_loss: 1.2533 - val_acc: 0.4912\n",
            "Epoch 12/15\n",
            "213/213 [==============================] - 274s 1s/step - loss: 1.1730 - acc: 0.5860 - val_loss: 1.0891 - val_acc: 0.5743\n",
            "Epoch 13/15\n",
            "213/213 [==============================] - 273s 1s/step - loss: 1.1843 - acc: 0.5763 - val_loss: 1.1816 - val_acc: 0.5233\n",
            "Epoch 14/15\n",
            "213/213 [==============================] - 274s 1s/step - loss: 1.1585 - acc: 0.5957 - val_loss: 1.1181 - val_acc: 0.5681\n",
            "Epoch 15/15\n",
            "213/213 [==============================] - 273s 1s/step - loss: 1.1658 - acc: 0.5907 - val_loss: 1.1812 - val_acc: 0.5333\n"
          ]
        }
      ]
    },
    {
      "cell_type": "code",
      "metadata": {
        "id": "RMSraRTXWn38",
        "colab": {
          "base_uri": "https://localhost:8080/",
          "height": 499
        },
        "outputId": "7df42291-eca4-421a-8bba-57a3bf1d7d27"
      },
      "source": [
        "acc = history.history['acc']\n",
        "val_acc = history.history['val_acc']\n",
        "\n",
        "loss = history.history['loss']\n",
        "val_loss = history.history['val_loss']\n",
        "\n",
        "epochs_range = range(15)\n",
        "\n",
        "plt.figure(figsize=(8, 8))\n",
        "plt.subplot(1, 2, 1)\n",
        "plt.plot(epochs_range, acc, label='Training Accuracy')\n",
        "plt.plot(epochs_range, val_acc, label='Validation Accuracy')\n",
        "plt.legend(loc='lower right')\n",
        "plt.title('Training and Validation Accuracy')\n",
        "\n",
        "plt.subplot(1, 2, 2)\n",
        "plt.plot(epochs_range, loss, label='Training Loss')\n",
        "plt.plot(epochs_range, val_loss, label='Validation Loss')\n",
        "plt.legend(loc='upper right')\n",
        "plt.title('Training and Validation Loss')\n",
        "plt.show()\n"
      ],
      "execution_count": 9,
      "outputs": [
        {
          "output_type": "display_data",
          "data": {
            "application/javascript": [
              "\n",
              "        if (window._pyforest_update_imports_cell) { window._pyforest_update_imports_cell('import textblob\\nimport matplotlib.pyplot as plt\\nimport torch\\nimport pandas as pd\\nfrom sklearn.model_selection import train_test_split\\nimport tqdm'); }\n",
              "    "
            ],
            "text/plain": [
              "<IPython.core.display.Javascript object>"
            ]
          },
          "metadata": {}
        },
        {
          "output_type": "display_data",
          "data": {
            "application/javascript": [
              "\n",
              "        if (window._pyforest_update_imports_cell) { window._pyforest_update_imports_cell('import textblob\\nimport matplotlib.pyplot as plt\\nimport torch\\nimport pandas as pd\\nfrom sklearn.model_selection import train_test_split\\nimport tqdm'); }\n",
              "    "
            ],
            "text/plain": [
              "<IPython.core.display.Javascript object>"
            ]
          },
          "metadata": {}
        },
        {
          "output_type": "display_data",
          "data": {
            "application/javascript": [
              "\n",
              "        if (window._pyforest_update_imports_cell) { window._pyforest_update_imports_cell('import textblob\\nimport matplotlib.pyplot as plt\\nimport torch\\nimport pandas as pd\\nfrom sklearn.model_selection import train_test_split\\nimport tqdm'); }\n",
              "    "
            ],
            "text/plain": [
              "<IPython.core.display.Javascript object>"
            ]
          },
          "metadata": {}
        },
        {
          "output_type": "display_data",
          "data": {
            "application/javascript": [
              "\n",
              "        if (window._pyforest_update_imports_cell) { window._pyforest_update_imports_cell('import textblob\\nimport matplotlib.pyplot as plt\\nimport torch\\nimport pandas as pd\\nfrom sklearn.model_selection import train_test_split\\nimport tqdm'); }\n",
              "    "
            ],
            "text/plain": [
              "<IPython.core.display.Javascript object>"
            ]
          },
          "metadata": {}
        },
        {
          "output_type": "display_data",
          "data": {
            "application/javascript": [
              "\n",
              "        if (window._pyforest_update_imports_cell) { window._pyforest_update_imports_cell('import textblob\\nimport matplotlib.pyplot as plt\\nimport torch\\nimport pandas as pd\\nfrom sklearn.model_selection import train_test_split\\nimport tqdm'); }\n",
              "    "
            ],
            "text/plain": [
              "<IPython.core.display.Javascript object>"
            ]
          },
          "metadata": {}
        },
        {
          "output_type": "display_data",
          "data": {
            "application/javascript": [
              "\n",
              "        if (window._pyforest_update_imports_cell) { window._pyforest_update_imports_cell('import textblob\\nimport matplotlib.pyplot as plt\\nimport torch\\nimport pandas as pd\\nfrom sklearn.model_selection import train_test_split\\nimport tqdm'); }\n",
              "    "
            ],
            "text/plain": [
              "<IPython.core.display.Javascript object>"
            ]
          },
          "metadata": {}
        },
        {
          "output_type": "display_data",
          "data": {
            "application/javascript": [
              "\n",
              "        if (window._pyforest_update_imports_cell) { window._pyforest_update_imports_cell('import textblob\\nimport matplotlib.pyplot as plt\\nimport torch\\nimport pandas as pd\\nfrom sklearn.model_selection import train_test_split\\nimport tqdm'); }\n",
              "    "
            ],
            "text/plain": [
              "<IPython.core.display.Javascript object>"
            ]
          },
          "metadata": {}
        },
        {
          "output_type": "display_data",
          "data": {
            "application/javascript": [
              "\n",
              "        if (window._pyforest_update_imports_cell) { window._pyforest_update_imports_cell('import textblob\\nimport matplotlib.pyplot as plt\\nimport torch\\nimport pandas as pd\\nfrom sklearn.model_selection import train_test_split\\nimport tqdm'); }\n",
              "    "
            ],
            "text/plain": [
              "<IPython.core.display.Javascript object>"
            ]
          },
          "metadata": {}
        },
        {
          "output_type": "display_data",
          "data": {
            "application/javascript": [
              "\n",
              "        if (window._pyforest_update_imports_cell) { window._pyforest_update_imports_cell('import textblob\\nimport matplotlib.pyplot as plt\\nimport torch\\nimport pandas as pd\\nfrom sklearn.model_selection import train_test_split\\nimport tqdm'); }\n",
              "    "
            ],
            "text/plain": [
              "<IPython.core.display.Javascript object>"
            ]
          },
          "metadata": {}
        },
        {
          "output_type": "display_data",
          "data": {
            "application/javascript": [
              "\n",
              "        if (window._pyforest_update_imports_cell) { window._pyforest_update_imports_cell('import textblob\\nimport matplotlib.pyplot as plt\\nimport torch\\nimport pandas as pd\\nfrom sklearn.model_selection import train_test_split\\nimport tqdm'); }\n",
              "    "
            ],
            "text/plain": [
              "<IPython.core.display.Javascript object>"
            ]
          },
          "metadata": {}
        },
        {
          "output_type": "display_data",
          "data": {
            "application/javascript": [
              "\n",
              "        if (window._pyforest_update_imports_cell) { window._pyforest_update_imports_cell('import textblob\\nimport matplotlib.pyplot as plt\\nimport torch\\nimport pandas as pd\\nfrom sklearn.model_selection import train_test_split\\nimport tqdm'); }\n",
              "    "
            ],
            "text/plain": [
              "<IPython.core.display.Javascript object>"
            ]
          },
          "metadata": {}
        },
        {
          "output_type": "display_data",
          "data": {
            "application/javascript": [
              "\n",
              "        if (window._pyforest_update_imports_cell) { window._pyforest_update_imports_cell('import textblob\\nimport matplotlib.pyplot as plt\\nimport torch\\nimport pandas as pd\\nfrom sklearn.model_selection import train_test_split\\nimport tqdm'); }\n",
              "    "
            ],
            "text/plain": [
              "<IPython.core.display.Javascript object>"
            ]
          },
          "metadata": {}
        },
        {
          "output_type": "display_data",
          "data": {
            "image/png": "[encoded data removed]",
            "text/plain": [
              "<Figure size 576x576 with 2 Axes>"
            ]
          },
          "metadata": {
            "needs_background": "light"
          }
        }
      ]
    },
    {
      "cell_type": "code",
      "metadata": {
        "id": "NG5S7M8PaMyD"
      },
      "source": [
        "# load model with the best weights that had the highet val_acc\n",
        "model.load_weights('/tmp/checkpoint')"
      ],
      "execution_count": null,
      "outputs": []
    },
    {
      "cell_type": "code",
      "metadata": {
        "id": "vRfJ1x5EsnH1"
      },
      "source": [
        "#downloading the model as a zipfile\n",
        "\n",
        "import shutil\n",
        "model.save('70_perc_model')\n",
        "shutil.make_archive('70_perc_model', 'zip', '70_perc_model')"
      ],
      "execution_count": null,
      "outputs": []
    },
    {
      "cell_type": "code",
      "metadata": {
        "id": "sgyrhBMT-pVR"
      },
      "source": [
        "import pathlib\n",
        "\n",
        "\n",
        "def predict_an_image(model, file_path):\n",
        "  # Load the image\n",
        "  img = keras.preprocessing.image.load_img(file_path, target_size=(256, 256))\n",
        "  # Get the image into the shape we need for our network\n",
        "  img_array = keras.preprocessing.image.img_to_array(img) \n",
        "  img_array = tf.expand_dims(img_array, 0)/255 # resizing the pixel values to 1/255\n",
        "  # print(img_array[0]) If any number is greater than the range from [0,1] then I know that my images are not scaled correctly\n",
        "  # Predict the class\n",
        "  predictions = model.predict(img_array)\n",
        "  score = tf.nn.softmax(predictions[0])\n",
        "  return np.argmax(score)\n",
        "# Loop through all images in our test directory and make\n",
        "# a prediction\n",
        "testdir = pathlib.Path('/content/ML_class_final/test_imgs_1')\n",
        "image_paths = (testdir.glob('*.jpg'))\n",
        "ip = []\n",
        "pred = []\n",
        "for image_path in image_paths:\n",
        "  prediction = predict_an_image(model, str(image_path))\n",
        "  ip.append(image_path)\n",
        "  pred.append(prediction)\n",
        "  #print(image_path, prediction)\n",
        "\n"
      ],
      "execution_count": null,
      "outputs": []
    },
    {
      "cell_type": "code",
      "metadata": {
        "id": "Td_-2yjQAxyC"
      },
      "source": [
        "im_path = np.array(ip)\n",
        "preds = np.array(pred)\n",
        "df = pd.DataFrame({'Filename':im_path, 'class':preds})\n",
        "df[\"class\"].value_counts()"
      ],
      "execution_count": null,
      "outputs": []
    },
    {
      "cell_type": "code",
      "source": [
        ""
      ],
      "metadata": {
        "id": "w3fX-U4n7beR"
      },
      "execution_count": null,
      "outputs": []
    },
    {
      "cell_type": "code",
      "metadata": {
        "id": "HHWjot1JDFxP"
      },
      "source": [
        "## save the new dataframe to csv\n",
        "from google.colab import files\n",
        "\n",
        "df.to_csv('predictions.csv')\n",
        "files.download('predictions.csv')"
      ],
      "execution_count": null,
      "outputs": []
    },
    {
      "cell_type": "code",
      "metadata": {
        "id": "-Eea7H6EEvJP"
      },
      "source": [
        "## loading a custom model example:\n",
        "\n",
        "#new_model = tf.keras.models.load_model(\"path_of_model\",custom_objects={'loss':tf.keras.losses.SparseCategoricalCrossentropy(from_logits=True)}"
      ],
      "execution_count": null,
      "outputs": []
    }
  ]
}