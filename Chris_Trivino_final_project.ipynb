{
  "nbformat": 4,
  "nbformat_minor": 0,
  "metadata": {
    "colab": {
      "name": "Chris_Trivino_final_project.ipynb",
      "provenance": [],
      "collapsed_sections": [],
      "machine_shape": "hm",
      "authorship_tag": "ABX9TyNAEOhk7gNbc1mSvGQPu4o2",
      "include_colab_link": true
    },
    "kernelspec": {
      "name": "python3",
      "display_name": "Python 3"
    },
    "language_info": {
      "name": "python"
    },
    "accelerator": "GPU"
  },
  "cells": [
    {
      "cell_type": "markdown",
      "metadata": {
        "id": "view-in-github",
        "colab_type": "text"
      },
      "source": [
        "<a href=\"https://colab.research.google.com/github/ctrivino1/ML_class_final/blob/main/Chris_Trivino_final_project.ipynb\" target=\"_parent\"><img src=\"https://colab.research.google.com/assets/colab-badge.svg\" alt=\"Open In Colab\"/></a>"
      ]
    },
    {
      "cell_type": "markdown",
      "metadata": {
        "id": "LbZzz2oy3b25"
      },
      "source": [
        "Libraries"
      ]
    },
    {
      "cell_type": "code",
      "metadata": {
        "id": "Wy3PmcrjyQtb",
        "colab": {
          "base_uri": "https://localhost:8080/"
        },
        "outputId": "22602261-0fe6-4745-f6ee-db21241d1e6c"
      },
      "source": [
        "!pip install pyforest\n",
        "!pip install git+https://github.com/keras-team/keras-preprocessing.git\n",
        "!pip install keras-rectified-adam\n",
        "!pip install tensorflow_addons\n",
        "import tensorflow_addons as tfa\n",
        "from keras_radam import RAdam\n",
        "import pyforest\n",
        "import shutil, os\n",
        "from keras_preprocessing.image import ImageDataGenerator\n",
        "import tensorflow as tf\n",
        "from tensorflow import keras\n",
        "from keras import layers\n",
        "from tensorflow.keras.applications import ResNet50\n",
        "from tensorflow.keras.preprocessing import image_dataset_from_directory\n",
        "from keras_radam import RAdam\n"
      ],
      "execution_count": 1,
      "outputs": [
        {
          "output_type": "stream",
          "name": "stdout",
          "text": [
            "Requirement already satisfied: pyforest in /usr/local/lib/python3.7/dist-packages (1.1.0)\n",
            "Collecting git+https://github.com/keras-team/keras-preprocessing.git\n",
            "  Cloning https://github.com/keras-team/keras-preprocessing.git to /tmp/pip-req-build-204ritti\n",
            "  Running command git clone -q https://github.com/keras-team/keras-preprocessing.git /tmp/pip-req-build-204ritti\n",
            "Requirement already satisfied: numpy>=1.9.1 in /usr/local/lib/python3.7/dist-packages (from Keras-Preprocessing==1.1.2) (1.19.5)\n",
            "Requirement already satisfied: keras-rectified-adam in /usr/local/lib/python3.7/dist-packages (0.19.0)\n",
            "Requirement already satisfied: Keras in /usr/local/lib/python3.7/dist-packages (from keras-rectified-adam) (2.7.0)\n",
            "Requirement already satisfied: numpy in /usr/local/lib/python3.7/dist-packages (from keras-rectified-adam) (1.19.5)\n"
          ]
        }
      ]
    },
    {
      "cell_type": "code",
      "metadata": {
        "id": "gu_lX-Sc3bcP",
        "colab": {
          "base_uri": "https://localhost:8080/"
        },
        "outputId": "010f44f9-9c11-47da-9137-07d406c3829d"
      },
      "source": [
        "!git clone https://github.com/ctrivino1/ML_class_final.git\n"
      ],
      "execution_count": 3,
      "outputs": [
        {
          "output_type": "stream",
          "name": "stdout",
          "text": [
            "fatal: destination path 'ML_class_final' already exists and is not an empty directory.\n"
          ]
        }
      ]
    },
    {
      "cell_type": "code",
      "metadata": {
        "id": "RSFRurgaSC4Y",
        "colab": {
          "base_uri": "https://localhost:8080/",
          "height": 17
        },
        "outputId": "67a5c75a-8d36-4fe6-a4fe-f4b6bb22cbd8"
      },
      "source": [
        "training_dir = \"/content/ML_class_final/train_imgs_1\"\n",
        "test_dir = \"/content/ML_class_final/test_imgs_1\"\n",
        "df=pd.read_csv(\"/content/ML_class_final/train_1.csv\")\n",
        "df.label = df.label.astype(str)"
      ],
      "execution_count": 4,
      "outputs": [
        {
          "output_type": "display_data",
          "data": {
            "application/javascript": [
              "\n",
              "        if (window._pyforest_update_imports_cell) { window._pyforest_update_imports_cell('import pandas as pd'); }\n",
              "    "
            ],
            "text/plain": [
              "<IPython.core.display.Javascript object>"
            ]
          },
          "metadata": {}
        }
      ]
    },
    {
      "cell_type": "code",
      "metadata": {
        "id": "ssQFogS1TDLi",
        "colab": {
          "base_uri": "https://localhost:8080/"
        },
        "outputId": "8b96e552-845a-4cad-a108-b1b36657e80b"
      },
      "source": [
        "train_datagen=ImageDataGenerator(rescale=1./255,shear_range=.2,zoom_range=.2,horizontal_flip=True,width_shift_range=0.05,height_shift_range=0.05,validation_split=.2,)\n",
        "\n",
        "\n",
        "train_generator = train_datagen.flow_from_dataframe(dataframe=df, \n",
        "                                         directory=training_dir, \n",
        "                                         x_col=\"image_id\", \n",
        "                                         y_col=\"label\", \n",
        "                                         class_mode=\"categorical\", \n",
        "                                         target_size=(224,224), \n",
        "                                         batch_size=64,\n",
        "                                         subset=\"training\",\n",
        "                                         seed=69,\n",
        "                                         )\n",
        "\n",
        "\n",
        "\n",
        "\n"
      ],
      "execution_count": 5,
      "outputs": [
        {
          "output_type": "stream",
          "name": "stdout",
          "text": [
            "Found 13694 validated image filenames belonging to 5 classes.\n"
          ]
        }
      ]
    },
    {
      "cell_type": "code",
      "metadata": {
        "id": "yizwNBTljJvK",
        "colab": {
          "base_uri": "https://localhost:8080/"
        },
        "outputId": "1bfda69e-6b4b-4326-ac05-1cac45a0d942"
      },
      "source": [
        "\n",
        "valid_generator = train_datagen.flow_from_dataframe(dataframe=df, \n",
        "                                         directory=training_dir, \n",
        "                                         x_col=\"image_id\", \n",
        "                                         y_col=\"label\", \n",
        "                                         class_mode=\"categorical\", \n",
        "                                         target_size=(224,224), \n",
        "                                         batch_size=64,\n",
        "                                         subset=\"validation\",\n",
        "                                         seed=69)"
      ],
      "execution_count": 6,
      "outputs": [
        {
          "output_type": "stream",
          "name": "stdout",
          "text": [
            "Found 3423 validated image filenames belonging to 5 classes.\n"
          ]
        }
      ]
    },
    {
      "cell_type": "code",
      "metadata": {
        "id": "jv4cXwEOUL6_",
        "colab": {
          "base_uri": "https://localhost:8080/"
        },
        "outputId": "df2204ff-5330-4824-f6d9-c48d44800e78"
      },
      "source": [
        "\n",
        "resnet50 = tf.keras.applications.ResNet50(\n",
        "    include_top=False, weights='imagenet', input_tensor=None,\n",
        "    input_shape=(224,224,3), pooling=\"max\"\n",
        ")\n",
        "\n",
        "\n",
        "vgg16 = tf.keras.applications.VGG16(\n",
        "    include_top=False, weights='imagenet', input_tensor=None,\n",
        "    input_shape=(224,224,3), pooling=\"max\"\n",
        ")\n",
        "# Freeze the pretrained CNN's\n",
        "resnet50.trainable = False\n",
        "vgg16.trainable = False\n",
        "\n",
        "# optimizers\n",
        "radam = tfa.optimizers.RectifiedAdam(learning_rate=1e-3)\n",
        "\n",
        "# Adds ResNet50 into a model with a output layers with 5 classifaction nodes\n",
        "model = keras.Sequential([vgg16,\n",
        "    tf.keras.layers.Dense(units=256, activation='LeakyReLU'),\n",
        "    tf.keras.layers.Dense(units=256, activation='sigmoid'),\n",
        "    tf.keras.layers.Dense(units=256, activation='LeakyReLU'),\n",
        "    tf.keras.layers.Dense(5,activation=\"softmax\") # number of perceptrons\n",
        "])\n",
        "model.compile(loss=\"categorical_crossentropy\",\n",
        "optimizer=radam, metrics=['acc'])\n",
        "STEP_SIZE_TRAIN=train_generator.n//train_generator.batch_size\n",
        "STEP_SIZE_VALID=valid_generator.n//valid_generator.batch_size\n",
        "model.fit(train_generator,\n",
        "          validation_data = valid_generator,\n",
        "          steps_per_epoch = STEP_SIZE_TRAIN,\n",
        "          validation_steps = STEP_SIZE_VALID,\n",
        "          epochs=15)\n",
        "\n",
        "\n",
        "\n"
      ],
      "execution_count": 8,
      "outputs": [
        {
          "output_type": "stream",
          "name": "stdout",
          "text": [
            "Epoch 1/15\n",
            "213/213 [==============================] - 272s 1s/step - loss: 1.1225 - acc: 0.5964 - val_loss: 0.9813 - val_acc: 0.6518\n",
            "Epoch 2/15\n",
            "213/213 [==============================] - 259s 1s/step - loss: 0.9307 - acc: 0.6596 - val_loss: 0.9391 - val_acc: 0.6704\n",
            "Epoch 3/15\n",
            "213/213 [==============================] - 260s 1s/step - loss: 0.8951 - acc: 0.6689 - val_loss: 0.9540 - val_acc: 0.6651\n",
            "Epoch 4/15\n",
            "213/213 [==============================] - 260s 1s/step - loss: 0.8812 - acc: 0.6789 - val_loss: 0.8636 - val_acc: 0.6837\n",
            "Epoch 5/15\n",
            "213/213 [==============================] - 260s 1s/step - loss: 0.8584 - acc: 0.6827 - val_loss: 0.8566 - val_acc: 0.6843\n",
            "Epoch 6/15\n",
            "213/213 [==============================] - 260s 1s/step - loss: 0.8542 - acc: 0.6886 - val_loss: 0.9539 - val_acc: 0.6300\n",
            "Epoch 7/15\n",
            "213/213 [==============================] - 260s 1s/step - loss: 0.8457 - acc: 0.6884 - val_loss: 0.8694 - val_acc: 0.6810\n",
            "Epoch 8/15\n",
            "213/213 [==============================] - 259s 1s/step - loss: 0.8366 - acc: 0.6883 - val_loss: 0.8576 - val_acc: 0.6801\n",
            "Epoch 9/15\n",
            "213/213 [==============================] - 260s 1s/step - loss: 0.8293 - acc: 0.6943 - val_loss: 0.9185 - val_acc: 0.6704\n",
            "Epoch 10/15\n",
            "213/213 [==============================] - 260s 1s/step - loss: 0.8252 - acc: 0.6975 - val_loss: 0.8506 - val_acc: 0.6899\n",
            "Epoch 11/15\n",
            "213/213 [==============================] - 261s 1s/step - loss: 0.8189 - acc: 0.6982 - val_loss: 0.8440 - val_acc: 0.6816\n",
            "Epoch 12/15\n",
            "213/213 [==============================] - 260s 1s/step - loss: 0.8039 - acc: 0.7042 - val_loss: 0.8230 - val_acc: 0.6896\n",
            "Epoch 13/15\n",
            "213/213 [==============================] - 259s 1s/step - loss: 0.8110 - acc: 0.6994 - val_loss: 0.8738 - val_acc: 0.6934\n",
            "Epoch 14/15\n",
            "213/213 [==============================] - 259s 1s/step - loss: 0.8085 - acc: 0.7029 - val_loss: 0.8665 - val_acc: 0.6781\n",
            "Epoch 15/15\n",
            "213/213 [==============================] - 260s 1s/step - loss: 0.8079 - acc: 0.7019 - val_loss: 0.8256 - val_acc: 0.7022\n"
          ]
        },
        {
          "output_type": "execute_result",
          "data": {
            "text/plain": [
              "<keras.callbacks.History at 0x7f863034c790>"
            ]
          },
          "metadata": {},
          "execution_count": 8
        }
      ]
    },
    {
      "cell_type": "code",
      "metadata": {
        "id": "vRfJ1x5EsnH1",
        "outputId": "5cbce761-a122-41ce-8b46-7a41126483a8",
        "colab": {
          "base_uri": "https://localhost:8080/",
          "height": 36
        }
      },
      "source": [
        "#downloading the model as a zipfile\n",
        "\n",
        "import shutil\n",
        "shutil.make_archive('70_perc_model', 'zip', '70_perc_model')"
      ],
      "execution_count": 19,
      "outputs": [
        {
          "output_type": "execute_result",
          "data": {
            "application/vnd.google.colaboratory.intrinsic+json": {
              "type": "string"
            },
            "text/plain": [
              "'/content/70_perc_model.zip'"
            ]
          },
          "metadata": {},
          "execution_count": 19
        }
      ]
    }
  ]
}