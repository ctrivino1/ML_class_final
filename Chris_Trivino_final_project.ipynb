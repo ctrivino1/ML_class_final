{
  "nbformat": 4,
  "nbformat_minor": 0,
  "metadata": {
    "colab": {
      "name": "Chris_Trivino_final_project.ipynb",
      "provenance": [],
      "collapsed_sections": [],
      "machine_shape": "hm",
      "authorship_tag": "ABX9TyNXLCxlSHwg495nCwFlP0iW",
      "include_colab_link": true
    },
    "kernelspec": {
      "name": "python3",
      "display_name": "Python 3"
    },
    "language_info": {
      "name": "python"
    },
    "accelerator": "GPU"
  },
  "cells": [
    {
      "cell_type": "markdown",
      "metadata": {
        "id": "view-in-github",
        "colab_type": "text"
      },
      "source": [
        "<a href=\"https://colab.research.google.com/github/ctrivino1/ML_class_final/blob/main/Chris_Trivino_final_project.ipynb\" target=\"_parent\"><img src=\"https://colab.research.google.com/assets/colab-badge.svg\" alt=\"Open In Colab\"/></a>"
      ]
    },
    {
      "cell_type": "markdown",
      "metadata": {
        "id": "LbZzz2oy3b25"
      },
      "source": [
        "Libraries"
      ]
    },
    {
      "cell_type": "code",
      "metadata": {
        "id": "Wy3PmcrjyQtb",
        "colab": {
          "base_uri": "https://localhost:8080/"
        },
        "outputId": "22602261-0fe6-4745-f6ee-db21241d1e6c"
      },
      "source": [
        "!pip install pyforest\n",
        "!pip install git+https://github.com/keras-team/keras-preprocessing.git\n",
        "!pip install keras-rectified-adam\n",
        "!pip install tensorflow_addons\n",
        "import tensorflow_addons as tfa\n",
        "from keras_radam import RAdam\n",
        "import pyforest\n",
        "import shutil, os\n",
        "from keras_preprocessing.image import ImageDataGenerator\n",
        "import tensorflow as tf\n",
        "from tensorflow import keras\n",
        "from keras import layers\n",
        "from tensorflow.keras.applications import ResNet50\n",
        "from tensorflow.keras.preprocessing import image_dataset_from_directory\n",
        "from keras_radam import RAdam\n"
      ],
      "execution_count": 1,
      "outputs": [
        {
          "output_type": "stream",
          "name": "stdout",
          "text": [
            "Requirement already satisfied: pyforest in /usr/local/lib/python3.7/dist-packages (1.1.0)\n",
            "Collecting git+https://github.com/keras-team/keras-preprocessing.git\n",
            "  Cloning https://github.com/keras-team/keras-preprocessing.git to /tmp/pip-req-build-204ritti\n",
            "  Running command git clone -q https://github.com/keras-team/keras-preprocessing.git /tmp/pip-req-build-204ritti\n",
            "Requirement already satisfied: numpy>=1.9.1 in /usr/local/lib/python3.7/dist-packages (from Keras-Preprocessing==1.1.2) (1.19.5)\n",
            "Requirement already satisfied: keras-rectified-adam in /usr/local/lib/python3.7/dist-packages (0.19.0)\n",
            "Requirement already satisfied: Keras in /usr/local/lib/python3.7/dist-packages (from keras-rectified-adam) (2.7.0)\n",
            "Requirement already satisfied: numpy in /usr/local/lib/python3.7/dist-packages (from keras-rectified-adam) (1.19.5)\n"
          ]
        }
      ]
    },
    {
      "cell_type": "code",
      "metadata": {
        "id": "gu_lX-Sc3bcP",
        "colab": {
          "base_uri": "https://localhost:8080/"
        },
        "outputId": "010f44f9-9c11-47da-9137-07d406c3829d"
      },
      "source": [
        "!git clone https://github.com/ctrivino1/ML_class_final.git\n"
      ],
      "execution_count": 3,
      "outputs": [
        {
          "output_type": "stream",
          "name": "stdout",
          "text": [
            "fatal: destination path 'ML_class_final' already exists and is not an empty directory.\n"
          ]
        }
      ]
    },
    {
      "cell_type": "code",
      "metadata": {
        "id": "RSFRurgaSC4Y",
        "colab": {
          "base_uri": "https://localhost:8080/",
          "height": 17
        },
        "outputId": "67a5c75a-8d36-4fe6-a4fe-f4b6bb22cbd8"
      },
      "source": [
        "training_dir = \"/content/ML_class_final/train_imgs_1\"\n",
        "test_dir = \"/content/ML_class_final/test_imgs_1\"\n",
        "df=pd.read_csv(\"/content/ML_class_final/train_1.csv\")\n",
        "df.label = df.label.astype(str)"
      ],
      "execution_count": 4,
      "outputs": [
        {
          "output_type": "display_data",
          "data": {
            "application/javascript": [
              "\n",
              "        if (window._pyforest_update_imports_cell) { window._pyforest_update_imports_cell('import pandas as pd'); }\n",
              "    "
            ],
            "text/plain": [
              "<IPython.core.display.Javascript object>"
            ]
          },
          "metadata": {}
        }
      ]
    },
    {
      "cell_type": "code",
      "metadata": {
        "id": "ssQFogS1TDLi",
        "colab": {
          "base_uri": "https://localhost:8080/"
        },
        "outputId": "8b96e552-845a-4cad-a108-b1b36657e80b"
      },
      "source": [
        "train_datagen=ImageDataGenerator(rescale=1./255,shear_range=.2,zoom_range=.2,horizontal_flip=True,width_shift_range=0.05,height_shift_range=0.05,validation_split=.2,)\n",
        "\n",
        "\n",
        "train_generator = train_datagen.flow_from_dataframe(dataframe=df, \n",
        "                                         directory=training_dir, \n",
        "                                         x_col=\"image_id\", \n",
        "                                         y_col=\"label\", \n",
        "                                         class_mode=\"categorical\", \n",
        "                                         target_size=(224,224), \n",
        "                                         batch_size=64,\n",
        "                                         subset=\"training\",\n",
        "                                         seed=69,\n",
        "                                         )\n",
        "\n",
        "\n",
        "\n",
        "\n"
      ],
      "execution_count": 5,
      "outputs": [
        {
          "output_type": "stream",
          "name": "stdout",
          "text": [
            "Found 13694 validated image filenames belonging to 5 classes.\n"
          ]
        }
      ]
    },
    {
      "cell_type": "code",
      "metadata": {
        "id": "yizwNBTljJvK",
        "colab": {
          "base_uri": "https://localhost:8080/"
        },
        "outputId": "1bfda69e-6b4b-4326-ac05-1cac45a0d942"
      },
      "source": [
        "\n",
        "valid_generator = train_datagen.flow_from_dataframe(dataframe=df, \n",
        "                                         directory=training_dir, \n",
        "                                         x_col=\"image_id\", \n",
        "                                         y_col=\"label\", \n",
        "                                         class_mode=\"categorical\", \n",
        "                                         target_size=(224,224), \n",
        "                                         batch_size=64,\n",
        "                                         subset=\"validation\",\n",
        "                                         seed=69)"
      ],
      "execution_count": 6,
      "outputs": [
        {
          "output_type": "stream",
          "name": "stdout",
          "text": [
            "Found 3423 validated image filenames belonging to 5 classes.\n"
          ]
        }
      ]
    },
    {
      "cell_type": "code",
      "metadata": {
        "id": "jv4cXwEOUL6_",
        "colab": {
          "base_uri": "https://localhost:8080/"
        },
        "outputId": "df2204ff-5330-4824-f6d9-c48d44800e78"
      },
      "source": [
        "\n",
        "resnet50 = tf.keras.applications.ResNet50(\n",
        "    include_top=False, weights='imagenet', input_tensor=None,\n",
        "    input_shape=(224,224,3), pooling=\"max\"\n",
        ")\n",
        "\n",
        "\n",
        "vgg16 = tf.keras.applications.VGG16(\n",
        "    include_top=False, weights='imagenet', input_tensor=None,\n",
        "    input_shape=(224,224,3), pooling=\"max\"\n",
        ")\n",
        "# Freeze the pretrained CNN's\n",
        "resnet50.trainable = False\n",
        "vgg16.trainable = False\n",
        "\n",
        "# optimizers\n",
        "radam = tfa.optimizers.RectifiedAdam(learning_rate=1e-3)\n",
        "\n",
        "# Adds ResNet50 into a model with a output layers with 5 classifaction nodes\n",
        "model = keras.Sequential([vgg16,\n",
        "    tf.keras.layers.Dense(units=256, activation='LeakyReLU'),\n",
        "    tf.keras.layers.Dense(units=256, activation='sigmoid'),\n",
        "    tf.keras.layers.Dense(units=256, activation='LeakyReLU'),\n",
        "    tf.keras.layers.Dense(5,activation=\"softmax\") # number of perceptrons\n",
        "])\n",
        "model.compile(loss=\"categorical_crossentropy\",\n",
        "optimizer=radam, metrics=['acc'])\n",
        "STEP_SIZE_TRAIN=train_generator.n//train_generator.batch_size\n",
        "STEP_SIZE_VALID=valid_generator.n//valid_generator.batch_size\n",
        "model.fit(train_generator,\n",
        "          validation_data = valid_generator,\n",
        "          steps_per_epoch = STEP_SIZE_TRAIN,\n",
        "          validation_steps = STEP_SIZE_VALID,\n",
        "          epochs=15)\n",
        "\n",
        "\n",
        "\n"
      ],
      "execution_count": 8,
      "outputs": [
        {
          "output_type": "stream",
          "name": "stdout",
          "text": [
            "Epoch 1/15\n",
            "213/213 [==============================] - 272s 1s/step - loss: 1.1225 - acc: 0.5964 - val_loss: 0.9813 - val_acc: 0.6518\n",
            "Epoch 2/15\n",
            "213/213 [==============================] - 259s 1s/step - loss: 0.9307 - acc: 0.6596 - val_loss: 0.9391 - val_acc: 0.6704\n",
            "Epoch 3/15\n",
            "213/213 [==============================] - 260s 1s/step - loss: 0.8951 - acc: 0.6689 - val_loss: 0.9540 - val_acc: 0.6651\n",
            "Epoch 4/15\n",
            "213/213 [==============================] - 260s 1s/step - loss: 0.8812 - acc: 0.6789 - val_loss: 0.8636 - val_acc: 0.6837\n",
            "Epoch 5/15\n",
            "213/213 [==============================] - 260s 1s/step - loss: 0.8584 - acc: 0.6827 - val_loss: 0.8566 - val_acc: 0.6843\n",
            "Epoch 6/15\n",
            "213/213 [==============================] - 260s 1s/step - loss: 0.8542 - acc: 0.6886 - val_loss: 0.9539 - val_acc: 0.6300\n",
            "Epoch 7/15\n",
            "213/213 [==============================] - 260s 1s/step - loss: 0.8457 - acc: 0.6884 - val_loss: 0.8694 - val_acc: 0.6810\n",
            "Epoch 8/15\n",
            "213/213 [==============================] - 259s 1s/step - loss: 0.8366 - acc: 0.6883 - val_loss: 0.8576 - val_acc: 0.6801\n",
            "Epoch 9/15\n",
            "213/213 [==============================] - 260s 1s/step - loss: 0.8293 - acc: 0.6943 - val_loss: 0.9185 - val_acc: 0.6704\n",
            "Epoch 10/15\n",
            "213/213 [==============================] - 260s 1s/step - loss: 0.8252 - acc: 0.6975 - val_loss: 0.8506 - val_acc: 0.6899\n",
            "Epoch 11/15\n",
            "213/213 [==============================] - 261s 1s/step - loss: 0.8189 - acc: 0.6982 - val_loss: 0.8440 - val_acc: 0.6816\n",
            "Epoch 12/15\n",
            "213/213 [==============================] - 260s 1s/step - loss: 0.8039 - acc: 0.7042 - val_loss: 0.8230 - val_acc: 0.6896\n",
            "Epoch 13/15\n",
            "213/213 [==============================] - 259s 1s/step - loss: 0.8110 - acc: 0.6994 - val_loss: 0.8738 - val_acc: 0.6934\n",
            "Epoch 14/15\n",
            "213/213 [==============================] - 259s 1s/step - loss: 0.8085 - acc: 0.7029 - val_loss: 0.8665 - val_acc: 0.6781\n",
            "Epoch 15/15\n",
            "213/213 [==============================] - 260s 1s/step - loss: 0.8079 - acc: 0.7019 - val_loss: 0.8256 - val_acc: 0.7022\n"
          ]
        },
        {
          "output_type": "execute_result",
          "data": {
            "text/plain": [
              "<keras.callbacks.History at 0x7f863034c790>"
            ]
          },
          "metadata": {},
          "execution_count": 8
        }
      ]
    },
    {
      "cell_type": "code",
      "metadata": {
        "colab": {
          "base_uri": "https://localhost:8080/",
          "height": 36
        },
        "id": "vRfJ1x5EsnH1",
        "outputId": "5cbce761-a122-41ce-8b46-7a41126483a8"
      },
      "source": [
        "#downloading the model as a zipfile\n",
        "\n",
        "import shutil\n",
        "shutil.make_archive('70_perc_model', 'zip', '70_perc_model')"
      ],
      "execution_count": 19,
      "outputs": [
        {
          "output_type": "execute_result",
          "data": {
            "application/vnd.google.colaboratory.intrinsic+json": {
              "type": "string"
            },
            "text/plain": [
              "'/content/70_perc_model.zip'"
            ]
          },
          "metadata": {},
          "execution_count": 19
        }
      ]
    },
    {
      "cell_type": "code",
      "metadata": {
        "id": "KI4rbIiPyhz1",
        "outputId": "3b70acf5-42a2-40b2-f110-47c1c73a3e00",
        "colab": {
          "base_uri": "https://localhost:8080/",
          "height": 1000
        }
      },
      "source": [
        "import pathlib\n",
        "\n",
        "def predict_an_image(model, file_path):\n",
        "  # Load the image\n",
        "  img = keras.preprocessing.image.load_img(file_path, target_size=(224, 224))\n",
        "  # Get the image into the shape we need for our network\n",
        "  img_array = keras.preprocessing.image.img_to_array(img)\n",
        "  img_array = tf.expand_dims(img_array, 0) \n",
        "  # Predict the class\n",
        "  predictions = model.predict(img_array)\n",
        "  score = tf.nn.softmax(predictions[0])  \n",
        "  return np.argmax(score)\n",
        "# Loop through all images in our test directory and make\n",
        "# a prediction\n",
        "testdir = pathlib.Path('/content/ML_class_final/test_imgs_1')\n",
        "image_paths = list(testdir.glob('*.jpg'))\n",
        "for image_path in image_paths:\n",
        "  prediction = predict_an_image(model, str(image_path))\n",
        "  print(image_path, prediction)"
      ],
      "execution_count": 25,
      "outputs": [
        {
          "output_type": "stream",
          "name": "stdout",
          "text": [
            "/content/ML_class_final/test_imgs_1/4123594620.jpg 4\n"
          ]
        },
        {
          "output_type": "display_data",
          "data": {
            "application/javascript": [
              "\n",
              "        if (window._pyforest_update_imports_cell) { window._pyforest_update_imports_cell('from sklearn.model_selection import cross_val_score\\nimport torch\\nimport bokeh\\nimport pandas as pd\\nimport numpy as np\\nimport matplotlib as mpl\\nfrom sklearn.feature_extraction.text import CountVectorizer\\nfrom sklearn.model_selection import train_test_split\\nfrom sklearn import metrics\\nimport tqdm\\nimport cv2\\nfrom statsmodels.tsa.arima_model import ARIMA\\nimport textblob\\nimport altair as alt'); }\n",
              "    "
            ],
            "text/plain": [
              "<IPython.core.display.Javascript object>"
            ]
          },
          "metadata": {}
        },
        {
          "output_type": "stream",
          "name": "stdout",
          "text": [
            "/content/ML_class_final/test_imgs_1/522535695.jpg 4\n"
          ]
        },
        {
          "output_type": "display_data",
          "data": {
            "application/javascript": [
              "\n",
              "        if (window._pyforest_update_imports_cell) { window._pyforest_update_imports_cell('from sklearn.model_selection import cross_val_score\\nimport torch\\nimport bokeh\\nimport pandas as pd\\nimport numpy as np\\nimport matplotlib as mpl\\nfrom sklearn.feature_extraction.text import CountVectorizer\\nfrom sklearn.model_selection import train_test_split\\nfrom sklearn import metrics\\nimport tqdm\\nimport cv2\\nfrom statsmodels.tsa.arima_model import ARIMA\\nimport textblob\\nimport altair as alt'); }\n",
              "    "
            ],
            "text/plain": [
              "<IPython.core.display.Javascript object>"
            ]
          },
          "metadata": {}
        },
        {
          "output_type": "stream",
          "name": "stdout",
          "text": [
            "/content/ML_class_final/test_imgs_1/330459705.jpg 4\n"
          ]
        },
        {
          "output_type": "display_data",
          "data": {
            "application/javascript": [
              "\n",
              "        if (window._pyforest_update_imports_cell) { window._pyforest_update_imports_cell('from sklearn.model_selection import cross_val_score\\nimport torch\\nimport bokeh\\nimport pandas as pd\\nimport numpy as np\\nimport matplotlib as mpl\\nfrom sklearn.feature_extraction.text import CountVectorizer\\nfrom sklearn.model_selection import train_test_split\\nfrom sklearn import metrics\\nimport tqdm\\nimport cv2\\nfrom statsmodels.tsa.arima_model import ARIMA\\nimport textblob\\nimport altair as alt'); }\n",
              "    "
            ],
            "text/plain": [
              "<IPython.core.display.Javascript object>"
            ]
          },
          "metadata": {}
        },
        {
          "output_type": "stream",
          "name": "stdout",
          "text": [
            "/content/ML_class_final/test_imgs_1/1331843412.jpg 4\n"
          ]
        },
        {
          "output_type": "display_data",
          "data": {
            "application/javascript": [
              "\n",
              "        if (window._pyforest_update_imports_cell) { window._pyforest_update_imports_cell('from sklearn.model_selection import cross_val_score\\nimport torch\\nimport bokeh\\nimport pandas as pd\\nimport numpy as np\\nimport matplotlib as mpl\\nfrom sklearn.feature_extraction.text import CountVectorizer\\nfrom sklearn.model_selection import train_test_split\\nfrom sklearn import metrics\\nimport tqdm\\nimport cv2\\nfrom statsmodels.tsa.arima_model import ARIMA\\nimport textblob\\nimport altair as alt'); }\n",
              "    "
            ],
            "text/plain": [
              "<IPython.core.display.Javascript object>"
            ]
          },
          "metadata": {}
        },
        {
          "output_type": "stream",
          "name": "stdout",
          "text": [
            "/content/ML_class_final/test_imgs_1/1099882902.jpg 4\n"
          ]
        },
        {
          "output_type": "display_data",
          "data": {
            "application/javascript": [
              "\n",
              "        if (window._pyforest_update_imports_cell) { window._pyforest_update_imports_cell('from sklearn.model_selection import cross_val_score\\nimport torch\\nimport bokeh\\nimport pandas as pd\\nimport numpy as np\\nimport matplotlib as mpl\\nfrom sklearn.feature_extraction.text import CountVectorizer\\nfrom sklearn.model_selection import train_test_split\\nfrom sklearn import metrics\\nimport tqdm\\nimport cv2\\nfrom statsmodels.tsa.arima_model import ARIMA\\nimport textblob\\nimport altair as alt'); }\n",
              "    "
            ],
            "text/plain": [
              "<IPython.core.display.Javascript object>"
            ]
          },
          "metadata": {}
        },
        {
          "output_type": "stream",
          "name": "stdout",
          "text": [
            "/content/ML_class_final/test_imgs_1/292358670.jpg 4\n"
          ]
        },
        {
          "output_type": "display_data",
          "data": {
            "application/javascript": [
              "\n",
              "        if (window._pyforest_update_imports_cell) { window._pyforest_update_imports_cell('from sklearn.model_selection import cross_val_score\\nimport torch\\nimport bokeh\\nimport pandas as pd\\nimport numpy as np\\nimport matplotlib as mpl\\nfrom sklearn.feature_extraction.text import CountVectorizer\\nfrom sklearn.model_selection import train_test_split\\nfrom sklearn import metrics\\nimport tqdm\\nimport cv2\\nfrom statsmodels.tsa.arima_model import ARIMA\\nimport textblob\\nimport altair as alt'); }\n",
              "    "
            ],
            "text/plain": [
              "<IPython.core.display.Javascript object>"
            ]
          },
          "metadata": {}
        },
        {
          "output_type": "stream",
          "name": "stdout",
          "text": [
            "/content/ML_class_final/test_imgs_1/2871262149.jpg 4\n"
          ]
        },
        {
          "output_type": "display_data",
          "data": {
            "application/javascript": [
              "\n",
              "        if (window._pyforest_update_imports_cell) { window._pyforest_update_imports_cell('from sklearn.model_selection import cross_val_score\\nimport torch\\nimport bokeh\\nimport pandas as pd\\nimport numpy as np\\nimport matplotlib as mpl\\nfrom sklearn.feature_extraction.text import CountVectorizer\\nfrom sklearn.model_selection import train_test_split\\nfrom sklearn import metrics\\nimport tqdm\\nimport cv2\\nfrom statsmodels.tsa.arima_model import ARIMA\\nimport textblob\\nimport altair as alt'); }\n",
              "    "
            ],
            "text/plain": [
              "<IPython.core.display.Javascript object>"
            ]
          },
          "metadata": {}
        },
        {
          "output_type": "stream",
          "name": "stdout",
          "text": [
            "/content/ML_class_final/test_imgs_1/989239917.jpg 3\n"
          ]
        },
        {
          "output_type": "display_data",
          "data": {
            "application/javascript": [
              "\n",
              "        if (window._pyforest_update_imports_cell) { window._pyforest_update_imports_cell('from sklearn.model_selection import cross_val_score\\nimport torch\\nimport bokeh\\nimport pandas as pd\\nimport numpy as np\\nimport matplotlib as mpl\\nfrom sklearn.feature_extraction.text import CountVectorizer\\nfrom sklearn.model_selection import train_test_split\\nfrom sklearn import metrics\\nimport tqdm\\nimport cv2\\nfrom statsmodels.tsa.arima_model import ARIMA\\nimport textblob\\nimport altair as alt'); }\n",
              "    "
            ],
            "text/plain": [
              "<IPython.core.display.Javascript object>"
            ]
          },
          "metadata": {}
        },
        {
          "output_type": "stream",
          "name": "stdout",
          "text": [
            "/content/ML_class_final/test_imgs_1/497021480.jpg 4\n"
          ]
        },
        {
          "output_type": "display_data",
          "data": {
            "application/javascript": [
              "\n",
              "        if (window._pyforest_update_imports_cell) { window._pyforest_update_imports_cell('from sklearn.model_selection import cross_val_score\\nimport torch\\nimport bokeh\\nimport pandas as pd\\nimport numpy as np\\nimport matplotlib as mpl\\nfrom sklearn.feature_extraction.text import CountVectorizer\\nfrom sklearn.model_selection import train_test_split\\nfrom sklearn import metrics\\nimport tqdm\\nimport cv2\\nfrom statsmodels.tsa.arima_model import ARIMA\\nimport textblob\\nimport altair as alt'); }\n",
              "    "
            ],
            "text/plain": [
              "<IPython.core.display.Javascript object>"
            ]
          },
          "metadata": {}
        },
        {
          "output_type": "stream",
          "name": "stdout",
          "text": [
            "/content/ML_class_final/test_imgs_1/3350054434.jpg 4\n"
          ]
        },
        {
          "output_type": "display_data",
          "data": {
            "application/javascript": [
              "\n",
              "        if (window._pyforest_update_imports_cell) { window._pyforest_update_imports_cell('from sklearn.model_selection import cross_val_score\\nimport torch\\nimport bokeh\\nimport pandas as pd\\nimport numpy as np\\nimport matplotlib as mpl\\nfrom sklearn.feature_extraction.text import CountVectorizer\\nfrom sklearn.model_selection import train_test_split\\nfrom sklearn import metrics\\nimport tqdm\\nimport cv2\\nfrom statsmodels.tsa.arima_model import ARIMA\\nimport textblob\\nimport altair as alt'); }\n",
              "    "
            ],
            "text/plain": [
              "<IPython.core.display.Javascript object>"
            ]
          },
          "metadata": {}
        },
        {
          "output_type": "stream",
          "name": "stdout",
          "text": [
            "/content/ML_class_final/test_imgs_1/3573249940.jpg 4\n"
          ]
        },
        {
          "output_type": "display_data",
          "data": {
            "application/javascript": [
              "\n",
              "        if (window._pyforest_update_imports_cell) { window._pyforest_update_imports_cell('from sklearn.model_selection import cross_val_score\\nimport torch\\nimport bokeh\\nimport pandas as pd\\nimport numpy as np\\nimport matplotlib as mpl\\nfrom sklearn.feature_extraction.text import CountVectorizer\\nfrom sklearn.model_selection import train_test_split\\nfrom sklearn import metrics\\nimport tqdm\\nimport cv2\\nfrom statsmodels.tsa.arima_model import ARIMA\\nimport textblob\\nimport altair as alt'); }\n",
              "    "
            ],
            "text/plain": [
              "<IPython.core.display.Javascript object>"
            ]
          },
          "metadata": {}
        },
        {
          "output_type": "stream",
          "name": "stdout",
          "text": [
            "/content/ML_class_final/test_imgs_1/3356448488.jpg 3\n"
          ]
        },
        {
          "output_type": "display_data",
          "data": {
            "application/javascript": [
              "\n",
              "        if (window._pyforest_update_imports_cell) { window._pyforest_update_imports_cell('from sklearn.model_selection import cross_val_score\\nimport torch\\nimport bokeh\\nimport pandas as pd\\nimport numpy as np\\nimport matplotlib as mpl\\nfrom sklearn.feature_extraction.text import CountVectorizer\\nfrom sklearn.model_selection import train_test_split\\nfrom sklearn import metrics\\nimport tqdm\\nimport cv2\\nfrom statsmodels.tsa.arima_model import ARIMA\\nimport textblob\\nimport altair as alt'); }\n",
              "    "
            ],
            "text/plain": [
              "<IPython.core.display.Javascript object>"
            ]
          },
          "metadata": {}
        },
        {
          "output_type": "stream",
          "name": "stdout",
          "text": [
            "/content/ML_class_final/test_imgs_1/3519124623.jpg 4\n"
          ]
        },
        {
          "output_type": "display_data",
          "data": {
            "application/javascript": [
              "\n",
              "        if (window._pyforest_update_imports_cell) { window._pyforest_update_imports_cell('from sklearn.model_selection import cross_val_score\\nimport torch\\nimport bokeh\\nimport pandas as pd\\nimport numpy as np\\nimport matplotlib as mpl\\nfrom sklearn.feature_extraction.text import CountVectorizer\\nfrom sklearn.model_selection import train_test_split\\nfrom sklearn import metrics\\nimport tqdm\\nimport cv2\\nfrom statsmodels.tsa.arima_model import ARIMA\\nimport textblob\\nimport altair as alt'); }\n",
              "    "
            ],
            "text/plain": [
              "<IPython.core.display.Javascript object>"
            ]
          },
          "metadata": {}
        },
        {
          "output_type": "stream",
          "name": "stdout",
          "text": [
            "/content/ML_class_final/test_imgs_1/3234847067.jpg 1\n"
          ]
        },
        {
          "output_type": "display_data",
          "data": {
            "application/javascript": [
              "\n",
              "        if (window._pyforest_update_imports_cell) { window._pyforest_update_imports_cell('from sklearn.model_selection import cross_val_score\\nimport torch\\nimport bokeh\\nimport pandas as pd\\nimport numpy as np\\nimport matplotlib as mpl\\nfrom sklearn.feature_extraction.text import CountVectorizer\\nfrom sklearn.model_selection import train_test_split\\nfrom sklearn import metrics\\nimport tqdm\\nimport cv2\\nfrom statsmodels.tsa.arima_model import ARIMA\\nimport textblob\\nimport altair as alt'); }\n",
              "    "
            ],
            "text/plain": [
              "<IPython.core.display.Javascript object>"
            ]
          },
          "metadata": {}
        },
        {
          "output_type": "stream",
          "name": "stdout",
          "text": [
            "/content/ML_class_final/test_imgs_1/689108493.jpg 4\n"
          ]
        },
        {
          "output_type": "display_data",
          "data": {
            "application/javascript": [
              "\n",
              "        if (window._pyforest_update_imports_cell) { window._pyforest_update_imports_cell('from sklearn.model_selection import cross_val_score\\nimport torch\\nimport bokeh\\nimport pandas as pd\\nimport numpy as np\\nimport matplotlib as mpl\\nfrom sklearn.feature_extraction.text import CountVectorizer\\nfrom sklearn.model_selection import train_test_split\\nfrom sklearn import metrics\\nimport tqdm\\nimport cv2\\nfrom statsmodels.tsa.arima_model import ARIMA\\nimport textblob\\nimport altair as alt'); }\n",
              "    "
            ],
            "text/plain": [
              "<IPython.core.display.Javascript object>"
            ]
          },
          "metadata": {}
        },
        {
          "output_type": "stream",
          "name": "stdout",
          "text": [
            "/content/ML_class_final/test_imgs_1/3628771349.jpg 4\n"
          ]
        },
        {
          "output_type": "display_data",
          "data": {
            "application/javascript": [
              "\n",
              "        if (window._pyforest_update_imports_cell) { window._pyforest_update_imports_cell('from sklearn.model_selection import cross_val_score\\nimport torch\\nimport bokeh\\nimport pandas as pd\\nimport numpy as np\\nimport matplotlib as mpl\\nfrom sklearn.feature_extraction.text import CountVectorizer\\nfrom sklearn.model_selection import train_test_split\\nfrom sklearn import metrics\\nimport tqdm\\nimport cv2\\nfrom statsmodels.tsa.arima_model import ARIMA\\nimport textblob\\nimport altair as alt'); }\n",
              "    "
            ],
            "text/plain": [
              "<IPython.core.display.Javascript object>"
            ]
          },
          "metadata": {}
        },
        {
          "output_type": "stream",
          "name": "stdout",
          "text": [
            "/content/ML_class_final/test_imgs_1/4177483982.jpg 4\n"
          ]
        },
        {
          "output_type": "display_data",
          "data": {
            "application/javascript": [
              "\n",
              "        if (window._pyforest_update_imports_cell) { window._pyforest_update_imports_cell('from sklearn.model_selection import cross_val_score\\nimport torch\\nimport bokeh\\nimport pandas as pd\\nimport numpy as np\\nimport matplotlib as mpl\\nfrom sklearn.feature_extraction.text import CountVectorizer\\nfrom sklearn.model_selection import train_test_split\\nfrom sklearn import metrics\\nimport tqdm\\nimport cv2\\nfrom statsmodels.tsa.arima_model import ARIMA\\nimport textblob\\nimport altair as alt'); }\n",
              "    "
            ],
            "text/plain": [
              "<IPython.core.display.Javascript object>"
            ]
          },
          "metadata": {}
        },
        {
          "output_type": "stream",
          "name": "stdout",
          "text": [
            "/content/ML_class_final/test_imgs_1/3468985035.jpg 1\n"
          ]
        },
        {
          "output_type": "display_data",
          "data": {
            "application/javascript": [
              "\n",
              "        if (window._pyforest_update_imports_cell) { window._pyforest_update_imports_cell('from sklearn.model_selection import cross_val_score\\nimport torch\\nimport bokeh\\nimport pandas as pd\\nimport numpy as np\\nimport matplotlib as mpl\\nfrom sklearn.feature_extraction.text import CountVectorizer\\nfrom sklearn.model_selection import train_test_split\\nfrom sklearn import metrics\\nimport tqdm\\nimport cv2\\nfrom statsmodels.tsa.arima_model import ARIMA\\nimport textblob\\nimport altair as alt'); }\n",
              "    "
            ],
            "text/plain": [
              "<IPython.core.display.Javascript object>"
            ]
          },
          "metadata": {}
        },
        {
          "output_type": "stream",
          "name": "stdout",
          "text": [
            "/content/ML_class_final/test_imgs_1/3939103661.jpg 1\n"
          ]
        },
        {
          "output_type": "display_data",
          "data": {
            "application/javascript": [
              "\n",
              "        if (window._pyforest_update_imports_cell) { window._pyforest_update_imports_cell('from sklearn.model_selection import cross_val_score\\nimport torch\\nimport bokeh\\nimport pandas as pd\\nimport numpy as np\\nimport matplotlib as mpl\\nfrom sklearn.feature_extraction.text import CountVectorizer\\nfrom sklearn.model_selection import train_test_split\\nfrom sklearn import metrics\\nimport tqdm\\nimport cv2\\nfrom statsmodels.tsa.arima_model import ARIMA\\nimport textblob\\nimport altair as alt'); }\n",
              "    "
            ],
            "text/plain": [
              "<IPython.core.display.Javascript object>"
            ]
          },
          "metadata": {}
        },
        {
          "output_type": "stream",
          "name": "stdout",
          "text": [
            "/content/ML_class_final/test_imgs_1/2051265559.jpg 4\n"
          ]
        },
        {
          "output_type": "display_data",
          "data": {
            "application/javascript": [
              "\n",
              "        if (window._pyforest_update_imports_cell) { window._pyforest_update_imports_cell('from sklearn.model_selection import cross_val_score\\nimport torch\\nimport bokeh\\nimport pandas as pd\\nimport numpy as np\\nimport matplotlib as mpl\\nfrom sklearn.feature_extraction.text import CountVectorizer\\nfrom sklearn.model_selection import train_test_split\\nfrom sklearn import metrics\\nimport tqdm\\nimport cv2\\nfrom statsmodels.tsa.arima_model import ARIMA\\nimport textblob\\nimport altair as alt'); }\n",
              "    "
            ],
            "text/plain": [
              "<IPython.core.display.Javascript object>"
            ]
          },
          "metadata": {}
        },
        {
          "output_type": "stream",
          "name": "stdout",
          "text": [
            "/content/ML_class_final/test_imgs_1/2156032648.jpg 1\n"
          ]
        },
        {
          "output_type": "display_data",
          "data": {
            "application/javascript": [
              "\n",
              "        if (window._pyforest_update_imports_cell) { window._pyforest_update_imports_cell('from sklearn.model_selection import cross_val_score\\nimport torch\\nimport bokeh\\nimport pandas as pd\\nimport numpy as np\\nimport matplotlib as mpl\\nfrom sklearn.feature_extraction.text import CountVectorizer\\nfrom sklearn.model_selection import train_test_split\\nfrom sklearn import metrics\\nimport tqdm\\nimport cv2\\nfrom statsmodels.tsa.arima_model import ARIMA\\nimport textblob\\nimport altair as alt'); }\n",
              "    "
            ],
            "text/plain": [
              "<IPython.core.display.Javascript object>"
            ]
          },
          "metadata": {}
        },
        {
          "output_type": "stream",
          "name": "stdout",
          "text": [
            "/content/ML_class_final/test_imgs_1/3858318600.jpg 4\n"
          ]
        },
        {
          "output_type": "display_data",
          "data": {
            "application/javascript": [
              "\n",
              "        if (window._pyforest_update_imports_cell) { window._pyforest_update_imports_cell('from sklearn.model_selection import cross_val_score\\nimport torch\\nimport bokeh\\nimport pandas as pd\\nimport numpy as np\\nimport matplotlib as mpl\\nfrom sklearn.feature_extraction.text import CountVectorizer\\nfrom sklearn.model_selection import train_test_split\\nfrom sklearn import metrics\\nimport tqdm\\nimport cv2\\nfrom statsmodels.tsa.arima_model import ARIMA\\nimport textblob\\nimport altair as alt'); }\n",
              "    "
            ],
            "text/plain": [
              "<IPython.core.display.Javascript object>"
            ]
          },
          "metadata": {}
        },
        {
          "output_type": "stream",
          "name": "stdout",
          "text": [
            "/content/ML_class_final/test_imgs_1/72640810.jpg 3\n"
          ]
        },
        {
          "output_type": "display_data",
          "data": {
            "application/javascript": [
              "\n",
              "        if (window._pyforest_update_imports_cell) { window._pyforest_update_imports_cell('from sklearn.model_selection import cross_val_score\\nimport torch\\nimport bokeh\\nimport pandas as pd\\nimport numpy as np\\nimport matplotlib as mpl\\nfrom sklearn.feature_extraction.text import CountVectorizer\\nfrom sklearn.model_selection import train_test_split\\nfrom sklearn import metrics\\nimport tqdm\\nimport cv2\\nfrom statsmodels.tsa.arima_model import ARIMA\\nimport textblob\\nimport altair as alt'); }\n",
              "    "
            ],
            "text/plain": [
              "<IPython.core.display.Javascript object>"
            ]
          },
          "metadata": {}
        },
        {
          "output_type": "stream",
          "name": "stdout",
          "text": [
            "/content/ML_class_final/test_imgs_1/194223136.jpg 4\n"
          ]
        },
        {
          "output_type": "display_data",
          "data": {
            "application/javascript": [
              "\n",
              "        if (window._pyforest_update_imports_cell) { window._pyforest_update_imports_cell('from sklearn.model_selection import cross_val_score\\nimport torch\\nimport bokeh\\nimport pandas as pd\\nimport numpy as np\\nimport matplotlib as mpl\\nfrom sklearn.feature_extraction.text import CountVectorizer\\nfrom sklearn.model_selection import train_test_split\\nfrom sklearn import metrics\\nimport tqdm\\nimport cv2\\nfrom statsmodels.tsa.arima_model import ARIMA\\nimport textblob\\nimport altair as alt'); }\n",
              "    "
            ],
            "text/plain": [
              "<IPython.core.display.Javascript object>"
            ]
          },
          "metadata": {}
        },
        {
          "output_type": "stream",
          "name": "stdout",
          "text": [
            "/content/ML_class_final/test_imgs_1/312043582.jpg 3\n"
          ]
        },
        {
          "output_type": "display_data",
          "data": {
            "application/javascript": [
              "\n",
              "        if (window._pyforest_update_imports_cell) { window._pyforest_update_imports_cell('from sklearn.model_selection import cross_val_score\\nimport torch\\nimport bokeh\\nimport pandas as pd\\nimport numpy as np\\nimport matplotlib as mpl\\nfrom sklearn.feature_extraction.text import CountVectorizer\\nfrom sklearn.model_selection import train_test_split\\nfrom sklearn import metrics\\nimport tqdm\\nimport cv2\\nfrom statsmodels.tsa.arima_model import ARIMA\\nimport textblob\\nimport altair as alt'); }\n",
              "    "
            ],
            "text/plain": [
              "<IPython.core.display.Javascript object>"
            ]
          },
          "metadata": {}
        },
        {
          "output_type": "stream",
          "name": "stdout",
          "text": [
            "/content/ML_class_final/test_imgs_1/2800762373.jpg 4\n"
          ]
        },
        {
          "output_type": "display_data",
          "data": {
            "application/javascript": [
              "\n",
              "        if (window._pyforest_update_imports_cell) { window._pyforest_update_imports_cell('from sklearn.model_selection import cross_val_score\\nimport torch\\nimport bokeh\\nimport pandas as pd\\nimport numpy as np\\nimport matplotlib as mpl\\nfrom sklearn.feature_extraction.text import CountVectorizer\\nfrom sklearn.model_selection import train_test_split\\nfrom sklearn import metrics\\nimport tqdm\\nimport cv2\\nfrom statsmodels.tsa.arima_model import ARIMA\\nimport textblob\\nimport altair as alt'); }\n",
              "    "
            ],
            "text/plain": [
              "<IPython.core.display.Javascript object>"
            ]
          },
          "metadata": {}
        },
        {
          "output_type": "stream",
          "name": "stdout",
          "text": [
            "/content/ML_class_final/test_imgs_1/4006771974.jpg 3\n"
          ]
        },
        {
          "output_type": "display_data",
          "data": {
            "application/javascript": [
              "\n",
              "        if (window._pyforest_update_imports_cell) { window._pyforest_update_imports_cell('from sklearn.model_selection import cross_val_score\\nimport torch\\nimport bokeh\\nimport pandas as pd\\nimport numpy as np\\nimport matplotlib as mpl\\nfrom sklearn.feature_extraction.text import CountVectorizer\\nfrom sklearn.model_selection import train_test_split\\nfrom sklearn import metrics\\nimport tqdm\\nimport cv2\\nfrom statsmodels.tsa.arima_model import ARIMA\\nimport textblob\\nimport altair as alt'); }\n",
              "    "
            ],
            "text/plain": [
              "<IPython.core.display.Javascript object>"
            ]
          },
          "metadata": {}
        },
        {
          "output_type": "stream",
          "name": "stdout",
          "text": [
            "/content/ML_class_final/test_imgs_1/353070250.jpg 3\n"
          ]
        },
        {
          "output_type": "display_data",
          "data": {
            "application/javascript": [
              "\n",
              "        if (window._pyforest_update_imports_cell) { window._pyforest_update_imports_cell('from sklearn.model_selection import cross_val_score\\nimport torch\\nimport bokeh\\nimport pandas as pd\\nimport numpy as np\\nimport matplotlib as mpl\\nfrom sklearn.feature_extraction.text import CountVectorizer\\nfrom sklearn.model_selection import train_test_split\\nfrom sklearn import metrics\\nimport tqdm\\nimport cv2\\nfrom statsmodels.tsa.arima_model import ARIMA\\nimport textblob\\nimport altair as alt'); }\n",
              "    "
            ],
            "text/plain": [
              "<IPython.core.display.Javascript object>"
            ]
          },
          "metadata": {}
        },
        {
          "output_type": "stream",
          "name": "stdout",
          "text": [
            "/content/ML_class_final/test_imgs_1/290867441.jpg 1\n"
          ]
        },
        {
          "output_type": "display_data",
          "data": {
            "application/javascript": [
              "\n",
              "        if (window._pyforest_update_imports_cell) { window._pyforest_update_imports_cell('from sklearn.model_selection import cross_val_score\\nimport torch\\nimport bokeh\\nimport pandas as pd\\nimport numpy as np\\nimport matplotlib as mpl\\nfrom sklearn.feature_extraction.text import CountVectorizer\\nfrom sklearn.model_selection import train_test_split\\nfrom sklearn import metrics\\nimport tqdm\\nimport cv2\\nfrom statsmodels.tsa.arima_model import ARIMA\\nimport textblob\\nimport altair as alt'); }\n",
              "    "
            ],
            "text/plain": [
              "<IPython.core.display.Javascript object>"
            ]
          },
          "metadata": {}
        },
        {
          "output_type": "stream",
          "name": "stdout",
          "text": [
            "/content/ML_class_final/test_imgs_1/1768545420.jpg 3\n"
          ]
        },
        {
          "output_type": "display_data",
          "data": {
            "application/javascript": [
              "\n",
              "        if (window._pyforest_update_imports_cell) { window._pyforest_update_imports_cell('from sklearn.model_selection import cross_val_score\\nimport torch\\nimport bokeh\\nimport pandas as pd\\nimport numpy as np\\nimport matplotlib as mpl\\nfrom sklearn.feature_extraction.text import CountVectorizer\\nfrom sklearn.model_selection import train_test_split\\nfrom sklearn import metrics\\nimport tqdm\\nimport cv2\\nfrom statsmodels.tsa.arima_model import ARIMA\\nimport textblob\\nimport altair as alt'); }\n",
              "    "
            ],
            "text/plain": [
              "<IPython.core.display.Javascript object>"
            ]
          },
          "metadata": {}
        },
        {
          "output_type": "stream",
          "name": "stdout",
          "text": [
            "/content/ML_class_final/test_imgs_1/4223665750.jpg 1\n"
          ]
        },
        {
          "output_type": "display_data",
          "data": {
            "application/javascript": [
              "\n",
              "        if (window._pyforest_update_imports_cell) { window._pyforest_update_imports_cell('from sklearn.model_selection import cross_val_score\\nimport torch\\nimport bokeh\\nimport pandas as pd\\nimport numpy as np\\nimport matplotlib as mpl\\nfrom sklearn.feature_extraction.text import CountVectorizer\\nfrom sklearn.model_selection import train_test_split\\nfrom sklearn import metrics\\nimport tqdm\\nimport cv2\\nfrom statsmodels.tsa.arima_model import ARIMA\\nimport textblob\\nimport altair as alt'); }\n",
              "    "
            ],
            "text/plain": [
              "<IPython.core.display.Javascript object>"
            ]
          },
          "metadata": {}
        },
        {
          "output_type": "stream",
          "name": "stdout",
          "text": [
            "/content/ML_class_final/test_imgs_1/3484015955.jpg 3\n"
          ]
        },
        {
          "output_type": "display_data",
          "data": {
            "application/javascript": [
              "\n",
              "        if (window._pyforest_update_imports_cell) { window._pyforest_update_imports_cell('from sklearn.model_selection import cross_val_score\\nimport torch\\nimport bokeh\\nimport pandas as pd\\nimport numpy as np\\nimport matplotlib as mpl\\nfrom sklearn.feature_extraction.text import CountVectorizer\\nfrom sklearn.model_selection import train_test_split\\nfrom sklearn import metrics\\nimport tqdm\\nimport cv2\\nfrom statsmodels.tsa.arima_model import ARIMA\\nimport textblob\\nimport altair as alt'); }\n",
              "    "
            ],
            "text/plain": [
              "<IPython.core.display.Javascript object>"
            ]
          },
          "metadata": {}
        },
        {
          "output_type": "stream",
          "name": "stdout",
          "text": [
            "/content/ML_class_final/test_imgs_1/1827562232.jpg 3\n"
          ]
        },
        {
          "output_type": "display_data",
          "data": {
            "application/javascript": [
              "\n",
              "        if (window._pyforest_update_imports_cell) { window._pyforest_update_imports_cell('from sklearn.model_selection import cross_val_score\\nimport torch\\nimport bokeh\\nimport pandas as pd\\nimport numpy as np\\nimport matplotlib as mpl\\nfrom sklearn.feature_extraction.text import CountVectorizer\\nfrom sklearn.model_selection import train_test_split\\nfrom sklearn import metrics\\nimport tqdm\\nimport cv2\\nfrom statsmodels.tsa.arima_model import ARIMA\\nimport textblob\\nimport altair as alt'); }\n",
              "    "
            ],
            "text/plain": [
              "<IPython.core.display.Javascript object>"
            ]
          },
          "metadata": {}
        },
        {
          "output_type": "stream",
          "name": "stdout",
          "text": [
            "/content/ML_class_final/test_imgs_1/2520536047.jpg 4\n"
          ]
        },
        {
          "output_type": "display_data",
          "data": {
            "application/javascript": [
              "\n",
              "        if (window._pyforest_update_imports_cell) { window._pyforest_update_imports_cell('from sklearn.model_selection import cross_val_score\\nimport torch\\nimport bokeh\\nimport pandas as pd\\nimport numpy as np\\nimport matplotlib as mpl\\nfrom sklearn.feature_extraction.text import CountVectorizer\\nfrom sklearn.model_selection import train_test_split\\nfrom sklearn import metrics\\nimport tqdm\\nimport cv2\\nfrom statsmodels.tsa.arima_model import ARIMA\\nimport textblob\\nimport altair as alt'); }\n",
              "    "
            ],
            "text/plain": [
              "<IPython.core.display.Javascript object>"
            ]
          },
          "metadata": {}
        },
        {
          "output_type": "stream",
          "name": "stdout",
          "text": [
            "/content/ML_class_final/test_imgs_1/2323982153.jpg 4\n"
          ]
        },
        {
          "output_type": "display_data",
          "data": {
            "application/javascript": [
              "\n",
              "        if (window._pyforest_update_imports_cell) { window._pyforest_update_imports_cell('from sklearn.model_selection import cross_val_score\\nimport torch\\nimport bokeh\\nimport pandas as pd\\nimport numpy as np\\nimport matplotlib as mpl\\nfrom sklearn.feature_extraction.text import CountVectorizer\\nfrom sklearn.model_selection import train_test_split\\nfrom sklearn import metrics\\nimport tqdm\\nimport cv2\\nfrom statsmodels.tsa.arima_model import ARIMA\\nimport textblob\\nimport altair as alt'); }\n",
              "    "
            ],
            "text/plain": [
              "<IPython.core.display.Javascript object>"
            ]
          },
          "metadata": {}
        },
        {
          "output_type": "stream",
          "name": "stdout",
          "text": [
            "/content/ML_class_final/test_imgs_1/3571158038.jpg 1\n"
          ]
        },
        {
          "output_type": "display_data",
          "data": {
            "application/javascript": [
              "\n",
              "        if (window._pyforest_update_imports_cell) { window._pyforest_update_imports_cell('from sklearn.model_selection import cross_val_score\\nimport torch\\nimport bokeh\\nimport pandas as pd\\nimport numpy as np\\nimport matplotlib as mpl\\nfrom sklearn.feature_extraction.text import CountVectorizer\\nfrom sklearn.model_selection import train_test_split\\nfrom sklearn import metrics\\nimport tqdm\\nimport cv2\\nfrom statsmodels.tsa.arima_model import ARIMA\\nimport textblob\\nimport altair as alt'); }\n",
              "    "
            ],
            "text/plain": [
              "<IPython.core.display.Javascript object>"
            ]
          },
          "metadata": {}
        },
        {
          "output_type": "stream",
          "name": "stdout",
          "text": [
            "/content/ML_class_final/test_imgs_1/3834284991.jpg 0\n"
          ]
        },
        {
          "output_type": "display_data",
          "data": {
            "application/javascript": [
              "\n",
              "        if (window._pyforest_update_imports_cell) { window._pyforest_update_imports_cell('from sklearn.model_selection import cross_val_score\\nimport torch\\nimport bokeh\\nimport pandas as pd\\nimport numpy as np\\nimport matplotlib as mpl\\nfrom sklearn.feature_extraction.text import CountVectorizer\\nfrom sklearn.model_selection import train_test_split\\nfrom sklearn import metrics\\nimport tqdm\\nimport cv2\\nfrom statsmodels.tsa.arima_model import ARIMA\\nimport textblob\\nimport altair as alt'); }\n",
              "    "
            ],
            "text/plain": [
              "<IPython.core.display.Javascript object>"
            ]
          },
          "metadata": {}
        },
        {
          "output_type": "stream",
          "name": "stdout",
          "text": [
            "/content/ML_class_final/test_imgs_1/3028711047.jpg 4\n"
          ]
        },
        {
          "output_type": "display_data",
          "data": {
            "application/javascript": [
              "\n",
              "        if (window._pyforest_update_imports_cell) { window._pyforest_update_imports_cell('from sklearn.model_selection import cross_val_score\\nimport torch\\nimport bokeh\\nimport pandas as pd\\nimport numpy as np\\nimport matplotlib as mpl\\nfrom sklearn.feature_extraction.text import CountVectorizer\\nfrom sklearn.model_selection import train_test_split\\nfrom sklearn import metrics\\nimport tqdm\\nimport cv2\\nfrom statsmodels.tsa.arima_model import ARIMA\\nimport textblob\\nimport altair as alt'); }\n",
              "    "
            ],
            "text/plain": [
              "<IPython.core.display.Javascript object>"
            ]
          },
          "metadata": {}
        },
        {
          "output_type": "stream",
          "name": "stdout",
          "text": [
            "/content/ML_class_final/test_imgs_1/290569488.jpg 3\n"
          ]
        },
        {
          "output_type": "display_data",
          "data": {
            "application/javascript": [
              "\n",
              "        if (window._pyforest_update_imports_cell) { window._pyforest_update_imports_cell('from sklearn.model_selection import cross_val_score\\nimport torch\\nimport bokeh\\nimport pandas as pd\\nimport numpy as np\\nimport matplotlib as mpl\\nfrom sklearn.feature_extraction.text import CountVectorizer\\nfrom sklearn.model_selection import train_test_split\\nfrom sklearn import metrics\\nimport tqdm\\nimport cv2\\nfrom statsmodels.tsa.arima_model import ARIMA\\nimport textblob\\nimport altair as alt'); }\n",
              "    "
            ],
            "text/plain": [
              "<IPython.core.display.Javascript object>"
            ]
          },
          "metadata": {}
        },
        {
          "output_type": "stream",
          "name": "stdout",
          "text": [
            "/content/ML_class_final/test_imgs_1/753116208.jpg 3\n"
          ]
        },
        {
          "output_type": "display_data",
          "data": {
            "application/javascript": [
              "\n",
              "        if (window._pyforest_update_imports_cell) { window._pyforest_update_imports_cell('from sklearn.model_selection import cross_val_score\\nimport torch\\nimport bokeh\\nimport pandas as pd\\nimport numpy as np\\nimport matplotlib as mpl\\nfrom sklearn.feature_extraction.text import CountVectorizer\\nfrom sklearn.model_selection import train_test_split\\nfrom sklearn import metrics\\nimport tqdm\\nimport cv2\\nfrom statsmodels.tsa.arima_model import ARIMA\\nimport textblob\\nimport altair as alt'); }\n",
              "    "
            ],
            "text/plain": [
              "<IPython.core.display.Javascript object>"
            ]
          },
          "metadata": {}
        },
        {
          "output_type": "stream",
          "name": "stdout",
          "text": [
            "/content/ML_class_final/test_imgs_1/2257377706.jpg 3\n"
          ]
        },
        {
          "output_type": "display_data",
          "data": {
            "application/javascript": [
              "\n",
              "        if (window._pyforest_update_imports_cell) { window._pyforest_update_imports_cell('from sklearn.model_selection import cross_val_score\\nimport torch\\nimport bokeh\\nimport pandas as pd\\nimport numpy as np\\nimport matplotlib as mpl\\nfrom sklearn.feature_extraction.text import CountVectorizer\\nfrom sklearn.model_selection import train_test_split\\nfrom sklearn import metrics\\nimport tqdm\\nimport cv2\\nfrom statsmodels.tsa.arima_model import ARIMA\\nimport textblob\\nimport altair as alt'); }\n",
              "    "
            ],
            "text/plain": [
              "<IPython.core.display.Javascript object>"
            ]
          },
          "metadata": {}
        },
        {
          "output_type": "stream",
          "name": "stdout",
          "text": [
            "/content/ML_class_final/test_imgs_1/1915044107.jpg 4\n"
          ]
        },
        {
          "output_type": "display_data",
          "data": {
            "application/javascript": [
              "\n",
              "        if (window._pyforest_update_imports_cell) { window._pyforest_update_imports_cell('from sklearn.model_selection import cross_val_score\\nimport torch\\nimport bokeh\\nimport pandas as pd\\nimport numpy as np\\nimport matplotlib as mpl\\nfrom sklearn.feature_extraction.text import CountVectorizer\\nfrom sklearn.model_selection import train_test_split\\nfrom sklearn import metrics\\nimport tqdm\\nimport cv2\\nfrom statsmodels.tsa.arima_model import ARIMA\\nimport textblob\\nimport altair as alt'); }\n",
              "    "
            ],
            "text/plain": [
              "<IPython.core.display.Javascript object>"
            ]
          },
          "metadata": {}
        },
        {
          "output_type": "stream",
          "name": "stdout",
          "text": [
            "/content/ML_class_final/test_imgs_1/2149893988.jpg 4\n"
          ]
        },
        {
          "output_type": "display_data",
          "data": {
            "application/javascript": [
              "\n",
              "        if (window._pyforest_update_imports_cell) { window._pyforest_update_imports_cell('from sklearn.model_selection import cross_val_score\\nimport torch\\nimport bokeh\\nimport pandas as pd\\nimport numpy as np\\nimport matplotlib as mpl\\nfrom sklearn.feature_extraction.text import CountVectorizer\\nfrom sklearn.model_selection import train_test_split\\nfrom sklearn import metrics\\nimport tqdm\\nimport cv2\\nfrom statsmodels.tsa.arima_model import ARIMA\\nimport textblob\\nimport altair as alt'); }\n",
              "    "
            ],
            "text/plain": [
              "<IPython.core.display.Javascript object>"
            ]
          },
          "metadata": {}
        },
        {
          "output_type": "stream",
          "name": "stdout",
          "text": [
            "/content/ML_class_final/test_imgs_1/734701008.jpg 4\n"
          ]
        },
        {
          "output_type": "display_data",
          "data": {
            "application/javascript": [
              "\n",
              "        if (window._pyforest_update_imports_cell) { window._pyforest_update_imports_cell('from sklearn.model_selection import cross_val_score\\nimport torch\\nimport bokeh\\nimport pandas as pd\\nimport numpy as np\\nimport matplotlib as mpl\\nfrom sklearn.feature_extraction.text import CountVectorizer\\nfrom sklearn.model_selection import train_test_split\\nfrom sklearn import metrics\\nimport tqdm\\nimport cv2\\nfrom statsmodels.tsa.arima_model import ARIMA\\nimport textblob\\nimport altair as alt'); }\n",
              "    "
            ],
            "text/plain": [
              "<IPython.core.display.Javascript object>"
            ]
          },
          "metadata": {}
        },
        {
          "output_type": "stream",
          "name": "stdout",
          "text": [
            "/content/ML_class_final/test_imgs_1/657935270.jpg 4\n"
          ]
        },
        {
          "output_type": "display_data",
          "data": {
            "application/javascript": [
              "\n",
              "        if (window._pyforest_update_imports_cell) { window._pyforest_update_imports_cell('from sklearn.model_selection import cross_val_score\\nimport torch\\nimport bokeh\\nimport pandas as pd\\nimport numpy as np\\nimport matplotlib as mpl\\nfrom sklearn.feature_extraction.text import CountVectorizer\\nfrom sklearn.model_selection import train_test_split\\nfrom sklearn import metrics\\nimport tqdm\\nimport cv2\\nfrom statsmodels.tsa.arima_model import ARIMA\\nimport textblob\\nimport altair as alt'); }\n",
              "    "
            ],
            "text/plain": [
              "<IPython.core.display.Javascript object>"
            ]
          },
          "metadata": {}
        },
        {
          "output_type": "stream",
          "name": "stdout",
          "text": [
            "/content/ML_class_final/test_imgs_1/4001352115.jpg 4\n"
          ]
        },
        {
          "output_type": "display_data",
          "data": {
            "application/javascript": [
              "\n",
              "        if (window._pyforest_update_imports_cell) { window._pyforest_update_imports_cell('from sklearn.model_selection import cross_val_score\\nimport torch\\nimport bokeh\\nimport pandas as pd\\nimport numpy as np\\nimport matplotlib as mpl\\nfrom sklearn.feature_extraction.text import CountVectorizer\\nfrom sklearn.model_selection import train_test_split\\nfrom sklearn import metrics\\nimport tqdm\\nimport cv2\\nfrom statsmodels.tsa.arima_model import ARIMA\\nimport textblob\\nimport altair as alt'); }\n",
              "    "
            ],
            "text/plain": [
              "<IPython.core.display.Javascript object>"
            ]
          },
          "metadata": {}
        },
        {
          "output_type": "stream",
          "name": "stdout",
          "text": [
            "/content/ML_class_final/test_imgs_1/3134495079.jpg 4\n"
          ]
        },
        {
          "output_type": "display_data",
          "data": {
            "application/javascript": [
              "\n",
              "        if (window._pyforest_update_imports_cell) { window._pyforest_update_imports_cell('from sklearn.model_selection import cross_val_score\\nimport torch\\nimport bokeh\\nimport pandas as pd\\nimport numpy as np\\nimport matplotlib as mpl\\nfrom sklearn.feature_extraction.text import CountVectorizer\\nfrom sklearn.model_selection import train_test_split\\nfrom sklearn import metrics\\nimport tqdm\\nimport cv2\\nfrom statsmodels.tsa.arima_model import ARIMA\\nimport textblob\\nimport altair as alt'); }\n",
              "    "
            ],
            "text/plain": [
              "<IPython.core.display.Javascript object>"
            ]
          },
          "metadata": {}
        },
        {
          "output_type": "stream",
          "name": "stdout",
          "text": [
            "/content/ML_class_final/test_imgs_1/698646619.jpg 4\n"
          ]
        },
        {
          "output_type": "display_data",
          "data": {
            "application/javascript": [
              "\n",
              "        if (window._pyforest_update_imports_cell) { window._pyforest_update_imports_cell('from sklearn.model_selection import cross_val_score\\nimport torch\\nimport bokeh\\nimport pandas as pd\\nimport numpy as np\\nimport matplotlib as mpl\\nfrom sklearn.feature_extraction.text import CountVectorizer\\nfrom sklearn.model_selection import train_test_split\\nfrom sklearn import metrics\\nimport tqdm\\nimport cv2\\nfrom statsmodels.tsa.arima_model import ARIMA\\nimport textblob\\nimport altair as alt'); }\n",
              "    "
            ],
            "text/plain": [
              "<IPython.core.display.Javascript object>"
            ]
          },
          "metadata": {}
        },
        {
          "output_type": "stream",
          "name": "stdout",
          "text": [
            "/content/ML_class_final/test_imgs_1/1610546537.jpg 4\n"
          ]
        },
        {
          "output_type": "display_data",
          "data": {
            "application/javascript": [
              "\n",
              "        if (window._pyforest_update_imports_cell) { window._pyforest_update_imports_cell('from sklearn.model_selection import cross_val_score\\nimport torch\\nimport bokeh\\nimport pandas as pd\\nimport numpy as np\\nimport matplotlib as mpl\\nfrom sklearn.feature_extraction.text import CountVectorizer\\nfrom sklearn.model_selection import train_test_split\\nfrom sklearn import metrics\\nimport tqdm\\nimport cv2\\nfrom statsmodels.tsa.arima_model import ARIMA\\nimport textblob\\nimport altair as alt'); }\n",
              "    "
            ],
            "text/plain": [
              "<IPython.core.display.Javascript object>"
            ]
          },
          "metadata": {}
        },
        {
          "output_type": "stream",
          "name": "stdout",
          "text": [
            "/content/ML_class_final/test_imgs_1/2051638455.jpg 3\n"
          ]
        },
        {
          "output_type": "display_data",
          "data": {
            "application/javascript": [
              "\n",
              "        if (window._pyforest_update_imports_cell) { window._pyforest_update_imports_cell('from sklearn.model_selection import cross_val_score\\nimport torch\\nimport bokeh\\nimport pandas as pd\\nimport numpy as np\\nimport matplotlib as mpl\\nfrom sklearn.feature_extraction.text import CountVectorizer\\nfrom sklearn.model_selection import train_test_split\\nfrom sklearn import metrics\\nimport tqdm\\nimport cv2\\nfrom statsmodels.tsa.arima_model import ARIMA\\nimport textblob\\nimport altair as alt'); }\n",
              "    "
            ],
            "text/plain": [
              "<IPython.core.display.Javascript object>"
            ]
          },
          "metadata": {}
        },
        {
          "output_type": "stream",
          "name": "stdout",
          "text": [
            "/content/ML_class_final/test_imgs_1/1745794549.jpg 4\n"
          ]
        },
        {
          "output_type": "display_data",
          "data": {
            "application/javascript": [
              "\n",
              "        if (window._pyforest_update_imports_cell) { window._pyforest_update_imports_cell('from sklearn.model_selection import cross_val_score\\nimport torch\\nimport bokeh\\nimport pandas as pd\\nimport numpy as np\\nimport matplotlib as mpl\\nfrom sklearn.feature_extraction.text import CountVectorizer\\nfrom sklearn.model_selection import train_test_split\\nfrom sklearn import metrics\\nimport tqdm\\nimport cv2\\nfrom statsmodels.tsa.arima_model import ARIMA\\nimport textblob\\nimport altair as alt'); }\n",
              "    "
            ],
            "text/plain": [
              "<IPython.core.display.Javascript object>"
            ]
          },
          "metadata": {}
        },
        {
          "output_type": "stream",
          "name": "stdout",
          "text": [
            "/content/ML_class_final/test_imgs_1/2536523120.jpg 4\n"
          ]
        },
        {
          "output_type": "display_data",
          "data": {
            "application/javascript": [
              "\n",
              "        if (window._pyforest_update_imports_cell) { window._pyforest_update_imports_cell('from sklearn.model_selection import cross_val_score\\nimport torch\\nimport bokeh\\nimport pandas as pd\\nimport numpy as np\\nimport matplotlib as mpl\\nfrom sklearn.feature_extraction.text import CountVectorizer\\nfrom sklearn.model_selection import train_test_split\\nfrom sklearn import metrics\\nimport tqdm\\nimport cv2\\nfrom statsmodels.tsa.arima_model import ARIMA\\nimport textblob\\nimport altair as alt'); }\n",
              "    "
            ],
            "text/plain": [
              "<IPython.core.display.Javascript object>"
            ]
          },
          "metadata": {}
        },
        {
          "output_type": "stream",
          "name": "stdout",
          "text": [
            "/content/ML_class_final/test_imgs_1/2052664728.jpg 1\n"
          ]
        },
        {
          "output_type": "display_data",
          "data": {
            "application/javascript": [
              "\n",
              "        if (window._pyforest_update_imports_cell) { window._pyforest_update_imports_cell('from sklearn.model_selection import cross_val_score\\nimport torch\\nimport bokeh\\nimport pandas as pd\\nimport numpy as np\\nimport matplotlib as mpl\\nfrom sklearn.feature_extraction.text import CountVectorizer\\nfrom sklearn.model_selection import train_test_split\\nfrom sklearn import metrics\\nimport tqdm\\nimport cv2\\nfrom statsmodels.tsa.arima_model import ARIMA\\nimport textblob\\nimport altair as alt'); }\n",
              "    "
            ],
            "text/plain": [
              "<IPython.core.display.Javascript object>"
            ]
          },
          "metadata": {}
        },
        {
          "output_type": "stream",
          "name": "stdout",
          "text": [
            "/content/ML_class_final/test_imgs_1/3041990872.jpg 1\n"
          ]
        },
        {
          "output_type": "display_data",
          "data": {
            "application/javascript": [
              "\n",
              "        if (window._pyforest_update_imports_cell) { window._pyforest_update_imports_cell('from sklearn.model_selection import cross_val_score\\nimport torch\\nimport bokeh\\nimport pandas as pd\\nimport numpy as np\\nimport matplotlib as mpl\\nfrom sklearn.feature_extraction.text import CountVectorizer\\nfrom sklearn.model_selection import train_test_split\\nfrom sklearn import metrics\\nimport tqdm\\nimport cv2\\nfrom statsmodels.tsa.arima_model import ARIMA\\nimport textblob\\nimport altair as alt'); }\n",
              "    "
            ],
            "text/plain": [
              "<IPython.core.display.Javascript object>"
            ]
          },
          "metadata": {}
        },
        {
          "output_type": "stream",
          "name": "stdout",
          "text": [
            "/content/ML_class_final/test_imgs_1/3705669883.jpg 1\n"
          ]
        },
        {
          "output_type": "display_data",
          "data": {
            "application/javascript": [
              "\n",
              "        if (window._pyforest_update_imports_cell) { window._pyforest_update_imports_cell('from sklearn.model_selection import cross_val_score\\nimport torch\\nimport bokeh\\nimport pandas as pd\\nimport numpy as np\\nimport matplotlib as mpl\\nfrom sklearn.feature_extraction.text import CountVectorizer\\nfrom sklearn.model_selection import train_test_split\\nfrom sklearn import metrics\\nimport tqdm\\nimport cv2\\nfrom statsmodels.tsa.arima_model import ARIMA\\nimport textblob\\nimport altair as alt'); }\n",
              "    "
            ],
            "text/plain": [
              "<IPython.core.display.Javascript object>"
            ]
          },
          "metadata": {}
        },
        {
          "output_type": "stream",
          "name": "stdout",
          "text": [
            "/content/ML_class_final/test_imgs_1/3159203508.jpg 2\n"
          ]
        },
        {
          "output_type": "display_data",
          "data": {
            "application/javascript": [
              "\n",
              "        if (window._pyforest_update_imports_cell) { window._pyforest_update_imports_cell('from sklearn.model_selection import cross_val_score\\nimport torch\\nimport bokeh\\nimport pandas as pd\\nimport numpy as np\\nimport matplotlib as mpl\\nfrom sklearn.feature_extraction.text import CountVectorizer\\nfrom sklearn.model_selection import train_test_split\\nfrom sklearn import metrics\\nimport tqdm\\nimport cv2\\nfrom statsmodels.tsa.arima_model import ARIMA\\nimport textblob\\nimport altair as alt'); }\n",
              "    "
            ],
            "text/plain": [
              "<IPython.core.display.Javascript object>"
            ]
          },
          "metadata": {}
        },
        {
          "output_type": "stream",
          "name": "stdout",
          "text": [
            "/content/ML_class_final/test_imgs_1/938595992.jpg 3\n"
          ]
        },
        {
          "output_type": "display_data",
          "data": {
            "application/javascript": [
              "\n",
              "        if (window._pyforest_update_imports_cell) { window._pyforest_update_imports_cell('from sklearn.model_selection import cross_val_score\\nimport torch\\nimport bokeh\\nimport pandas as pd\\nimport numpy as np\\nimport matplotlib as mpl\\nfrom sklearn.feature_extraction.text import CountVectorizer\\nfrom sklearn.model_selection import train_test_split\\nfrom sklearn import metrics\\nimport tqdm\\nimport cv2\\nfrom statsmodels.tsa.arima_model import ARIMA\\nimport textblob\\nimport altair as alt'); }\n",
              "    "
            ],
            "text/plain": [
              "<IPython.core.display.Javascript object>"
            ]
          },
          "metadata": {}
        },
        {
          "output_type": "stream",
          "name": "stdout",
          "text": [
            "/content/ML_class_final/test_imgs_1/1908179787.jpg 4\n"
          ]
        },
        {
          "output_type": "display_data",
          "data": {
            "application/javascript": [
              "\n",
              "        if (window._pyforest_update_imports_cell) { window._pyforest_update_imports_cell('from sklearn.model_selection import cross_val_score\\nimport torch\\nimport bokeh\\nimport pandas as pd\\nimport numpy as np\\nimport matplotlib as mpl\\nfrom sklearn.feature_extraction.text import CountVectorizer\\nfrom sklearn.model_selection import train_test_split\\nfrom sklearn import metrics\\nimport tqdm\\nimport cv2\\nfrom statsmodels.tsa.arima_model import ARIMA\\nimport textblob\\nimport altair as alt'); }\n",
              "    "
            ],
            "text/plain": [
              "<IPython.core.display.Javascript object>"
            ]
          },
          "metadata": {}
        },
        {
          "output_type": "stream",
          "name": "stdout",
          "text": [
            "/content/ML_class_final/test_imgs_1/1176362801.jpg 1\n"
          ]
        },
        {
          "output_type": "display_data",
          "data": {
            "application/javascript": [
              "\n",
              "        if (window._pyforest_update_imports_cell) { window._pyforest_update_imports_cell('from sklearn.model_selection import cross_val_score\\nimport torch\\nimport bokeh\\nimport pandas as pd\\nimport numpy as np\\nimport matplotlib as mpl\\nfrom sklearn.feature_extraction.text import CountVectorizer\\nfrom sklearn.model_selection import train_test_split\\nfrom sklearn import metrics\\nimport tqdm\\nimport cv2\\nfrom statsmodels.tsa.arima_model import ARIMA\\nimport textblob\\nimport altair as alt'); }\n",
              "    "
            ],
            "text/plain": [
              "<IPython.core.display.Javascript object>"
            ]
          },
          "metadata": {}
        },
        {
          "output_type": "stream",
          "name": "stdout",
          "text": [
            "/content/ML_class_final/test_imgs_1/139601932.jpg 1\n"
          ]
        },
        {
          "output_type": "display_data",
          "data": {
            "application/javascript": [
              "\n",
              "        if (window._pyforest_update_imports_cell) { window._pyforest_update_imports_cell('from sklearn.model_selection import cross_val_score\\nimport torch\\nimport bokeh\\nimport pandas as pd\\nimport numpy as np\\nimport matplotlib as mpl\\nfrom sklearn.feature_extraction.text import CountVectorizer\\nfrom sklearn.model_selection import train_test_split\\nfrom sklearn import metrics\\nimport tqdm\\nimport cv2\\nfrom statsmodels.tsa.arima_model import ARIMA\\nimport textblob\\nimport altair as alt'); }\n",
              "    "
            ],
            "text/plain": [
              "<IPython.core.display.Javascript object>"
            ]
          },
          "metadata": {}
        },
        {
          "output_type": "stream",
          "name": "stdout",
          "text": [
            "/content/ML_class_final/test_imgs_1/3281185613.jpg 4\n"
          ]
        },
        {
          "output_type": "display_data",
          "data": {
            "application/javascript": [
              "\n",
              "        if (window._pyforest_update_imports_cell) { window._pyforest_update_imports_cell('from sklearn.model_selection import cross_val_score\\nimport torch\\nimport bokeh\\nimport pandas as pd\\nimport numpy as np\\nimport matplotlib as mpl\\nfrom sklearn.feature_extraction.text import CountVectorizer\\nfrom sklearn.model_selection import train_test_split\\nfrom sklearn import metrics\\nimport tqdm\\nimport cv2\\nfrom statsmodels.tsa.arima_model import ARIMA\\nimport textblob\\nimport altair as alt'); }\n",
              "    "
            ],
            "text/plain": [
              "<IPython.core.display.Javascript object>"
            ]
          },
          "metadata": {}
        },
        {
          "output_type": "stream",
          "name": "stdout",
          "text": [
            "/content/ML_class_final/test_imgs_1/3037049633.jpg 4\n"
          ]
        },
        {
          "output_type": "display_data",
          "data": {
            "application/javascript": [
              "\n",
              "        if (window._pyforest_update_imports_cell) { window._pyforest_update_imports_cell('from sklearn.model_selection import cross_val_score\\nimport torch\\nimport bokeh\\nimport pandas as pd\\nimport numpy as np\\nimport matplotlib as mpl\\nfrom sklearn.feature_extraction.text import CountVectorizer\\nfrom sklearn.model_selection import train_test_split\\nfrom sklearn import metrics\\nimport tqdm\\nimport cv2\\nfrom statsmodels.tsa.arima_model import ARIMA\\nimport textblob\\nimport altair as alt'); }\n",
              "    "
            ],
            "text/plain": [
              "<IPython.core.display.Javascript object>"
            ]
          },
          "metadata": {}
        },
        {
          "output_type": "stream",
          "name": "stdout",
          "text": [
            "/content/ML_class_final/test_imgs_1/3837168774.jpg 1\n"
          ]
        },
        {
          "output_type": "display_data",
          "data": {
            "application/javascript": [
              "\n",
              "        if (window._pyforest_update_imports_cell) { window._pyforest_update_imports_cell('from sklearn.model_selection import cross_val_score\\nimport torch\\nimport bokeh\\nimport pandas as pd\\nimport numpy as np\\nimport matplotlib as mpl\\nfrom sklearn.feature_extraction.text import CountVectorizer\\nfrom sklearn.model_selection import train_test_split\\nfrom sklearn import metrics\\nimport tqdm\\nimport cv2\\nfrom statsmodels.tsa.arima_model import ARIMA\\nimport textblob\\nimport altair as alt'); }\n",
              "    "
            ],
            "text/plain": [
              "<IPython.core.display.Javascript object>"
            ]
          },
          "metadata": {}
        },
        {
          "output_type": "stream",
          "name": "stdout",
          "text": [
            "/content/ML_class_final/test_imgs_1/951048679.jpg 1\n"
          ]
        },
        {
          "output_type": "display_data",
          "data": {
            "application/javascript": [
              "\n",
              "        if (window._pyforest_update_imports_cell) { window._pyforest_update_imports_cell('from sklearn.model_selection import cross_val_score\\nimport torch\\nimport bokeh\\nimport pandas as pd\\nimport numpy as np\\nimport matplotlib as mpl\\nfrom sklearn.feature_extraction.text import CountVectorizer\\nfrom sklearn.model_selection import train_test_split\\nfrom sklearn import metrics\\nimport tqdm\\nimport cv2\\nfrom statsmodels.tsa.arima_model import ARIMA\\nimport textblob\\nimport altair as alt'); }\n",
              "    "
            ],
            "text/plain": [
              "<IPython.core.display.Javascript object>"
            ]
          },
          "metadata": {}
        },
        {
          "output_type": "stream",
          "name": "stdout",
          "text": [
            "/content/ML_class_final/test_imgs_1/168657905.jpg 4\n"
          ]
        },
        {
          "output_type": "display_data",
          "data": {
            "application/javascript": [
              "\n",
              "        if (window._pyforest_update_imports_cell) { window._pyforest_update_imports_cell('from sklearn.model_selection import cross_val_score\\nimport torch\\nimport bokeh\\nimport pandas as pd\\nimport numpy as np\\nimport matplotlib as mpl\\nfrom sklearn.feature_extraction.text import CountVectorizer\\nfrom sklearn.model_selection import train_test_split\\nfrom sklearn import metrics\\nimport tqdm\\nimport cv2\\nfrom statsmodels.tsa.arima_model import ARIMA\\nimport textblob\\nimport altair as alt'); }\n",
              "    "
            ],
            "text/plain": [
              "<IPython.core.display.Javascript object>"
            ]
          },
          "metadata": {}
        },
        {
          "output_type": "stream",
          "name": "stdout",
          "text": [
            "/content/ML_class_final/test_imgs_1/1648069139.jpg 3\n"
          ]
        },
        {
          "output_type": "display_data",
          "data": {
            "application/javascript": [
              "\n",
              "        if (window._pyforest_update_imports_cell) { window._pyforest_update_imports_cell('from sklearn.model_selection import cross_val_score\\nimport torch\\nimport bokeh\\nimport pandas as pd\\nimport numpy as np\\nimport matplotlib as mpl\\nfrom sklearn.feature_extraction.text import CountVectorizer\\nfrom sklearn.model_selection import train_test_split\\nfrom sklearn import metrics\\nimport tqdm\\nimport cv2\\nfrom statsmodels.tsa.arima_model import ARIMA\\nimport textblob\\nimport altair as alt'); }\n",
              "    "
            ],
            "text/plain": [
              "<IPython.core.display.Javascript object>"
            ]
          },
          "metadata": {}
        },
        {
          "output_type": "stream",
          "name": "stdout",
          "text": [
            "/content/ML_class_final/test_imgs_1/3266717103.jpg 1\n"
          ]
        },
        {
          "output_type": "display_data",
          "data": {
            "application/javascript": [
              "\n",
              "        if (window._pyforest_update_imports_cell) { window._pyforest_update_imports_cell('from sklearn.model_selection import cross_val_score\\nimport torch\\nimport bokeh\\nimport pandas as pd\\nimport numpy as np\\nimport matplotlib as mpl\\nfrom sklearn.feature_extraction.text import CountVectorizer\\nfrom sklearn.model_selection import train_test_split\\nfrom sklearn import metrics\\nimport tqdm\\nimport cv2\\nfrom statsmodels.tsa.arima_model import ARIMA\\nimport textblob\\nimport altair as alt'); }\n",
              "    "
            ],
            "text/plain": [
              "<IPython.core.display.Javascript object>"
            ]
          },
          "metadata": {}
        },
        {
          "output_type": "stream",
          "name": "stdout",
          "text": [
            "/content/ML_class_final/test_imgs_1/786134670.jpg 1\n"
          ]
        },
        {
          "output_type": "display_data",
          "data": {
            "application/javascript": [
              "\n",
              "        if (window._pyforest_update_imports_cell) { window._pyforest_update_imports_cell('from sklearn.model_selection import cross_val_score\\nimport torch\\nimport bokeh\\nimport pandas as pd\\nimport numpy as np\\nimport matplotlib as mpl\\nfrom sklearn.feature_extraction.text import CountVectorizer\\nfrom sklearn.model_selection import train_test_split\\nfrom sklearn import metrics\\nimport tqdm\\nimport cv2\\nfrom statsmodels.tsa.arima_model import ARIMA\\nimport textblob\\nimport altair as alt'); }\n",
              "    "
            ],
            "text/plain": [
              "<IPython.core.display.Javascript object>"
            ]
          },
          "metadata": {}
        },
        {
          "output_type": "stream",
          "name": "stdout",
          "text": [
            "/content/ML_class_final/test_imgs_1/1628667516.jpg 4\n"
          ]
        },
        {
          "output_type": "display_data",
          "data": {
            "application/javascript": [
              "\n",
              "        if (window._pyforest_update_imports_cell) { window._pyforest_update_imports_cell('from sklearn.model_selection import cross_val_score\\nimport torch\\nimport bokeh\\nimport pandas as pd\\nimport numpy as np\\nimport matplotlib as mpl\\nfrom sklearn.feature_extraction.text import CountVectorizer\\nfrom sklearn.model_selection import train_test_split\\nfrom sklearn import metrics\\nimport tqdm\\nimport cv2\\nfrom statsmodels.tsa.arima_model import ARIMA\\nimport textblob\\nimport altair as alt'); }\n",
              "    "
            ],
            "text/plain": [
              "<IPython.core.display.Javascript object>"
            ]
          },
          "metadata": {}
        },
        {
          "output_type": "stream",
          "name": "stdout",
          "text": [
            "/content/ML_class_final/test_imgs_1/2252976900.jpg 1\n"
          ]
        },
        {
          "output_type": "display_data",
          "data": {
            "application/javascript": [
              "\n",
              "        if (window._pyforest_update_imports_cell) { window._pyforest_update_imports_cell('from sklearn.model_selection import cross_val_score\\nimport torch\\nimport bokeh\\nimport pandas as pd\\nimport numpy as np\\nimport matplotlib as mpl\\nfrom sklearn.feature_extraction.text import CountVectorizer\\nfrom sklearn.model_selection import train_test_split\\nfrom sklearn import metrics\\nimport tqdm\\nimport cv2\\nfrom statsmodels.tsa.arima_model import ARIMA\\nimport textblob\\nimport altair as alt'); }\n",
              "    "
            ],
            "text/plain": [
              "<IPython.core.display.Javascript object>"
            ]
          },
          "metadata": {}
        },
        {
          "output_type": "stream",
          "name": "stdout",
          "text": [
            "/content/ML_class_final/test_imgs_1/3367003264.jpg 3\n"
          ]
        },
        {
          "output_type": "display_data",
          "data": {
            "application/javascript": [
              "\n",
              "        if (window._pyforest_update_imports_cell) { window._pyforest_update_imports_cell('from sklearn.model_selection import cross_val_score\\nimport torch\\nimport bokeh\\nimport pandas as pd\\nimport numpy as np\\nimport matplotlib as mpl\\nfrom sklearn.feature_extraction.text import CountVectorizer\\nfrom sklearn.model_selection import train_test_split\\nfrom sklearn import metrics\\nimport tqdm\\nimport cv2\\nfrom statsmodels.tsa.arima_model import ARIMA\\nimport textblob\\nimport altair as alt'); }\n",
              "    "
            ],
            "text/plain": [
              "<IPython.core.display.Javascript object>"
            ]
          },
          "metadata": {}
        },
        {
          "output_type": "stream",
          "name": "stdout",
          "text": [
            "/content/ML_class_final/test_imgs_1/724406669.jpg 2\n"
          ]
        },
        {
          "output_type": "display_data",
          "data": {
            "application/javascript": [
              "\n",
              "        if (window._pyforest_update_imports_cell) { window._pyforest_update_imports_cell('from sklearn.model_selection import cross_val_score\\nimport torch\\nimport bokeh\\nimport pandas as pd\\nimport numpy as np\\nimport matplotlib as mpl\\nfrom sklearn.feature_extraction.text import CountVectorizer\\nfrom sklearn.model_selection import train_test_split\\nfrom sklearn import metrics\\nimport tqdm\\nimport cv2\\nfrom statsmodels.tsa.arima_model import ARIMA\\nimport textblob\\nimport altair as alt'); }\n",
              "    "
            ],
            "text/plain": [
              "<IPython.core.display.Javascript object>"
            ]
          },
          "metadata": {}
        },
        {
          "output_type": "stream",
          "name": "stdout",
          "text": [
            "/content/ML_class_final/test_imgs_1/4159550001.jpg 4\n"
          ]
        },
        {
          "output_type": "display_data",
          "data": {
            "application/javascript": [
              "\n",
              "        if (window._pyforest_update_imports_cell) { window._pyforest_update_imports_cell('from sklearn.model_selection import cross_val_score\\nimport torch\\nimport bokeh\\nimport pandas as pd\\nimport numpy as np\\nimport matplotlib as mpl\\nfrom sklearn.feature_extraction.text import CountVectorizer\\nfrom sklearn.model_selection import train_test_split\\nfrom sklearn import metrics\\nimport tqdm\\nimport cv2\\nfrom statsmodels.tsa.arima_model import ARIMA\\nimport textblob\\nimport altair as alt'); }\n",
              "    "
            ],
            "text/plain": [
              "<IPython.core.display.Javascript object>"
            ]
          },
          "metadata": {}
        },
        {
          "output_type": "stream",
          "name": "stdout",
          "text": [
            "/content/ML_class_final/test_imgs_1/2299480123.jpg 2\n"
          ]
        },
        {
          "output_type": "display_data",
          "data": {
            "application/javascript": [
              "\n",
              "        if (window._pyforest_update_imports_cell) { window._pyforest_update_imports_cell('from sklearn.model_selection import cross_val_score\\nimport torch\\nimport bokeh\\nimport pandas as pd\\nimport numpy as np\\nimport matplotlib as mpl\\nfrom sklearn.feature_extraction.text import CountVectorizer\\nfrom sklearn.model_selection import train_test_split\\nfrom sklearn import metrics\\nimport tqdm\\nimport cv2\\nfrom statsmodels.tsa.arima_model import ARIMA\\nimport textblob\\nimport altair as alt'); }\n",
              "    "
            ],
            "text/plain": [
              "<IPython.core.display.Javascript object>"
            ]
          },
          "metadata": {}
        },
        {
          "output_type": "stream",
          "name": "stdout",
          "text": [
            "/content/ML_class_final/test_imgs_1/664583876.jpg 1\n"
          ]
        },
        {
          "output_type": "display_data",
          "data": {
            "application/javascript": [
              "\n",
              "        if (window._pyforest_update_imports_cell) { window._pyforest_update_imports_cell('from sklearn.model_selection import cross_val_score\\nimport torch\\nimport bokeh\\nimport pandas as pd\\nimport numpy as np\\nimport matplotlib as mpl\\nfrom sklearn.feature_extraction.text import CountVectorizer\\nfrom sklearn.model_selection import train_test_split\\nfrom sklearn import metrics\\nimport tqdm\\nimport cv2\\nfrom statsmodels.tsa.arima_model import ARIMA\\nimport textblob\\nimport altair as alt'); }\n",
              "    "
            ],
            "text/plain": [
              "<IPython.core.display.Javascript object>"
            ]
          },
          "metadata": {}
        },
        {
          "output_type": "stream",
          "name": "stdout",
          "text": [
            "/content/ML_class_final/test_imgs_1/750828465.jpg 4\n"
          ]
        },
        {
          "output_type": "display_data",
          "data": {
            "application/javascript": [
              "\n",
              "        if (window._pyforest_update_imports_cell) { window._pyforest_update_imports_cell('from sklearn.model_selection import cross_val_score\\nimport torch\\nimport bokeh\\nimport pandas as pd\\nimport numpy as np\\nimport matplotlib as mpl\\nfrom sklearn.feature_extraction.text import CountVectorizer\\nfrom sklearn.model_selection import train_test_split\\nfrom sklearn import metrics\\nimport tqdm\\nimport cv2\\nfrom statsmodels.tsa.arima_model import ARIMA\\nimport textblob\\nimport altair as alt'); }\n",
              "    "
            ],
            "text/plain": [
              "<IPython.core.display.Javascript object>"
            ]
          },
          "metadata": {}
        },
        {
          "output_type": "stream",
          "name": "stdout",
          "text": [
            "/content/ML_class_final/test_imgs_1/1790610491.jpg 3\n"
          ]
        },
        {
          "output_type": "display_data",
          "data": {
            "application/javascript": [
              "\n",
              "        if (window._pyforest_update_imports_cell) { window._pyforest_update_imports_cell('from sklearn.model_selection import cross_val_score\\nimport torch\\nimport bokeh\\nimport pandas as pd\\nimport numpy as np\\nimport matplotlib as mpl\\nfrom sklearn.feature_extraction.text import CountVectorizer\\nfrom sklearn.model_selection import train_test_split\\nfrom sklearn import metrics\\nimport tqdm\\nimport cv2\\nfrom statsmodels.tsa.arima_model import ARIMA\\nimport textblob\\nimport altair as alt'); }\n",
              "    "
            ],
            "text/plain": [
              "<IPython.core.display.Javascript object>"
            ]
          },
          "metadata": {}
        },
        {
          "output_type": "stream",
          "name": "stdout",
          "text": [
            "/content/ML_class_final/test_imgs_1/1656709823.jpg 2\n"
          ]
        },
        {
          "output_type": "display_data",
          "data": {
            "application/javascript": [
              "\n",
              "        if (window._pyforest_update_imports_cell) { window._pyforest_update_imports_cell('from sklearn.model_selection import cross_val_score\\nimport torch\\nimport bokeh\\nimport pandas as pd\\nimport numpy as np\\nimport matplotlib as mpl\\nfrom sklearn.feature_extraction.text import CountVectorizer\\nfrom sklearn.model_selection import train_test_split\\nfrom sklearn import metrics\\nimport tqdm\\nimport cv2\\nfrom statsmodels.tsa.arima_model import ARIMA\\nimport textblob\\nimport altair as alt'); }\n",
              "    "
            ],
            "text/plain": [
              "<IPython.core.display.Javascript object>"
            ]
          },
          "metadata": {}
        },
        {
          "output_type": "stream",
          "name": "stdout",
          "text": [
            "/content/ML_class_final/test_imgs_1/3899742169.jpg 4\n"
          ]
        },
        {
          "output_type": "display_data",
          "data": {
            "application/javascript": [
              "\n",
              "        if (window._pyforest_update_imports_cell) { window._pyforest_update_imports_cell('from sklearn.model_selection import cross_val_score\\nimport torch\\nimport bokeh\\nimport pandas as pd\\nimport numpy as np\\nimport matplotlib as mpl\\nfrom sklearn.feature_extraction.text import CountVectorizer\\nfrom sklearn.model_selection import train_test_split\\nfrom sklearn import metrics\\nimport tqdm\\nimport cv2\\nfrom statsmodels.tsa.arima_model import ARIMA\\nimport textblob\\nimport altair as alt'); }\n",
              "    "
            ],
            "text/plain": [
              "<IPython.core.display.Javascript object>"
            ]
          },
          "metadata": {}
        },
        {
          "output_type": "stream",
          "name": "stdout",
          "text": [
            "/content/ML_class_final/test_imgs_1/4118954331.jpg 1\n"
          ]
        },
        {
          "output_type": "display_data",
          "data": {
            "application/javascript": [
              "\n",
              "        if (window._pyforest_update_imports_cell) { window._pyforest_update_imports_cell('from sklearn.model_selection import cross_val_score\\nimport torch\\nimport bokeh\\nimport pandas as pd\\nimport numpy as np\\nimport matplotlib as mpl\\nfrom sklearn.feature_extraction.text import CountVectorizer\\nfrom sklearn.model_selection import train_test_split\\nfrom sklearn import metrics\\nimport tqdm\\nimport cv2\\nfrom statsmodels.tsa.arima_model import ARIMA\\nimport textblob\\nimport altair as alt'); }\n",
              "    "
            ],
            "text/plain": [
              "<IPython.core.display.Javascript object>"
            ]
          },
          "metadata": {}
        },
        {
          "output_type": "stream",
          "name": "stdout",
          "text": [
            "/content/ML_class_final/test_imgs_1/627068686.jpg 3\n"
          ]
        },
        {
          "output_type": "display_data",
          "data": {
            "application/javascript": [
              "\n",
              "        if (window._pyforest_update_imports_cell) { window._pyforest_update_imports_cell('from sklearn.model_selection import cross_val_score\\nimport torch\\nimport bokeh\\nimport pandas as pd\\nimport numpy as np\\nimport matplotlib as mpl\\nfrom sklearn.feature_extraction.text import CountVectorizer\\nfrom sklearn.model_selection import train_test_split\\nfrom sklearn import metrics\\nimport tqdm\\nimport cv2\\nfrom statsmodels.tsa.arima_model import ARIMA\\nimport textblob\\nimport altair as alt'); }\n",
              "    "
            ],
            "text/plain": [
              "<IPython.core.display.Javascript object>"
            ]
          },
          "metadata": {}
        },
        {
          "output_type": "stream",
          "name": "stdout",
          "text": [
            "/content/ML_class_final/test_imgs_1/755497707.jpg 4\n"
          ]
        },
        {
          "output_type": "display_data",
          "data": {
            "application/javascript": [
              "\n",
              "        if (window._pyforest_update_imports_cell) { window._pyforest_update_imports_cell('from sklearn.model_selection import cross_val_score\\nimport torch\\nimport bokeh\\nimport pandas as pd\\nimport numpy as np\\nimport matplotlib as mpl\\nfrom sklearn.feature_extraction.text import CountVectorizer\\nfrom sklearn.model_selection import train_test_split\\nfrom sklearn import metrics\\nimport tqdm\\nimport cv2\\nfrom statsmodels.tsa.arima_model import ARIMA\\nimport textblob\\nimport altair as alt'); }\n",
              "    "
            ],
            "text/plain": [
              "<IPython.core.display.Javascript object>"
            ]
          },
          "metadata": {}
        },
        {
          "output_type": "stream",
          "name": "stdout",
          "text": [
            "/content/ML_class_final/test_imgs_1/3629348411.jpg 4\n"
          ]
        },
        {
          "output_type": "display_data",
          "data": {
            "application/javascript": [
              "\n",
              "        if (window._pyforest_update_imports_cell) { window._pyforest_update_imports_cell('from sklearn.model_selection import cross_val_score\\nimport torch\\nimport bokeh\\nimport pandas as pd\\nimport numpy as np\\nimport matplotlib as mpl\\nfrom sklearn.feature_extraction.text import CountVectorizer\\nfrom sklearn.model_selection import train_test_split\\nfrom sklearn import metrics\\nimport tqdm\\nimport cv2\\nfrom statsmodels.tsa.arima_model import ARIMA\\nimport textblob\\nimport altair as alt'); }\n",
              "    "
            ],
            "text/plain": [
              "<IPython.core.display.Javascript object>"
            ]
          },
          "metadata": {}
        },
        {
          "output_type": "stream",
          "name": "stdout",
          "text": [
            "/content/ML_class_final/test_imgs_1/2388034478.jpg 4\n"
          ]
        },
        {
          "output_type": "display_data",
          "data": {
            "application/javascript": [
              "\n",
              "        if (window._pyforest_update_imports_cell) { window._pyforest_update_imports_cell('from sklearn.model_selection import cross_val_score\\nimport torch\\nimport bokeh\\nimport pandas as pd\\nimport numpy as np\\nimport matplotlib as mpl\\nfrom sklearn.feature_extraction.text import CountVectorizer\\nfrom sklearn.model_selection import train_test_split\\nfrom sklearn import metrics\\nimport tqdm\\nimport cv2\\nfrom statsmodels.tsa.arima_model import ARIMA\\nimport textblob\\nimport altair as alt'); }\n",
              "    "
            ],
            "text/plain": [
              "<IPython.core.display.Javascript object>"
            ]
          },
          "metadata": {}
        },
        {
          "output_type": "stream",
          "name": "stdout",
          "text": [
            "/content/ML_class_final/test_imgs_1/3986994681.jpg 4\n"
          ]
        },
        {
          "output_type": "display_data",
          "data": {
            "application/javascript": [
              "\n",
              "        if (window._pyforest_update_imports_cell) { window._pyforest_update_imports_cell('from sklearn.model_selection import cross_val_score\\nimport torch\\nimport bokeh\\nimport pandas as pd\\nimport numpy as np\\nimport matplotlib as mpl\\nfrom sklearn.feature_extraction.text import CountVectorizer\\nfrom sklearn.model_selection import train_test_split\\nfrom sklearn import metrics\\nimport tqdm\\nimport cv2\\nfrom statsmodels.tsa.arima_model import ARIMA\\nimport textblob\\nimport altair as alt'); }\n",
              "    "
            ],
            "text/plain": [
              "<IPython.core.display.Javascript object>"
            ]
          },
          "metadata": {}
        },
        {
          "output_type": "stream",
          "name": "stdout",
          "text": [
            "/content/ML_class_final/test_imgs_1/1889205491.jpg 4\n"
          ]
        },
        {
          "output_type": "display_data",
          "data": {
            "application/javascript": [
              "\n",
              "        if (window._pyforest_update_imports_cell) { window._pyforest_update_imports_cell('from sklearn.model_selection import cross_val_score\\nimport torch\\nimport bokeh\\nimport pandas as pd\\nimport numpy as np\\nimport matplotlib as mpl\\nfrom sklearn.feature_extraction.text import CountVectorizer\\nfrom sklearn.model_selection import train_test_split\\nfrom sklearn import metrics\\nimport tqdm\\nimport cv2\\nfrom statsmodels.tsa.arima_model import ARIMA\\nimport textblob\\nimport altair as alt'); }\n",
              "    "
            ],
            "text/plain": [
              "<IPython.core.display.Javascript object>"
            ]
          },
          "metadata": {}
        },
        {
          "output_type": "stream",
          "name": "stdout",
          "text": [
            "/content/ML_class_final/test_imgs_1/3025763927.jpg 3\n"
          ]
        },
        {
          "output_type": "display_data",
          "data": {
            "application/javascript": [
              "\n",
              "        if (window._pyforest_update_imports_cell) { window._pyforest_update_imports_cell('from sklearn.model_selection import cross_val_score\\nimport torch\\nimport bokeh\\nimport pandas as pd\\nimport numpy as np\\nimport matplotlib as mpl\\nfrom sklearn.feature_extraction.text import CountVectorizer\\nfrom sklearn.model_selection import train_test_split\\nfrom sklearn import metrics\\nimport tqdm\\nimport cv2\\nfrom statsmodels.tsa.arima_model import ARIMA\\nimport textblob\\nimport altair as alt'); }\n",
              "    "
            ],
            "text/plain": [
              "<IPython.core.display.Javascript object>"
            ]
          },
          "metadata": {}
        },
        {
          "output_type": "stream",
          "name": "stdout",
          "text": [
            "/content/ML_class_final/test_imgs_1/1351925390.jpg 1\n"
          ]
        },
        {
          "output_type": "display_data",
          "data": {
            "application/javascript": [
              "\n",
              "        if (window._pyforest_update_imports_cell) { window._pyforest_update_imports_cell('from sklearn.model_selection import cross_val_score\\nimport torch\\nimport bokeh\\nimport pandas as pd\\nimport numpy as np\\nimport matplotlib as mpl\\nfrom sklearn.feature_extraction.text import CountVectorizer\\nfrom sklearn.model_selection import train_test_split\\nfrom sklearn import metrics\\nimport tqdm\\nimport cv2\\nfrom statsmodels.tsa.arima_model import ARIMA\\nimport textblob\\nimport altair as alt'); }\n",
              "    "
            ],
            "text/plain": [
              "<IPython.core.display.Javascript object>"
            ]
          },
          "metadata": {}
        },
        {
          "output_type": "stream",
          "name": "stdout",
          "text": [
            "/content/ML_class_final/test_imgs_1/3295247232.jpg 3\n"
          ]
        },
        {
          "output_type": "display_data",
          "data": {
            "application/javascript": [
              "\n",
              "        if (window._pyforest_update_imports_cell) { window._pyforest_update_imports_cell('from sklearn.model_selection import cross_val_score\\nimport torch\\nimport bokeh\\nimport pandas as pd\\nimport numpy as np\\nimport matplotlib as mpl\\nfrom sklearn.feature_extraction.text import CountVectorizer\\nfrom sklearn.model_selection import train_test_split\\nfrom sklearn import metrics\\nimport tqdm\\nimport cv2\\nfrom statsmodels.tsa.arima_model import ARIMA\\nimport textblob\\nimport altair as alt'); }\n",
              "    "
            ],
            "text/plain": [
              "<IPython.core.display.Javascript object>"
            ]
          },
          "metadata": {}
        },
        {
          "output_type": "stream",
          "name": "stdout",
          "text": [
            "/content/ML_class_final/test_imgs_1/4176553783.jpg 4\n"
          ]
        },
        {
          "output_type": "display_data",
          "data": {
            "application/javascript": [
              "\n",
              "        if (window._pyforest_update_imports_cell) { window._pyforest_update_imports_cell('from sklearn.model_selection import cross_val_score\\nimport torch\\nimport bokeh\\nimport pandas as pd\\nimport numpy as np\\nimport matplotlib as mpl\\nfrom sklearn.feature_extraction.text import CountVectorizer\\nfrom sklearn.model_selection import train_test_split\\nfrom sklearn import metrics\\nimport tqdm\\nimport cv2\\nfrom statsmodels.tsa.arima_model import ARIMA\\nimport textblob\\nimport altair as alt'); }\n",
              "    "
            ],
            "text/plain": [
              "<IPython.core.display.Javascript object>"
            ]
          },
          "metadata": {}
        },
        {
          "output_type": "stream",
          "name": "stdout",
          "text": [
            "/content/ML_class_final/test_imgs_1/3023944209.jpg 4\n"
          ]
        },
        {
          "output_type": "display_data",
          "data": {
            "application/javascript": [
              "\n",
              "        if (window._pyforest_update_imports_cell) { window._pyforest_update_imports_cell('from sklearn.model_selection import cross_val_score\\nimport torch\\nimport bokeh\\nimport pandas as pd\\nimport numpy as np\\nimport matplotlib as mpl\\nfrom sklearn.feature_extraction.text import CountVectorizer\\nfrom sklearn.model_selection import train_test_split\\nfrom sklearn import metrics\\nimport tqdm\\nimport cv2\\nfrom statsmodels.tsa.arima_model import ARIMA\\nimport textblob\\nimport altair as alt'); }\n",
              "    "
            ],
            "text/plain": [
              "<IPython.core.display.Javascript object>"
            ]
          },
          "metadata": {}
        },
        {
          "output_type": "stream",
          "name": "stdout",
          "text": [
            "/content/ML_class_final/test_imgs_1/4275284230.jpg 1\n"
          ]
        },
        {
          "output_type": "display_data",
          "data": {
            "application/javascript": [
              "\n",
              "        if (window._pyforest_update_imports_cell) { window._pyforest_update_imports_cell('from sklearn.model_selection import cross_val_score\\nimport torch\\nimport bokeh\\nimport pandas as pd\\nimport numpy as np\\nimport matplotlib as mpl\\nfrom sklearn.feature_extraction.text import CountVectorizer\\nfrom sklearn.model_selection import train_test_split\\nfrom sklearn import metrics\\nimport tqdm\\nimport cv2\\nfrom statsmodels.tsa.arima_model import ARIMA\\nimport textblob\\nimport altair as alt'); }\n",
              "    "
            ],
            "text/plain": [
              "<IPython.core.display.Javascript object>"
            ]
          },
          "metadata": {}
        },
        {
          "output_type": "stream",
          "name": "stdout",
          "text": [
            "/content/ML_class_final/test_imgs_1/2496275543.jpg 1\n"
          ]
        },
        {
          "output_type": "display_data",
          "data": {
            "application/javascript": [
              "\n",
              "        if (window._pyforest_update_imports_cell) { window._pyforest_update_imports_cell('from sklearn.model_selection import cross_val_score\\nimport torch\\nimport bokeh\\nimport pandas as pd\\nimport numpy as np\\nimport matplotlib as mpl\\nfrom sklearn.feature_extraction.text import CountVectorizer\\nfrom sklearn.model_selection import train_test_split\\nfrom sklearn import metrics\\nimport tqdm\\nimport cv2\\nfrom statsmodels.tsa.arima_model import ARIMA\\nimport textblob\\nimport altair as alt'); }\n",
              "    "
            ],
            "text/plain": [
              "<IPython.core.display.Javascript object>"
            ]
          },
          "metadata": {}
        },
        {
          "output_type": "stream",
          "name": "stdout",
          "text": [
            "/content/ML_class_final/test_imgs_1/2520828282.jpg 3\n"
          ]
        },
        {
          "output_type": "display_data",
          "data": {
            "application/javascript": [
              "\n",
              "        if (window._pyforest_update_imports_cell) { window._pyforest_update_imports_cell('from sklearn.model_selection import cross_val_score\\nimport torch\\nimport bokeh\\nimport pandas as pd\\nimport numpy as np\\nimport matplotlib as mpl\\nfrom sklearn.feature_extraction.text import CountVectorizer\\nfrom sklearn.model_selection import train_test_split\\nfrom sklearn import metrics\\nimport tqdm\\nimport cv2\\nfrom statsmodels.tsa.arima_model import ARIMA\\nimport textblob\\nimport altair as alt'); }\n",
              "    "
            ],
            "text/plain": [
              "<IPython.core.display.Javascript object>"
            ]
          },
          "metadata": {}
        },
        {
          "output_type": "stream",
          "name": "stdout",
          "text": [
            "/content/ML_class_final/test_imgs_1/2781299345.jpg 3\n"
          ]
        },
        {
          "output_type": "display_data",
          "data": {
            "application/javascript": [
              "\n",
              "        if (window._pyforest_update_imports_cell) { window._pyforest_update_imports_cell('from sklearn.model_selection import cross_val_score\\nimport torch\\nimport bokeh\\nimport pandas as pd\\nimport numpy as np\\nimport matplotlib as mpl\\nfrom sklearn.feature_extraction.text import CountVectorizer\\nfrom sklearn.model_selection import train_test_split\\nfrom sklearn import metrics\\nimport tqdm\\nimport cv2\\nfrom statsmodels.tsa.arima_model import ARIMA\\nimport textblob\\nimport altair as alt'); }\n",
              "    "
            ],
            "text/plain": [
              "<IPython.core.display.Javascript object>"
            ]
          },
          "metadata": {}
        },
        {
          "output_type": "stream",
          "name": "stdout",
          "text": [
            "/content/ML_class_final/test_imgs_1/2243950685.jpg 1\n"
          ]
        },
        {
          "output_type": "display_data",
          "data": {
            "application/javascript": [
              "\n",
              "        if (window._pyforest_update_imports_cell) { window._pyforest_update_imports_cell('from sklearn.model_selection import cross_val_score\\nimport torch\\nimport bokeh\\nimport pandas as pd\\nimport numpy as np\\nimport matplotlib as mpl\\nfrom sklearn.feature_extraction.text import CountVectorizer\\nfrom sklearn.model_selection import train_test_split\\nfrom sklearn import metrics\\nimport tqdm\\nimport cv2\\nfrom statsmodels.tsa.arima_model import ARIMA\\nimport textblob\\nimport altair as alt'); }\n",
              "    "
            ],
            "text/plain": [
              "<IPython.core.display.Javascript object>"
            ]
          },
          "metadata": {}
        },
        {
          "output_type": "stream",
          "name": "stdout",
          "text": [
            "/content/ML_class_final/test_imgs_1/1138461516.jpg 1\n"
          ]
        },
        {
          "output_type": "display_data",
          "data": {
            "application/javascript": [
              "\n",
              "        if (window._pyforest_update_imports_cell) { window._pyforest_update_imports_cell('from sklearn.model_selection import cross_val_score\\nimport torch\\nimport bokeh\\nimport pandas as pd\\nimport numpy as np\\nimport matplotlib as mpl\\nfrom sklearn.feature_extraction.text import CountVectorizer\\nfrom sklearn.model_selection import train_test_split\\nfrom sklearn import metrics\\nimport tqdm\\nimport cv2\\nfrom statsmodels.tsa.arima_model import ARIMA\\nimport textblob\\nimport altair as alt'); }\n",
              "    "
            ],
            "text/plain": [
              "<IPython.core.display.Javascript object>"
            ]
          },
          "metadata": {}
        },
        {
          "output_type": "stream",
          "name": "stdout",
          "text": [
            "/content/ML_class_final/test_imgs_1/2729556493.jpg 1\n"
          ]
        },
        {
          "output_type": "display_data",
          "data": {
            "application/javascript": [
              "\n",
              "        if (window._pyforest_update_imports_cell) { window._pyforest_update_imports_cell('from sklearn.model_selection import cross_val_score\\nimport torch\\nimport bokeh\\nimport pandas as pd\\nimport numpy as np\\nimport matplotlib as mpl\\nfrom sklearn.feature_extraction.text import CountVectorizer\\nfrom sklearn.model_selection import train_test_split\\nfrom sklearn import metrics\\nimport tqdm\\nimport cv2\\nfrom statsmodels.tsa.arima_model import ARIMA\\nimport textblob\\nimport altair as alt'); }\n",
              "    "
            ],
            "text/plain": [
              "<IPython.core.display.Javascript object>"
            ]
          },
          "metadata": {}
        },
        {
          "output_type": "stream",
          "name": "stdout",
          "text": [
            "/content/ML_class_final/test_imgs_1/3120878969.jpg 1\n"
          ]
        },
        {
          "output_type": "display_data",
          "data": {
            "application/javascript": [
              "\n",
              "        if (window._pyforest_update_imports_cell) { window._pyforest_update_imports_cell('from sklearn.model_selection import cross_val_score\\nimport torch\\nimport bokeh\\nimport pandas as pd\\nimport numpy as np\\nimport matplotlib as mpl\\nfrom sklearn.feature_extraction.text import CountVectorizer\\nfrom sklearn.model_selection import train_test_split\\nfrom sklearn import metrics\\nimport tqdm\\nimport cv2\\nfrom statsmodels.tsa.arima_model import ARIMA\\nimport textblob\\nimport altair as alt'); }\n",
              "    "
            ],
            "text/plain": [
              "<IPython.core.display.Javascript object>"
            ]
          },
          "metadata": {}
        },
        {
          "output_type": "stream",
          "name": "stdout",
          "text": [
            "/content/ML_class_final/test_imgs_1/1622914804.jpg 3\n"
          ]
        },
        {
          "output_type": "display_data",
          "data": {
            "application/javascript": [
              "\n",
              "        if (window._pyforest_update_imports_cell) { window._pyforest_update_imports_cell('from sklearn.model_selection import cross_val_score\\nimport torch\\nimport bokeh\\nimport pandas as pd\\nimport numpy as np\\nimport matplotlib as mpl\\nfrom sklearn.feature_extraction.text import CountVectorizer\\nfrom sklearn.model_selection import train_test_split\\nfrom sklearn import metrics\\nimport tqdm\\nimport cv2\\nfrom statsmodels.tsa.arima_model import ARIMA\\nimport textblob\\nimport altair as alt'); }\n",
              "    "
            ],
            "text/plain": [
              "<IPython.core.display.Javascript object>"
            ]
          },
          "metadata": {}
        },
        {
          "output_type": "stream",
          "name": "stdout",
          "text": [
            "/content/ML_class_final/test_imgs_1/1133979561.jpg 4\n"
          ]
        },
        {
          "output_type": "display_data",
          "data": {
            "application/javascript": [
              "\n",
              "        if (window._pyforest_update_imports_cell) { window._pyforest_update_imports_cell('from sklearn.model_selection import cross_val_score\\nimport torch\\nimport bokeh\\nimport pandas as pd\\nimport numpy as np\\nimport matplotlib as mpl\\nfrom sklearn.feature_extraction.text import CountVectorizer\\nfrom sklearn.model_selection import train_test_split\\nfrom sklearn import metrics\\nimport tqdm\\nimport cv2\\nfrom statsmodels.tsa.arima_model import ARIMA\\nimport textblob\\nimport altair as alt'); }\n",
              "    "
            ],
            "text/plain": [
              "<IPython.core.display.Javascript object>"
            ]
          },
          "metadata": {}
        },
        {
          "output_type": "stream",
          "name": "stdout",
          "text": [
            "/content/ML_class_final/test_imgs_1/99202708.jpg 4\n"
          ]
        },
        {
          "output_type": "display_data",
          "data": {
            "application/javascript": [
              "\n",
              "        if (window._pyforest_update_imports_cell) { window._pyforest_update_imports_cell('from sklearn.model_selection import cross_val_score\\nimport torch\\nimport bokeh\\nimport pandas as pd\\nimport numpy as np\\nimport matplotlib as mpl\\nfrom sklearn.feature_extraction.text import CountVectorizer\\nfrom sklearn.model_selection import train_test_split\\nfrom sklearn import metrics\\nimport tqdm\\nimport cv2\\nfrom statsmodels.tsa.arima_model import ARIMA\\nimport textblob\\nimport altair as alt'); }\n",
              "    "
            ],
            "text/plain": [
              "<IPython.core.display.Javascript object>"
            ]
          },
          "metadata": {}
        },
        {
          "output_type": "stream",
          "name": "stdout",
          "text": [
            "/content/ML_class_final/test_imgs_1/3758912402.jpg 1\n"
          ]
        },
        {
          "output_type": "display_data",
          "data": {
            "application/javascript": [
              "\n",
              "        if (window._pyforest_update_imports_cell) { window._pyforest_update_imports_cell('from sklearn.model_selection import cross_val_score\\nimport torch\\nimport bokeh\\nimport pandas as pd\\nimport numpy as np\\nimport matplotlib as mpl\\nfrom sklearn.feature_extraction.text import CountVectorizer\\nfrom sklearn.model_selection import train_test_split\\nfrom sklearn import metrics\\nimport tqdm\\nimport cv2\\nfrom statsmodels.tsa.arima_model import ARIMA\\nimport textblob\\nimport altair as alt'); }\n",
              "    "
            ],
            "text/plain": [
              "<IPython.core.display.Javascript object>"
            ]
          },
          "metadata": {}
        },
        {
          "output_type": "stream",
          "name": "stdout",
          "text": [
            "/content/ML_class_final/test_imgs_1/2468085000.jpg 4\n"
          ]
        },
        {
          "output_type": "display_data",
          "data": {
            "application/javascript": [
              "\n",
              "        if (window._pyforest_update_imports_cell) { window._pyforest_update_imports_cell('from sklearn.model_selection import cross_val_score\\nimport torch\\nimport bokeh\\nimport pandas as pd\\nimport numpy as np\\nimport matplotlib as mpl\\nfrom sklearn.feature_extraction.text import CountVectorizer\\nfrom sklearn.model_selection import train_test_split\\nfrom sklearn import metrics\\nimport tqdm\\nimport cv2\\nfrom statsmodels.tsa.arima_model import ARIMA\\nimport textblob\\nimport altair as alt'); }\n",
              "    "
            ],
            "text/plain": [
              "<IPython.core.display.Javascript object>"
            ]
          },
          "metadata": {}
        },
        {
          "output_type": "stream",
          "name": "stdout",
          "text": [
            "/content/ML_class_final/test_imgs_1/541581535.jpg 1\n"
          ]
        },
        {
          "output_type": "display_data",
          "data": {
            "application/javascript": [
              "\n",
              "        if (window._pyforest_update_imports_cell) { window._pyforest_update_imports_cell('from sklearn.model_selection import cross_val_score\\nimport torch\\nimport bokeh\\nimport pandas as pd\\nimport numpy as np\\nimport matplotlib as mpl\\nfrom sklearn.feature_extraction.text import CountVectorizer\\nfrom sklearn.model_selection import train_test_split\\nfrom sklearn import metrics\\nimport tqdm\\nimport cv2\\nfrom statsmodels.tsa.arima_model import ARIMA\\nimport textblob\\nimport altair as alt'); }\n",
              "    "
            ],
            "text/plain": [
              "<IPython.core.display.Javascript object>"
            ]
          },
          "metadata": {}
        },
        {
          "output_type": "stream",
          "name": "stdout",
          "text": [
            "/content/ML_class_final/test_imgs_1/616718743.jpg 1\n"
          ]
        },
        {
          "output_type": "display_data",
          "data": {
            "application/javascript": [
              "\n",
              "        if (window._pyforest_update_imports_cell) { window._pyforest_update_imports_cell('from sklearn.model_selection import cross_val_score\\nimport torch\\nimport bokeh\\nimport pandas as pd\\nimport numpy as np\\nimport matplotlib as mpl\\nfrom sklearn.feature_extraction.text import CountVectorizer\\nfrom sklearn.model_selection import train_test_split\\nfrom sklearn import metrics\\nimport tqdm\\nimport cv2\\nfrom statsmodels.tsa.arima_model import ARIMA\\nimport textblob\\nimport altair as alt'); }\n",
              "    "
            ],
            "text/plain": [
              "<IPython.core.display.Javascript object>"
            ]
          },
          "metadata": {}
        },
        {
          "output_type": "stream",
          "name": "stdout",
          "text": [
            "/content/ML_class_final/test_imgs_1/379034521.jpg 4\n"
          ]
        },
        {
          "output_type": "display_data",
          "data": {
            "application/javascript": [
              "\n",
              "        if (window._pyforest_update_imports_cell) { window._pyforest_update_imports_cell('from sklearn.model_selection import cross_val_score\\nimport torch\\nimport bokeh\\nimport pandas as pd\\nimport numpy as np\\nimport matplotlib as mpl\\nfrom sklearn.feature_extraction.text import CountVectorizer\\nfrom sklearn.model_selection import train_test_split\\nfrom sklearn import metrics\\nimport tqdm\\nimport cv2\\nfrom statsmodels.tsa.arima_model import ARIMA\\nimport textblob\\nimport altair as alt'); }\n",
              "    "
            ],
            "text/plain": [
              "<IPython.core.display.Javascript object>"
            ]
          },
          "metadata": {}
        },
        {
          "output_type": "stream",
          "name": "stdout",
          "text": [
            "/content/ML_class_final/test_imgs_1/3149877253.jpg 0\n"
          ]
        },
        {
          "output_type": "display_data",
          "data": {
            "application/javascript": [
              "\n",
              "        if (window._pyforest_update_imports_cell) { window._pyforest_update_imports_cell('from sklearn.model_selection import cross_val_score\\nimport torch\\nimport bokeh\\nimport pandas as pd\\nimport numpy as np\\nimport matplotlib as mpl\\nfrom sklearn.feature_extraction.text import CountVectorizer\\nfrom sklearn.model_selection import train_test_split\\nfrom sklearn import metrics\\nimport tqdm\\nimport cv2\\nfrom statsmodels.tsa.arima_model import ARIMA\\nimport textblob\\nimport altair as alt'); }\n",
              "    "
            ],
            "text/plain": [
              "<IPython.core.display.Javascript object>"
            ]
          },
          "metadata": {}
        },
        {
          "output_type": "stream",
          "name": "stdout",
          "text": [
            "/content/ML_class_final/test_imgs_1/2319938868.jpg 4\n"
          ]
        },
        {
          "output_type": "display_data",
          "data": {
            "application/javascript": [
              "\n",
              "        if (window._pyforest_update_imports_cell) { window._pyforest_update_imports_cell('from sklearn.model_selection import cross_val_score\\nimport torch\\nimport bokeh\\nimport pandas as pd\\nimport numpy as np\\nimport matplotlib as mpl\\nfrom sklearn.feature_extraction.text import CountVectorizer\\nfrom sklearn.model_selection import train_test_split\\nfrom sklearn import metrics\\nimport tqdm\\nimport cv2\\nfrom statsmodels.tsa.arima_model import ARIMA\\nimport textblob\\nimport altair as alt'); }\n",
              "    "
            ],
            "text/plain": [
              "<IPython.core.display.Javascript object>"
            ]
          },
          "metadata": {}
        },
        {
          "output_type": "stream",
          "name": "stdout",
          "text": [
            "/content/ML_class_final/test_imgs_1/3401765971.jpg 1\n"
          ]
        },
        {
          "output_type": "display_data",
          "data": {
            "application/javascript": [
              "\n",
              "        if (window._pyforest_update_imports_cell) { window._pyforest_update_imports_cell('from sklearn.model_selection import cross_val_score\\nimport torch\\nimport bokeh\\nimport pandas as pd\\nimport numpy as np\\nimport matplotlib as mpl\\nfrom sklearn.feature_extraction.text import CountVectorizer\\nfrom sklearn.model_selection import train_test_split\\nfrom sklearn import metrics\\nimport tqdm\\nimport cv2\\nfrom statsmodels.tsa.arima_model import ARIMA\\nimport textblob\\nimport altair as alt'); }\n",
              "    "
            ],
            "text/plain": [
              "<IPython.core.display.Javascript object>"
            ]
          },
          "metadata": {}
        },
        {
          "output_type": "stream",
          "name": "stdout",
          "text": [
            "/content/ML_class_final/test_imgs_1/775831061.jpg 0\n"
          ]
        },
        {
          "output_type": "display_data",
          "data": {
            "application/javascript": [
              "\n",
              "        if (window._pyforest_update_imports_cell) { window._pyforest_update_imports_cell('from sklearn.model_selection import cross_val_score\\nimport torch\\nimport bokeh\\nimport pandas as pd\\nimport numpy as np\\nimport matplotlib as mpl\\nfrom sklearn.feature_extraction.text import CountVectorizer\\nfrom sklearn.model_selection import train_test_split\\nfrom sklearn import metrics\\nimport tqdm\\nimport cv2\\nfrom statsmodels.tsa.arima_model import ARIMA\\nimport textblob\\nimport altair as alt'); }\n",
              "    "
            ],
            "text/plain": [
              "<IPython.core.display.Javascript object>"
            ]
          },
          "metadata": {}
        },
        {
          "output_type": "stream",
          "name": "stdout",
          "text": [
            "/content/ML_class_final/test_imgs_1/815758241.jpg 4\n"
          ]
        },
        {
          "output_type": "display_data",
          "data": {
            "application/javascript": [
              "\n",
              "        if (window._pyforest_update_imports_cell) { window._pyforest_update_imports_cell('from sklearn.model_selection import cross_val_score\\nimport torch\\nimport bokeh\\nimport pandas as pd\\nimport numpy as np\\nimport matplotlib as mpl\\nfrom sklearn.feature_extraction.text import CountVectorizer\\nfrom sklearn.model_selection import train_test_split\\nfrom sklearn import metrics\\nimport tqdm\\nimport cv2\\nfrom statsmodels.tsa.arima_model import ARIMA\\nimport textblob\\nimport altair as alt'); }\n",
              "    "
            ],
            "text/plain": [
              "<IPython.core.display.Javascript object>"
            ]
          },
          "metadata": {}
        },
        {
          "output_type": "stream",
          "name": "stdout",
          "text": [
            "/content/ML_class_final/test_imgs_1/4256968855.jpg 1\n"
          ]
        },
        {
          "output_type": "display_data",
          "data": {
            "application/javascript": [
              "\n",
              "        if (window._pyforest_update_imports_cell) { window._pyforest_update_imports_cell('from sklearn.model_selection import cross_val_score\\nimport torch\\nimport bokeh\\nimport pandas as pd\\nimport numpy as np\\nimport matplotlib as mpl\\nfrom sklearn.feature_extraction.text import CountVectorizer\\nfrom sklearn.model_selection import train_test_split\\nfrom sklearn import metrics\\nimport tqdm\\nimport cv2\\nfrom statsmodels.tsa.arima_model import ARIMA\\nimport textblob\\nimport altair as alt'); }\n",
              "    "
            ],
            "text/plain": [
              "<IPython.core.display.Javascript object>"
            ]
          },
          "metadata": {}
        },
        {
          "output_type": "stream",
          "name": "stdout",
          "text": [
            "/content/ML_class_final/test_imgs_1/2476023220.jpg 1\n"
          ]
        },
        {
          "output_type": "display_data",
          "data": {
            "application/javascript": [
              "\n",
              "        if (window._pyforest_update_imports_cell) { window._pyforest_update_imports_cell('from sklearn.model_selection import cross_val_score\\nimport torch\\nimport bokeh\\nimport pandas as pd\\nimport numpy as np\\nimport matplotlib as mpl\\nfrom sklearn.feature_extraction.text import CountVectorizer\\nfrom sklearn.model_selection import train_test_split\\nfrom sklearn import metrics\\nimport tqdm\\nimport cv2\\nfrom statsmodels.tsa.arima_model import ARIMA\\nimport textblob\\nimport altair as alt'); }\n",
              "    "
            ],
            "text/plain": [
              "<IPython.core.display.Javascript object>"
            ]
          },
          "metadata": {}
        },
        {
          "output_type": "stream",
          "name": "stdout",
          "text": [
            "/content/ML_class_final/test_imgs_1/696638670.jpg 4\n"
          ]
        },
        {
          "output_type": "display_data",
          "data": {
            "application/javascript": [
              "\n",
              "        if (window._pyforest_update_imports_cell) { window._pyforest_update_imports_cell('from sklearn.model_selection import cross_val_score\\nimport torch\\nimport bokeh\\nimport pandas as pd\\nimport numpy as np\\nimport matplotlib as mpl\\nfrom sklearn.feature_extraction.text import CountVectorizer\\nfrom sklearn.model_selection import train_test_split\\nfrom sklearn import metrics\\nimport tqdm\\nimport cv2\\nfrom statsmodels.tsa.arima_model import ARIMA\\nimport textblob\\nimport altair as alt'); }\n",
              "    "
            ],
            "text/plain": [
              "<IPython.core.display.Javascript object>"
            ]
          },
          "metadata": {}
        },
        {
          "output_type": "stream",
          "name": "stdout",
          "text": [
            "/content/ML_class_final/test_imgs_1/1458153387.jpg 4\n"
          ]
        },
        {
          "output_type": "display_data",
          "data": {
            "application/javascript": [
              "\n",
              "        if (window._pyforest_update_imports_cell) { window._pyforest_update_imports_cell('from sklearn.model_selection import cross_val_score\\nimport torch\\nimport bokeh\\nimport pandas as pd\\nimport numpy as np\\nimport matplotlib as mpl\\nfrom sklearn.feature_extraction.text import CountVectorizer\\nfrom sklearn.model_selection import train_test_split\\nfrom sklearn import metrics\\nimport tqdm\\nimport cv2\\nfrom statsmodels.tsa.arima_model import ARIMA\\nimport textblob\\nimport altair as alt'); }\n",
              "    "
            ],
            "text/plain": [
              "<IPython.core.display.Javascript object>"
            ]
          },
          "metadata": {}
        },
        {
          "output_type": "stream",
          "name": "stdout",
          "text": [
            "/content/ML_class_final/test_imgs_1/2756944342.jpg 4\n"
          ]
        },
        {
          "output_type": "display_data",
          "data": {
            "application/javascript": [
              "\n",
              "        if (window._pyforest_update_imports_cell) { window._pyforest_update_imports_cell('from sklearn.model_selection import cross_val_score\\nimport torch\\nimport bokeh\\nimport pandas as pd\\nimport numpy as np\\nimport matplotlib as mpl\\nfrom sklearn.feature_extraction.text import CountVectorizer\\nfrom sklearn.model_selection import train_test_split\\nfrom sklearn import metrics\\nimport tqdm\\nimport cv2\\nfrom statsmodels.tsa.arima_model import ARIMA\\nimport textblob\\nimport altair as alt'); }\n",
              "    "
            ],
            "text/plain": [
              "<IPython.core.display.Javascript object>"
            ]
          },
          "metadata": {}
        },
        {
          "output_type": "stream",
          "name": "stdout",
          "text": [
            "/content/ML_class_final/test_imgs_1/2360611086.jpg 1\n"
          ]
        },
        {
          "output_type": "display_data",
          "data": {
            "application/javascript": [
              "\n",
              "        if (window._pyforest_update_imports_cell) { window._pyforest_update_imports_cell('from sklearn.model_selection import cross_val_score\\nimport torch\\nimport bokeh\\nimport pandas as pd\\nimport numpy as np\\nimport matplotlib as mpl\\nfrom sklearn.feature_extraction.text import CountVectorizer\\nfrom sklearn.model_selection import train_test_split\\nfrom sklearn import metrics\\nimport tqdm\\nimport cv2\\nfrom statsmodels.tsa.arima_model import ARIMA\\nimport textblob\\nimport altair as alt'); }\n",
              "    "
            ],
            "text/plain": [
              "<IPython.core.display.Javascript object>"
            ]
          },
          "metadata": {}
        },
        {
          "output_type": "stream",
          "name": "stdout",
          "text": [
            "/content/ML_class_final/test_imgs_1/510749381.jpg 3\n"
          ]
        },
        {
          "output_type": "display_data",
          "data": {
            "application/javascript": [
              "\n",
              "        if (window._pyforest_update_imports_cell) { window._pyforest_update_imports_cell('from sklearn.model_selection import cross_val_score\\nimport torch\\nimport bokeh\\nimport pandas as pd\\nimport numpy as np\\nimport matplotlib as mpl\\nfrom sklearn.feature_extraction.text import CountVectorizer\\nfrom sklearn.model_selection import train_test_split\\nfrom sklearn import metrics\\nimport tqdm\\nimport cv2\\nfrom statsmodels.tsa.arima_model import ARIMA\\nimport textblob\\nimport altair as alt'); }\n",
              "    "
            ],
            "text/plain": [
              "<IPython.core.display.Javascript object>"
            ]
          },
          "metadata": {}
        },
        {
          "output_type": "stream",
          "name": "stdout",
          "text": [
            "/content/ML_class_final/test_imgs_1/3223959207.jpg 3\n"
          ]
        },
        {
          "output_type": "display_data",
          "data": {
            "application/javascript": [
              "\n",
              "        if (window._pyforest_update_imports_cell) { window._pyforest_update_imports_cell('from sklearn.model_selection import cross_val_score\\nimport torch\\nimport bokeh\\nimport pandas as pd\\nimport numpy as np\\nimport matplotlib as mpl\\nfrom sklearn.feature_extraction.text import CountVectorizer\\nfrom sklearn.model_selection import train_test_split\\nfrom sklearn import metrics\\nimport tqdm\\nimport cv2\\nfrom statsmodels.tsa.arima_model import ARIMA\\nimport textblob\\nimport altair as alt'); }\n",
              "    "
            ],
            "text/plain": [
              "<IPython.core.display.Javascript object>"
            ]
          },
          "metadata": {}
        },
        {
          "output_type": "stream",
          "name": "stdout",
          "text": [
            "/content/ML_class_final/test_imgs_1/2941588504.jpg 3\n"
          ]
        },
        {
          "output_type": "display_data",
          "data": {
            "application/javascript": [
              "\n",
              "        if (window._pyforest_update_imports_cell) { window._pyforest_update_imports_cell('from sklearn.model_selection import cross_val_score\\nimport torch\\nimport bokeh\\nimport pandas as pd\\nimport numpy as np\\nimport matplotlib as mpl\\nfrom sklearn.feature_extraction.text import CountVectorizer\\nfrom sklearn.model_selection import train_test_split\\nfrom sklearn import metrics\\nimport tqdm\\nimport cv2\\nfrom statsmodels.tsa.arima_model import ARIMA\\nimport textblob\\nimport altair as alt'); }\n",
              "    "
            ],
            "text/plain": [
              "<IPython.core.display.Javascript object>"
            ]
          },
          "metadata": {}
        },
        {
          "output_type": "stream",
          "name": "stdout",
          "text": [
            "/content/ML_class_final/test_imgs_1/2321561493.jpg 4\n"
          ]
        },
        {
          "output_type": "display_data",
          "data": {
            "application/javascript": [
              "\n",
              "        if (window._pyforest_update_imports_cell) { window._pyforest_update_imports_cell('from sklearn.model_selection import cross_val_score\\nimport torch\\nimport bokeh\\nimport pandas as pd\\nimport numpy as np\\nimport matplotlib as mpl\\nfrom sklearn.feature_extraction.text import CountVectorizer\\nfrom sklearn.model_selection import train_test_split\\nfrom sklearn import metrics\\nimport tqdm\\nimport cv2\\nfrom statsmodels.tsa.arima_model import ARIMA\\nimport textblob\\nimport altair as alt'); }\n",
              "    "
            ],
            "text/plain": [
              "<IPython.core.display.Javascript object>"
            ]
          },
          "metadata": {}
        },
        {
          "output_type": "stream",
          "name": "stdout",
          "text": [
            "/content/ML_class_final/test_imgs_1/2420529827.jpg 4\n"
          ]
        },
        {
          "output_type": "display_data",
          "data": {
            "application/javascript": [
              "\n",
              "        if (window._pyforest_update_imports_cell) { window._pyforest_update_imports_cell('from sklearn.model_selection import cross_val_score\\nimport torch\\nimport bokeh\\nimport pandas as pd\\nimport numpy as np\\nimport matplotlib as mpl\\nfrom sklearn.feature_extraction.text import CountVectorizer\\nfrom sklearn.model_selection import train_test_split\\nfrom sklearn import metrics\\nimport tqdm\\nimport cv2\\nfrom statsmodels.tsa.arima_model import ARIMA\\nimport textblob\\nimport altair as alt'); }\n",
              "    "
            ],
            "text/plain": [
              "<IPython.core.display.Javascript object>"
            ]
          },
          "metadata": {}
        },
        {
          "output_type": "stream",
          "name": "stdout",
          "text": [
            "/content/ML_class_final/test_imgs_1/4218379987.jpg 1\n"
          ]
        },
        {
          "output_type": "display_data",
          "data": {
            "application/javascript": [
              "\n",
              "        if (window._pyforest_update_imports_cell) { window._pyforest_update_imports_cell('from sklearn.model_selection import cross_val_score\\nimport torch\\nimport bokeh\\nimport pandas as pd\\nimport numpy as np\\nimport matplotlib as mpl\\nfrom sklearn.feature_extraction.text import CountVectorizer\\nfrom sklearn.model_selection import train_test_split\\nfrom sklearn import metrics\\nimport tqdm\\nimport cv2\\nfrom statsmodels.tsa.arima_model import ARIMA\\nimport textblob\\nimport altair as alt'); }\n",
              "    "
            ],
            "text/plain": [
              "<IPython.core.display.Javascript object>"
            ]
          },
          "metadata": {}
        },
        {
          "output_type": "stream",
          "name": "stdout",
          "text": [
            "/content/ML_class_final/test_imgs_1/2350465175.jpg 4\n"
          ]
        },
        {
          "output_type": "display_data",
          "data": {
            "application/javascript": [
              "\n",
              "        if (window._pyforest_update_imports_cell) { window._pyforest_update_imports_cell('from sklearn.model_selection import cross_val_score\\nimport torch\\nimport bokeh\\nimport pandas as pd\\nimport numpy as np\\nimport matplotlib as mpl\\nfrom sklearn.feature_extraction.text import CountVectorizer\\nfrom sklearn.model_selection import train_test_split\\nfrom sklearn import metrics\\nimport tqdm\\nimport cv2\\nfrom statsmodels.tsa.arima_model import ARIMA\\nimport textblob\\nimport altair as alt'); }\n",
              "    "
            ],
            "text/plain": [
              "<IPython.core.display.Javascript object>"
            ]
          },
          "metadata": {}
        },
        {
          "output_type": "stream",
          "name": "stdout",
          "text": [
            "/content/ML_class_final/test_imgs_1/3675527864.jpg 4\n"
          ]
        },
        {
          "output_type": "display_data",
          "data": {
            "application/javascript": [
              "\n",
              "        if (window._pyforest_update_imports_cell) { window._pyforest_update_imports_cell('from sklearn.model_selection import cross_val_score\\nimport torch\\nimport bokeh\\nimport pandas as pd\\nimport numpy as np\\nimport matplotlib as mpl\\nfrom sklearn.feature_extraction.text import CountVectorizer\\nfrom sklearn.model_selection import train_test_split\\nfrom sklearn import metrics\\nimport tqdm\\nimport cv2\\nfrom statsmodels.tsa.arima_model import ARIMA\\nimport textblob\\nimport altair as alt'); }\n",
              "    "
            ],
            "text/plain": [
              "<IPython.core.display.Javascript object>"
            ]
          },
          "metadata": {}
        },
        {
          "output_type": "stream",
          "name": "stdout",
          "text": [
            "/content/ML_class_final/test_imgs_1/52883488.jpg 1\n"
          ]
        },
        {
          "output_type": "display_data",
          "data": {
            "application/javascript": [
              "\n",
              "        if (window._pyforest_update_imports_cell) { window._pyforest_update_imports_cell('from sklearn.model_selection import cross_val_score\\nimport torch\\nimport bokeh\\nimport pandas as pd\\nimport numpy as np\\nimport matplotlib as mpl\\nfrom sklearn.feature_extraction.text import CountVectorizer\\nfrom sklearn.model_selection import train_test_split\\nfrom sklearn import metrics\\nimport tqdm\\nimport cv2\\nfrom statsmodels.tsa.arima_model import ARIMA\\nimport textblob\\nimport altair as alt'); }\n",
              "    "
            ],
            "text/plain": [
              "<IPython.core.display.Javascript object>"
            ]
          },
          "metadata": {}
        },
        {
          "output_type": "stream",
          "name": "stdout",
          "text": [
            "/content/ML_class_final/test_imgs_1/2276911457.jpg 4\n"
          ]
        },
        {
          "output_type": "display_data",
          "data": {
            "application/javascript": [
              "\n",
              "        if (window._pyforest_update_imports_cell) { window._pyforest_update_imports_cell('from sklearn.model_selection import cross_val_score\\nimport torch\\nimport bokeh\\nimport pandas as pd\\nimport numpy as np\\nimport matplotlib as mpl\\nfrom sklearn.feature_extraction.text import CountVectorizer\\nfrom sklearn.model_selection import train_test_split\\nfrom sklearn import metrics\\nimport tqdm\\nimport cv2\\nfrom statsmodels.tsa.arima_model import ARIMA\\nimport textblob\\nimport altair as alt'); }\n",
              "    "
            ],
            "text/plain": [
              "<IPython.core.display.Javascript object>"
            ]
          },
          "metadata": {}
        },
        {
          "output_type": "stream",
          "name": "stdout",
          "text": [
            "/content/ML_class_final/test_imgs_1/580550239.jpg 1\n"
          ]
        },
        {
          "output_type": "display_data",
          "data": {
            "application/javascript": [
              "\n",
              "        if (window._pyforest_update_imports_cell) { window._pyforest_update_imports_cell('from sklearn.model_selection import cross_val_score\\nimport torch\\nimport bokeh\\nimport pandas as pd\\nimport numpy as np\\nimport matplotlib as mpl\\nfrom sklearn.feature_extraction.text import CountVectorizer\\nfrom sklearn.model_selection import train_test_split\\nfrom sklearn import metrics\\nimport tqdm\\nimport cv2\\nfrom statsmodels.tsa.arima_model import ARIMA\\nimport textblob\\nimport altair as alt'); }\n",
              "    "
            ],
            "text/plain": [
              "<IPython.core.display.Javascript object>"
            ]
          },
          "metadata": {}
        },
        {
          "output_type": "stream",
          "name": "stdout",
          "text": [
            "/content/ML_class_final/test_imgs_1/1036133928.jpg 3\n"
          ]
        },
        {
          "output_type": "display_data",
          "data": {
            "application/javascript": [
              "\n",
              "        if (window._pyforest_update_imports_cell) { window._pyforest_update_imports_cell('from sklearn.model_selection import cross_val_score\\nimport torch\\nimport bokeh\\nimport pandas as pd\\nimport numpy as np\\nimport matplotlib as mpl\\nfrom sklearn.feature_extraction.text import CountVectorizer\\nfrom sklearn.model_selection import train_test_split\\nfrom sklearn import metrics\\nimport tqdm\\nimport cv2\\nfrom statsmodels.tsa.arima_model import ARIMA\\nimport textblob\\nimport altair as alt'); }\n",
              "    "
            ],
            "text/plain": [
              "<IPython.core.display.Javascript object>"
            ]
          },
          "metadata": {}
        },
        {
          "output_type": "stream",
          "name": "stdout",
          "text": [
            "/content/ML_class_final/test_imgs_1/1318025509.jpg 1\n"
          ]
        },
        {
          "output_type": "display_data",
          "data": {
            "application/javascript": [
              "\n",
              "        if (window._pyforest_update_imports_cell) { window._pyforest_update_imports_cell('from sklearn.model_selection import cross_val_score\\nimport torch\\nimport bokeh\\nimport pandas as pd\\nimport numpy as np\\nimport matplotlib as mpl\\nfrom sklearn.feature_extraction.text import CountVectorizer\\nfrom sklearn.model_selection import train_test_split\\nfrom sklearn import metrics\\nimport tqdm\\nimport cv2\\nfrom statsmodels.tsa.arima_model import ARIMA\\nimport textblob\\nimport altair as alt'); }\n",
              "    "
            ],
            "text/plain": [
              "<IPython.core.display.Javascript object>"
            ]
          },
          "metadata": {}
        },
        {
          "output_type": "stream",
          "name": "stdout",
          "text": [
            "/content/ML_class_final/test_imgs_1/1495411222.jpg 3\n"
          ]
        },
        {
          "output_type": "display_data",
          "data": {
            "application/javascript": [
              "\n",
              "        if (window._pyforest_update_imports_cell) { window._pyforest_update_imports_cell('from sklearn.model_selection import cross_val_score\\nimport torch\\nimport bokeh\\nimport pandas as pd\\nimport numpy as np\\nimport matplotlib as mpl\\nfrom sklearn.feature_extraction.text import CountVectorizer\\nfrom sklearn.model_selection import train_test_split\\nfrom sklearn import metrics\\nimport tqdm\\nimport cv2\\nfrom statsmodels.tsa.arima_model import ARIMA\\nimport textblob\\nimport altair as alt'); }\n",
              "    "
            ],
            "text/plain": [
              "<IPython.core.display.Javascript object>"
            ]
          },
          "metadata": {}
        },
        {
          "output_type": "stream",
          "name": "stdout",
          "text": [
            "/content/ML_class_final/test_imgs_1/3304610004.jpg 1\n"
          ]
        },
        {
          "output_type": "display_data",
          "data": {
            "application/javascript": [
              "\n",
              "        if (window._pyforest_update_imports_cell) { window._pyforest_update_imports_cell('from sklearn.model_selection import cross_val_score\\nimport torch\\nimport bokeh\\nimport pandas as pd\\nimport numpy as np\\nimport matplotlib as mpl\\nfrom sklearn.feature_extraction.text import CountVectorizer\\nfrom sklearn.model_selection import train_test_split\\nfrom sklearn import metrics\\nimport tqdm\\nimport cv2\\nfrom statsmodels.tsa.arima_model import ARIMA\\nimport textblob\\nimport altair as alt'); }\n",
              "    "
            ],
            "text/plain": [
              "<IPython.core.display.Javascript object>"
            ]
          },
          "metadata": {}
        },
        {
          "output_type": "stream",
          "name": "stdout",
          "text": [
            "/content/ML_class_final/test_imgs_1/982343142.jpg 0\n"
          ]
        },
        {
          "output_type": "display_data",
          "data": {
            "application/javascript": [
              "\n",
              "        if (window._pyforest_update_imports_cell) { window._pyforest_update_imports_cell('from sklearn.model_selection import cross_val_score\\nimport torch\\nimport bokeh\\nimport pandas as pd\\nimport numpy as np\\nimport matplotlib as mpl\\nfrom sklearn.feature_extraction.text import CountVectorizer\\nfrom sklearn.model_selection import train_test_split\\nfrom sklearn import metrics\\nimport tqdm\\nimport cv2\\nfrom statsmodels.tsa.arima_model import ARIMA\\nimport textblob\\nimport altair as alt'); }\n",
              "    "
            ],
            "text/plain": [
              "<IPython.core.display.Javascript object>"
            ]
          },
          "metadata": {}
        },
        {
          "output_type": "stream",
          "name": "stdout",
          "text": [
            "/content/ML_class_final/test_imgs_1/2840067071.jpg 4\n"
          ]
        },
        {
          "output_type": "display_data",
          "data": {
            "application/javascript": [
              "\n",
              "        if (window._pyforest_update_imports_cell) { window._pyforest_update_imports_cell('from sklearn.model_selection import cross_val_score\\nimport torch\\nimport bokeh\\nimport pandas as pd\\nimport numpy as np\\nimport matplotlib as mpl\\nfrom sklearn.feature_extraction.text import CountVectorizer\\nfrom sklearn.model_selection import train_test_split\\nfrom sklearn import metrics\\nimport tqdm\\nimport cv2\\nfrom statsmodels.tsa.arima_model import ARIMA\\nimport textblob\\nimport altair as alt'); }\n",
              "    "
            ],
            "text/plain": [
              "<IPython.core.display.Javascript object>"
            ]
          },
          "metadata": {}
        },
        {
          "output_type": "stream",
          "name": "stdout",
          "text": [
            "/content/ML_class_final/test_imgs_1/1454900763.jpg 3\n"
          ]
        },
        {
          "output_type": "display_data",
          "data": {
            "application/javascript": [
              "\n",
              "        if (window._pyforest_update_imports_cell) { window._pyforest_update_imports_cell('from sklearn.model_selection import cross_val_score\\nimport torch\\nimport bokeh\\nimport pandas as pd\\nimport numpy as np\\nimport matplotlib as mpl\\nfrom sklearn.feature_extraction.text import CountVectorizer\\nfrom sklearn.model_selection import train_test_split\\nfrom sklearn import metrics\\nimport tqdm\\nimport cv2\\nfrom statsmodels.tsa.arima_model import ARIMA\\nimport textblob\\nimport altair as alt'); }\n",
              "    "
            ],
            "text/plain": [
              "<IPython.core.display.Javascript object>"
            ]
          },
          "metadata": {}
        },
        {
          "output_type": "stream",
          "name": "stdout",
          "text": [
            "/content/ML_class_final/test_imgs_1/1786887727.jpg 1\n"
          ]
        },
        {
          "output_type": "display_data",
          "data": {
            "application/javascript": [
              "\n",
              "        if (window._pyforest_update_imports_cell) { window._pyforest_update_imports_cell('from sklearn.model_selection import cross_val_score\\nimport torch\\nimport bokeh\\nimport pandas as pd\\nimport numpy as np\\nimport matplotlib as mpl\\nfrom sklearn.feature_extraction.text import CountVectorizer\\nfrom sklearn.model_selection import train_test_split\\nfrom sklearn import metrics\\nimport tqdm\\nimport cv2\\nfrom statsmodels.tsa.arima_model import ARIMA\\nimport textblob\\nimport altair as alt'); }\n",
              "    "
            ],
            "text/plain": [
              "<IPython.core.display.Javascript object>"
            ]
          },
          "metadata": {}
        },
        {
          "output_type": "stream",
          "name": "stdout",
          "text": [
            "/content/ML_class_final/test_imgs_1/1357797590.jpg 1\n"
          ]
        },
        {
          "output_type": "display_data",
          "data": {
            "application/javascript": [
              "\n",
              "        if (window._pyforest_update_imports_cell) { window._pyforest_update_imports_cell('from sklearn.model_selection import cross_val_score\\nimport torch\\nimport bokeh\\nimport pandas as pd\\nimport numpy as np\\nimport matplotlib as mpl\\nfrom sklearn.feature_extraction.text import CountVectorizer\\nfrom sklearn.model_selection import train_test_split\\nfrom sklearn import metrics\\nimport tqdm\\nimport cv2\\nfrom statsmodels.tsa.arima_model import ARIMA\\nimport textblob\\nimport altair as alt'); }\n",
              "    "
            ],
            "text/plain": [
              "<IPython.core.display.Javascript object>"
            ]
          },
          "metadata": {}
        },
        {
          "output_type": "stream",
          "name": "stdout",
          "text": [
            "/content/ML_class_final/test_imgs_1/3096568582.jpg 1\n"
          ]
        },
        {
          "output_type": "display_data",
          "data": {
            "application/javascript": [
              "\n",
              "        if (window._pyforest_update_imports_cell) { window._pyforest_update_imports_cell('from sklearn.model_selection import cross_val_score\\nimport torch\\nimport bokeh\\nimport pandas as pd\\nimport numpy as np\\nimport matplotlib as mpl\\nfrom sklearn.feature_extraction.text import CountVectorizer\\nfrom sklearn.model_selection import train_test_split\\nfrom sklearn import metrics\\nimport tqdm\\nimport cv2\\nfrom statsmodels.tsa.arima_model import ARIMA\\nimport textblob\\nimport altair as alt'); }\n",
              "    "
            ],
            "text/plain": [
              "<IPython.core.display.Javascript object>"
            ]
          },
          "metadata": {}
        },
        {
          "output_type": "stream",
          "name": "stdout",
          "text": [
            "/content/ML_class_final/test_imgs_1/2594433845.jpg 3\n"
          ]
        },
        {
          "output_type": "display_data",
          "data": {
            "application/javascript": [
              "\n",
              "        if (window._pyforest_update_imports_cell) { window._pyforest_update_imports_cell('from sklearn.model_selection import cross_val_score\\nimport torch\\nimport bokeh\\nimport pandas as pd\\nimport numpy as np\\nimport matplotlib as mpl\\nfrom sklearn.feature_extraction.text import CountVectorizer\\nfrom sklearn.model_selection import train_test_split\\nfrom sklearn import metrics\\nimport tqdm\\nimport cv2\\nfrom statsmodels.tsa.arima_model import ARIMA\\nimport textblob\\nimport altair as alt'); }\n",
              "    "
            ],
            "text/plain": [
              "<IPython.core.display.Javascript object>"
            ]
          },
          "metadata": {}
        },
        {
          "output_type": "stream",
          "name": "stdout",
          "text": [
            "/content/ML_class_final/test_imgs_1/3743195625.jpg 1\n"
          ]
        },
        {
          "output_type": "display_data",
          "data": {
            "application/javascript": [
              "\n",
              "        if (window._pyforest_update_imports_cell) { window._pyforest_update_imports_cell('from sklearn.model_selection import cross_val_score\\nimport torch\\nimport bokeh\\nimport pandas as pd\\nimport numpy as np\\nimport matplotlib as mpl\\nfrom sklearn.feature_extraction.text import CountVectorizer\\nfrom sklearn.model_selection import train_test_split\\nfrom sklearn import metrics\\nimport tqdm\\nimport cv2\\nfrom statsmodels.tsa.arima_model import ARIMA\\nimport textblob\\nimport altair as alt'); }\n",
              "    "
            ],
            "text/plain": [
              "<IPython.core.display.Javascript object>"
            ]
          },
          "metadata": {}
        },
        {
          "output_type": "stream",
          "name": "stdout",
          "text": [
            "/content/ML_class_final/test_imgs_1/3287098987.jpg 0\n"
          ]
        },
        {
          "output_type": "display_data",
          "data": {
            "application/javascript": [
              "\n",
              "        if (window._pyforest_update_imports_cell) { window._pyforest_update_imports_cell('from sklearn.model_selection import cross_val_score\\nimport torch\\nimport bokeh\\nimport pandas as pd\\nimport numpy as np\\nimport matplotlib as mpl\\nfrom sklearn.feature_extraction.text import CountVectorizer\\nfrom sklearn.model_selection import train_test_split\\nfrom sklearn import metrics\\nimport tqdm\\nimport cv2\\nfrom statsmodels.tsa.arima_model import ARIMA\\nimport textblob\\nimport altair as alt'); }\n",
              "    "
            ],
            "text/plain": [
              "<IPython.core.display.Javascript object>"
            ]
          },
          "metadata": {}
        },
        {
          "output_type": "stream",
          "name": "stdout",
          "text": [
            "/content/ML_class_final/test_imgs_1/2409113043.jpg 4\n"
          ]
        },
        {
          "output_type": "display_data",
          "data": {
            "application/javascript": [
              "\n",
              "        if (window._pyforest_update_imports_cell) { window._pyforest_update_imports_cell('from sklearn.model_selection import cross_val_score\\nimport torch\\nimport bokeh\\nimport pandas as pd\\nimport numpy as np\\nimport matplotlib as mpl\\nfrom sklearn.feature_extraction.text import CountVectorizer\\nfrom sklearn.model_selection import train_test_split\\nfrom sklearn import metrics\\nimport tqdm\\nimport cv2\\nfrom statsmodels.tsa.arima_model import ARIMA\\nimport textblob\\nimport altair as alt'); }\n",
              "    "
            ],
            "text/plain": [
              "<IPython.core.display.Javascript object>"
            ]
          },
          "metadata": {}
        },
        {
          "output_type": "stream",
          "name": "stdout",
          "text": [
            "/content/ML_class_final/test_imgs_1/2440390856.jpg 2\n"
          ]
        },
        {
          "output_type": "display_data",
          "data": {
            "application/javascript": [
              "\n",
              "        if (window._pyforest_update_imports_cell) { window._pyforest_update_imports_cell('from sklearn.model_selection import cross_val_score\\nimport torch\\nimport bokeh\\nimport pandas as pd\\nimport numpy as np\\nimport matplotlib as mpl\\nfrom sklearn.feature_extraction.text import CountVectorizer\\nfrom sklearn.model_selection import train_test_split\\nfrom sklearn import metrics\\nimport tqdm\\nimport cv2\\nfrom statsmodels.tsa.arima_model import ARIMA\\nimport textblob\\nimport altair as alt'); }\n",
              "    "
            ],
            "text/plain": [
              "<IPython.core.display.Javascript object>"
            ]
          },
          "metadata": {}
        },
        {
          "output_type": "stream",
          "name": "stdout",
          "text": [
            "/content/ML_class_final/test_imgs_1/2514027748.jpg 1\n"
          ]
        },
        {
          "output_type": "display_data",
          "data": {
            "application/javascript": [
              "\n",
              "        if (window._pyforest_update_imports_cell) { window._pyforest_update_imports_cell('from sklearn.model_selection import cross_val_score\\nimport torch\\nimport bokeh\\nimport pandas as pd\\nimport numpy as np\\nimport matplotlib as mpl\\nfrom sklearn.feature_extraction.text import CountVectorizer\\nfrom sklearn.model_selection import train_test_split\\nfrom sklearn import metrics\\nimport tqdm\\nimport cv2\\nfrom statsmodels.tsa.arima_model import ARIMA\\nimport textblob\\nimport altair as alt'); }\n",
              "    "
            ],
            "text/plain": [
              "<IPython.core.display.Javascript object>"
            ]
          },
          "metadata": {}
        },
        {
          "output_type": "stream",
          "name": "stdout",
          "text": [
            "/content/ML_class_final/test_imgs_1/2269945499.jpg 1\n"
          ]
        },
        {
          "output_type": "display_data",
          "data": {
            "application/javascript": [
              "\n",
              "        if (window._pyforest_update_imports_cell) { window._pyforest_update_imports_cell('from sklearn.model_selection import cross_val_score\\nimport torch\\nimport bokeh\\nimport pandas as pd\\nimport numpy as np\\nimport matplotlib as mpl\\nfrom sklearn.feature_extraction.text import CountVectorizer\\nfrom sklearn.model_selection import train_test_split\\nfrom sklearn import metrics\\nimport tqdm\\nimport cv2\\nfrom statsmodels.tsa.arima_model import ARIMA\\nimport textblob\\nimport altair as alt'); }\n",
              "    "
            ],
            "text/plain": [
              "<IPython.core.display.Javascript object>"
            ]
          },
          "metadata": {}
        },
        {
          "output_type": "stream",
          "name": "stdout",
          "text": [
            "/content/ML_class_final/test_imgs_1/3733910631.jpg 4\n"
          ]
        },
        {
          "output_type": "display_data",
          "data": {
            "application/javascript": [
              "\n",
              "        if (window._pyforest_update_imports_cell) { window._pyforest_update_imports_cell('from sklearn.model_selection import cross_val_score\\nimport torch\\nimport bokeh\\nimport pandas as pd\\nimport numpy as np\\nimport matplotlib as mpl\\nfrom sklearn.feature_extraction.text import CountVectorizer\\nfrom sklearn.model_selection import train_test_split\\nfrom sklearn import metrics\\nimport tqdm\\nimport cv2\\nfrom statsmodels.tsa.arima_model import ARIMA\\nimport textblob\\nimport altair as alt'); }\n",
              "    "
            ],
            "text/plain": [
              "<IPython.core.display.Javascript object>"
            ]
          },
          "metadata": {}
        },
        {
          "output_type": "stream",
          "name": "stdout",
          "text": [
            "/content/ML_class_final/test_imgs_1/80998969.jpg 3\n"
          ]
        },
        {
          "output_type": "display_data",
          "data": {
            "application/javascript": [
              "\n",
              "        if (window._pyforest_update_imports_cell) { window._pyforest_update_imports_cell('from sklearn.model_selection import cross_val_score\\nimport torch\\nimport bokeh\\nimport pandas as pd\\nimport numpy as np\\nimport matplotlib as mpl\\nfrom sklearn.feature_extraction.text import CountVectorizer\\nfrom sklearn.model_selection import train_test_split\\nfrom sklearn import metrics\\nimport tqdm\\nimport cv2\\nfrom statsmodels.tsa.arima_model import ARIMA\\nimport textblob\\nimport altair as alt'); }\n",
              "    "
            ],
            "text/plain": [
              "<IPython.core.display.Javascript object>"
            ]
          },
          "metadata": {}
        },
        {
          "output_type": "stream",
          "name": "stdout",
          "text": [
            "/content/ML_class_final/test_imgs_1/2138515969.jpg 4\n"
          ]
        },
        {
          "output_type": "display_data",
          "data": {
            "application/javascript": [
              "\n",
              "        if (window._pyforest_update_imports_cell) { window._pyforest_update_imports_cell('from sklearn.model_selection import cross_val_score\\nimport torch\\nimport bokeh\\nimport pandas as pd\\nimport numpy as np\\nimport matplotlib as mpl\\nfrom sklearn.feature_extraction.text import CountVectorizer\\nfrom sklearn.model_selection import train_test_split\\nfrom sklearn import metrics\\nimport tqdm\\nimport cv2\\nfrom statsmodels.tsa.arima_model import ARIMA\\nimport textblob\\nimport altair as alt'); }\n",
              "    "
            ],
            "text/plain": [
              "<IPython.core.display.Javascript object>"
            ]
          },
          "metadata": {}
        },
        {
          "output_type": "stream",
          "name": "stdout",
          "text": [
            "/content/ML_class_final/test_imgs_1/2259667328.jpg 1\n"
          ]
        },
        {
          "output_type": "display_data",
          "data": {
            "application/javascript": [
              "\n",
              "        if (window._pyforest_update_imports_cell) { window._pyforest_update_imports_cell('from sklearn.model_selection import cross_val_score\\nimport torch\\nimport bokeh\\nimport pandas as pd\\nimport numpy as np\\nimport matplotlib as mpl\\nfrom sklearn.feature_extraction.text import CountVectorizer\\nfrom sklearn.model_selection import train_test_split\\nfrom sklearn import metrics\\nimport tqdm\\nimport cv2\\nfrom statsmodels.tsa.arima_model import ARIMA\\nimport textblob\\nimport altair as alt'); }\n",
              "    "
            ],
            "text/plain": [
              "<IPython.core.display.Javascript object>"
            ]
          },
          "metadata": {}
        },
        {
          "output_type": "stream",
          "name": "stdout",
          "text": [
            "/content/ML_class_final/test_imgs_1/2102411543.jpg 3\n"
          ]
        },
        {
          "output_type": "display_data",
          "data": {
            "application/javascript": [
              "\n",
              "        if (window._pyforest_update_imports_cell) { window._pyforest_update_imports_cell('from sklearn.model_selection import cross_val_score\\nimport torch\\nimport bokeh\\nimport pandas as pd\\nimport numpy as np\\nimport matplotlib as mpl\\nfrom sklearn.feature_extraction.text import CountVectorizer\\nfrom sklearn.model_selection import train_test_split\\nfrom sklearn import metrics\\nimport tqdm\\nimport cv2\\nfrom statsmodels.tsa.arima_model import ARIMA\\nimport textblob\\nimport altair as alt'); }\n",
              "    "
            ],
            "text/plain": [
              "<IPython.core.display.Javascript object>"
            ]
          },
          "metadata": {}
        },
        {
          "output_type": "stream",
          "name": "stdout",
          "text": [
            "/content/ML_class_final/test_imgs_1/296895333.jpg 4\n"
          ]
        },
        {
          "output_type": "display_data",
          "data": {
            "application/javascript": [
              "\n",
              "        if (window._pyforest_update_imports_cell) { window._pyforest_update_imports_cell('from sklearn.model_selection import cross_val_score\\nimport torch\\nimport bokeh\\nimport pandas as pd\\nimport numpy as np\\nimport matplotlib as mpl\\nfrom sklearn.feature_extraction.text import CountVectorizer\\nfrom sklearn.model_selection import train_test_split\\nfrom sklearn import metrics\\nimport tqdm\\nimport cv2\\nfrom statsmodels.tsa.arima_model import ARIMA\\nimport textblob\\nimport altair as alt'); }\n",
              "    "
            ],
            "text/plain": [
              "<IPython.core.display.Javascript object>"
            ]
          },
          "metadata": {}
        },
        {
          "output_type": "stream",
          "name": "stdout",
          "text": [
            "/content/ML_class_final/test_imgs_1/1070151605.jpg 1\n"
          ]
        },
        {
          "output_type": "display_data",
          "data": {
            "application/javascript": [
              "\n",
              "        if (window._pyforest_update_imports_cell) { window._pyforest_update_imports_cell('from sklearn.model_selection import cross_val_score\\nimport torch\\nimport bokeh\\nimport pandas as pd\\nimport numpy as np\\nimport matplotlib as mpl\\nfrom sklearn.feature_extraction.text import CountVectorizer\\nfrom sklearn.model_selection import train_test_split\\nfrom sklearn import metrics\\nimport tqdm\\nimport cv2\\nfrom statsmodels.tsa.arima_model import ARIMA\\nimport textblob\\nimport altair as alt'); }\n",
              "    "
            ],
            "text/plain": [
              "<IPython.core.display.Javascript object>"
            ]
          },
          "metadata": {}
        },
        {
          "output_type": "stream",
          "name": "stdout",
          "text": [
            "/content/ML_class_final/test_imgs_1/575135832.jpg 4\n"
          ]
        },
        {
          "output_type": "display_data",
          "data": {
            "application/javascript": [
              "\n",
              "        if (window._pyforest_update_imports_cell) { window._pyforest_update_imports_cell('from sklearn.model_selection import cross_val_score\\nimport torch\\nimport bokeh\\nimport pandas as pd\\nimport numpy as np\\nimport matplotlib as mpl\\nfrom sklearn.feature_extraction.text import CountVectorizer\\nfrom sklearn.model_selection import train_test_split\\nfrom sklearn import metrics\\nimport tqdm\\nimport cv2\\nfrom statsmodels.tsa.arima_model import ARIMA\\nimport textblob\\nimport altair as alt'); }\n",
              "    "
            ],
            "text/plain": [
              "<IPython.core.display.Javascript object>"
            ]
          },
          "metadata": {}
        },
        {
          "output_type": "stream",
          "name": "stdout",
          "text": [
            "/content/ML_class_final/test_imgs_1/2167715304.jpg 1\n"
          ]
        },
        {
          "output_type": "display_data",
          "data": {
            "application/javascript": [
              "\n",
              "        if (window._pyforest_update_imports_cell) { window._pyforest_update_imports_cell('from sklearn.model_selection import cross_val_score\\nimport torch\\nimport bokeh\\nimport pandas as pd\\nimport numpy as np\\nimport matplotlib as mpl\\nfrom sklearn.feature_extraction.text import CountVectorizer\\nfrom sklearn.model_selection import train_test_split\\nfrom sklearn import metrics\\nimport tqdm\\nimport cv2\\nfrom statsmodels.tsa.arima_model import ARIMA\\nimport textblob\\nimport altair as alt'); }\n",
              "    "
            ],
            "text/plain": [
              "<IPython.core.display.Javascript object>"
            ]
          },
          "metadata": {}
        },
        {
          "output_type": "stream",
          "name": "stdout",
          "text": [
            "/content/ML_class_final/test_imgs_1/1207981174.jpg 1\n"
          ]
        },
        {
          "output_type": "display_data",
          "data": {
            "application/javascript": [
              "\n",
              "        if (window._pyforest_update_imports_cell) { window._pyforest_update_imports_cell('from sklearn.model_selection import cross_val_score\\nimport torch\\nimport bokeh\\nimport pandas as pd\\nimport numpy as np\\nimport matplotlib as mpl\\nfrom sklearn.feature_extraction.text import CountVectorizer\\nfrom sklearn.model_selection import train_test_split\\nfrom sklearn import metrics\\nimport tqdm\\nimport cv2\\nfrom statsmodels.tsa.arima_model import ARIMA\\nimport textblob\\nimport altair as alt'); }\n",
              "    "
            ],
            "text/plain": [
              "<IPython.core.display.Javascript object>"
            ]
          },
          "metadata": {}
        },
        {
          "output_type": "stream",
          "name": "stdout",
          "text": [
            "/content/ML_class_final/test_imgs_1/2123719792.jpg 4\n"
          ]
        },
        {
          "output_type": "display_data",
          "data": {
            "application/javascript": [
              "\n",
              "        if (window._pyforest_update_imports_cell) { window._pyforest_update_imports_cell('from sklearn.model_selection import cross_val_score\\nimport torch\\nimport bokeh\\nimport pandas as pd\\nimport numpy as np\\nimport matplotlib as mpl\\nfrom sklearn.feature_extraction.text import CountVectorizer\\nfrom sklearn.model_selection import train_test_split\\nfrom sklearn import metrics\\nimport tqdm\\nimport cv2\\nfrom statsmodels.tsa.arima_model import ARIMA\\nimport textblob\\nimport altair as alt'); }\n",
              "    "
            ],
            "text/plain": [
              "<IPython.core.display.Javascript object>"
            ]
          },
          "metadata": {}
        },
        {
          "output_type": "stream",
          "name": "stdout",
          "text": [
            "/content/ML_class_final/test_imgs_1/1014433832.jpg 4\n"
          ]
        },
        {
          "output_type": "display_data",
          "data": {
            "application/javascript": [
              "\n",
              "        if (window._pyforest_update_imports_cell) { window._pyforest_update_imports_cell('from sklearn.model_selection import cross_val_score\\nimport torch\\nimport bokeh\\nimport pandas as pd\\nimport numpy as np\\nimport matplotlib as mpl\\nfrom sklearn.feature_extraction.text import CountVectorizer\\nfrom sklearn.model_selection import train_test_split\\nfrom sklearn import metrics\\nimport tqdm\\nimport cv2\\nfrom statsmodels.tsa.arima_model import ARIMA\\nimport textblob\\nimport altair as alt'); }\n",
              "    "
            ],
            "text/plain": [
              "<IPython.core.display.Javascript object>"
            ]
          },
          "metadata": {}
        },
        {
          "output_type": "stream",
          "name": "stdout",
          "text": [
            "/content/ML_class_final/test_imgs_1/1891723020.jpg 3\n"
          ]
        },
        {
          "output_type": "display_data",
          "data": {
            "application/javascript": [
              "\n",
              "        if (window._pyforest_update_imports_cell) { window._pyforest_update_imports_cell('from sklearn.model_selection import cross_val_score\\nimport torch\\nimport bokeh\\nimport pandas as pd\\nimport numpy as np\\nimport matplotlib as mpl\\nfrom sklearn.feature_extraction.text import CountVectorizer\\nfrom sklearn.model_selection import train_test_split\\nfrom sklearn import metrics\\nimport tqdm\\nimport cv2\\nfrom statsmodels.tsa.arima_model import ARIMA\\nimport textblob\\nimport altair as alt'); }\n",
              "    "
            ],
            "text/plain": [
              "<IPython.core.display.Javascript object>"
            ]
          },
          "metadata": {}
        },
        {
          "output_type": "stream",
          "name": "stdout",
          "text": [
            "/content/ML_class_final/test_imgs_1/2353691297.jpg 4\n"
          ]
        },
        {
          "output_type": "display_data",
          "data": {
            "application/javascript": [
              "\n",
              "        if (window._pyforest_update_imports_cell) { window._pyforest_update_imports_cell('from sklearn.model_selection import cross_val_score\\nimport torch\\nimport bokeh\\nimport pandas as pd\\nimport numpy as np\\nimport matplotlib as mpl\\nfrom sklearn.feature_extraction.text import CountVectorizer\\nfrom sklearn.model_selection import train_test_split\\nfrom sklearn import metrics\\nimport tqdm\\nimport cv2\\nfrom statsmodels.tsa.arima_model import ARIMA\\nimport textblob\\nimport altair as alt'); }\n",
              "    "
            ],
            "text/plain": [
              "<IPython.core.display.Javascript object>"
            ]
          },
          "metadata": {}
        },
        {
          "output_type": "stream",
          "name": "stdout",
          "text": [
            "/content/ML_class_final/test_imgs_1/135094227.jpg 1\n"
          ]
        },
        {
          "output_type": "display_data",
          "data": {
            "application/javascript": [
              "\n",
              "        if (window._pyforest_update_imports_cell) { window._pyforest_update_imports_cell('from sklearn.model_selection import cross_val_score\\nimport torch\\nimport bokeh\\nimport pandas as pd\\nimport numpy as np\\nimport matplotlib as mpl\\nfrom sklearn.feature_extraction.text import CountVectorizer\\nfrom sklearn.model_selection import train_test_split\\nfrom sklearn import metrics\\nimport tqdm\\nimport cv2\\nfrom statsmodels.tsa.arima_model import ARIMA\\nimport textblob\\nimport altair as alt'); }\n",
              "    "
            ],
            "text/plain": [
              "<IPython.core.display.Javascript object>"
            ]
          },
          "metadata": {}
        },
        {
          "output_type": "stream",
          "name": "stdout",
          "text": [
            "/content/ML_class_final/test_imgs_1/3354273498.jpg 1\n"
          ]
        },
        {
          "output_type": "display_data",
          "data": {
            "application/javascript": [
              "\n",
              "        if (window._pyforest_update_imports_cell) { window._pyforest_update_imports_cell('from sklearn.model_selection import cross_val_score\\nimport torch\\nimport bokeh\\nimport pandas as pd\\nimport numpy as np\\nimport matplotlib as mpl\\nfrom sklearn.feature_extraction.text import CountVectorizer\\nfrom sklearn.model_selection import train_test_split\\nfrom sklearn import metrics\\nimport tqdm\\nimport cv2\\nfrom statsmodels.tsa.arima_model import ARIMA\\nimport textblob\\nimport altair as alt'); }\n",
              "    "
            ],
            "text/plain": [
              "<IPython.core.display.Javascript object>"
            ]
          },
          "metadata": {}
        },
        {
          "output_type": "stream",
          "name": "stdout",
          "text": [
            "/content/ML_class_final/test_imgs_1/1011571614.jpg 1\n"
          ]
        },
        {
          "output_type": "display_data",
          "data": {
            "application/javascript": [
              "\n",
              "        if (window._pyforest_update_imports_cell) { window._pyforest_update_imports_cell('from sklearn.model_selection import cross_val_score\\nimport torch\\nimport bokeh\\nimport pandas as pd\\nimport numpy as np\\nimport matplotlib as mpl\\nfrom sklearn.feature_extraction.text import CountVectorizer\\nfrom sklearn.model_selection import train_test_split\\nfrom sklearn import metrics\\nimport tqdm\\nimport cv2\\nfrom statsmodels.tsa.arima_model import ARIMA\\nimport textblob\\nimport altair as alt'); }\n",
              "    "
            ],
            "text/plain": [
              "<IPython.core.display.Javascript object>"
            ]
          },
          "metadata": {}
        },
        {
          "output_type": "stream",
          "name": "stdout",
          "text": [
            "/content/ML_class_final/test_imgs_1/2280394057.jpg 1\n"
          ]
        },
        {
          "output_type": "display_data",
          "data": {
            "application/javascript": [
              "\n",
              "        if (window._pyforest_update_imports_cell) { window._pyforest_update_imports_cell('from sklearn.model_selection import cross_val_score\\nimport torch\\nimport bokeh\\nimport pandas as pd\\nimport numpy as np\\nimport matplotlib as mpl\\nfrom sklearn.feature_extraction.text import CountVectorizer\\nfrom sklearn.model_selection import train_test_split\\nfrom sklearn import metrics\\nimport tqdm\\nimport cv2\\nfrom statsmodels.tsa.arima_model import ARIMA\\nimport textblob\\nimport altair as alt'); }\n",
              "    "
            ],
            "text/plain": [
              "<IPython.core.display.Javascript object>"
            ]
          },
          "metadata": {}
        },
        {
          "output_type": "stream",
          "name": "stdout",
          "text": [
            "/content/ML_class_final/test_imgs_1/4132540951.jpg 4\n"
          ]
        },
        {
          "output_type": "display_data",
          "data": {
            "application/javascript": [
              "\n",
              "        if (window._pyforest_update_imports_cell) { window._pyforest_update_imports_cell('from sklearn.model_selection import cross_val_score\\nimport torch\\nimport bokeh\\nimport pandas as pd\\nimport numpy as np\\nimport matplotlib as mpl\\nfrom sklearn.feature_extraction.text import CountVectorizer\\nfrom sklearn.model_selection import train_test_split\\nfrom sklearn import metrics\\nimport tqdm\\nimport cv2\\nfrom statsmodels.tsa.arima_model import ARIMA\\nimport textblob\\nimport altair as alt'); }\n",
              "    "
            ],
            "text/plain": [
              "<IPython.core.display.Javascript object>"
            ]
          },
          "metadata": {}
        },
        {
          "output_type": "stream",
          "name": "stdout",
          "text": [
            "/content/ML_class_final/test_imgs_1/1936471252.jpg 3\n"
          ]
        },
        {
          "output_type": "display_data",
          "data": {
            "application/javascript": [
              "\n",
              "        if (window._pyforest_update_imports_cell) { window._pyforest_update_imports_cell('from sklearn.model_selection import cross_val_score\\nimport torch\\nimport bokeh\\nimport pandas as pd\\nimport numpy as np\\nimport matplotlib as mpl\\nfrom sklearn.feature_extraction.text import CountVectorizer\\nfrom sklearn.model_selection import train_test_split\\nfrom sklearn import metrics\\nimport tqdm\\nimport cv2\\nfrom statsmodels.tsa.arima_model import ARIMA\\nimport textblob\\nimport altair as alt'); }\n",
              "    "
            ],
            "text/plain": [
              "<IPython.core.display.Javascript object>"
            ]
          },
          "metadata": {}
        },
        {
          "output_type": "stream",
          "name": "stdout",
          "text": [
            "/content/ML_class_final/test_imgs_1/3026594115.jpg 3\n"
          ]
        },
        {
          "output_type": "display_data",
          "data": {
            "application/javascript": [
              "\n",
              "        if (window._pyforest_update_imports_cell) { window._pyforest_update_imports_cell('from sklearn.model_selection import cross_val_score\\nimport torch\\nimport bokeh\\nimport pandas as pd\\nimport numpy as np\\nimport matplotlib as mpl\\nfrom sklearn.feature_extraction.text import CountVectorizer\\nfrom sklearn.model_selection import train_test_split\\nfrom sklearn import metrics\\nimport tqdm\\nimport cv2\\nfrom statsmodels.tsa.arima_model import ARIMA\\nimport textblob\\nimport altair as alt'); }\n",
              "    "
            ],
            "text/plain": [
              "<IPython.core.display.Javascript object>"
            ]
          },
          "metadata": {}
        },
        {
          "output_type": "stream",
          "name": "stdout",
          "text": [
            "/content/ML_class_final/test_imgs_1/3171724304.jpg 1\n"
          ]
        },
        {
          "output_type": "display_data",
          "data": {
            "application/javascript": [
              "\n",
              "        if (window._pyforest_update_imports_cell) { window._pyforest_update_imports_cell('from sklearn.model_selection import cross_val_score\\nimport torch\\nimport bokeh\\nimport pandas as pd\\nimport numpy as np\\nimport matplotlib as mpl\\nfrom sklearn.feature_extraction.text import CountVectorizer\\nfrom sklearn.model_selection import train_test_split\\nfrom sklearn import metrics\\nimport tqdm\\nimport cv2\\nfrom statsmodels.tsa.arima_model import ARIMA\\nimport textblob\\nimport altair as alt'); }\n",
              "    "
            ],
            "text/plain": [
              "<IPython.core.display.Javascript object>"
            ]
          },
          "metadata": {}
        },
        {
          "output_type": "stream",
          "name": "stdout",
          "text": [
            "/content/ML_class_final/test_imgs_1/997910101.jpg 3\n"
          ]
        },
        {
          "output_type": "display_data",
          "data": {
            "application/javascript": [
              "\n",
              "        if (window._pyforest_update_imports_cell) { window._pyforest_update_imports_cell('from sklearn.model_selection import cross_val_score\\nimport torch\\nimport bokeh\\nimport pandas as pd\\nimport numpy as np\\nimport matplotlib as mpl\\nfrom sklearn.feature_extraction.text import CountVectorizer\\nfrom sklearn.model_selection import train_test_split\\nfrom sklearn import metrics\\nimport tqdm\\nimport cv2\\nfrom statsmodels.tsa.arima_model import ARIMA\\nimport textblob\\nimport altair as alt'); }\n",
              "    "
            ],
            "text/plain": [
              "<IPython.core.display.Javascript object>"
            ]
          },
          "metadata": {}
        },
        {
          "output_type": "stream",
          "name": "stdout",
          "text": [
            "/content/ML_class_final/test_imgs_1/4182889279.jpg 4\n"
          ]
        },
        {
          "output_type": "display_data",
          "data": {
            "application/javascript": [
              "\n",
              "        if (window._pyforest_update_imports_cell) { window._pyforest_update_imports_cell('from sklearn.model_selection import cross_val_score\\nimport torch\\nimport bokeh\\nimport pandas as pd\\nimport numpy as np\\nimport matplotlib as mpl\\nfrom sklearn.feature_extraction.text import CountVectorizer\\nfrom sklearn.model_selection import train_test_split\\nfrom sklearn import metrics\\nimport tqdm\\nimport cv2\\nfrom statsmodels.tsa.arima_model import ARIMA\\nimport textblob\\nimport altair as alt'); }\n",
              "    "
            ],
            "text/plain": [
              "<IPython.core.display.Javascript object>"
            ]
          },
          "metadata": {}
        },
        {
          "output_type": "stream",
          "name": "stdout",
          "text": [
            "/content/ML_class_final/test_imgs_1/1840519830.jpg 4\n"
          ]
        },
        {
          "output_type": "display_data",
          "data": {
            "application/javascript": [
              "\n",
              "        if (window._pyforest_update_imports_cell) { window._pyforest_update_imports_cell('from sklearn.model_selection import cross_val_score\\nimport torch\\nimport bokeh\\nimport pandas as pd\\nimport numpy as np\\nimport matplotlib as mpl\\nfrom sklearn.feature_extraction.text import CountVectorizer\\nfrom sklearn.model_selection import train_test_split\\nfrom sklearn import metrics\\nimport tqdm\\nimport cv2\\nfrom statsmodels.tsa.arima_model import ARIMA\\nimport textblob\\nimport altair as alt'); }\n",
              "    "
            ],
            "text/plain": [
              "<IPython.core.display.Javascript object>"
            ]
          },
          "metadata": {}
        },
        {
          "output_type": "stream",
          "name": "stdout",
          "text": [
            "/content/ML_class_final/test_imgs_1/1945153538.jpg 4\n"
          ]
        },
        {
          "output_type": "display_data",
          "data": {
            "application/javascript": [
              "\n",
              "        if (window._pyforest_update_imports_cell) { window._pyforest_update_imports_cell('from sklearn.model_selection import cross_val_score\\nimport torch\\nimport bokeh\\nimport pandas as pd\\nimport numpy as np\\nimport matplotlib as mpl\\nfrom sklearn.feature_extraction.text import CountVectorizer\\nfrom sklearn.model_selection import train_test_split\\nfrom sklearn import metrics\\nimport tqdm\\nimport cv2\\nfrom statsmodels.tsa.arima_model import ARIMA\\nimport textblob\\nimport altair as alt'); }\n",
              "    "
            ],
            "text/plain": [
              "<IPython.core.display.Javascript object>"
            ]
          },
          "metadata": {}
        },
        {
          "output_type": "stream",
          "name": "stdout",
          "text": [
            "/content/ML_class_final/test_imgs_1/1822218545.jpg 1\n"
          ]
        },
        {
          "output_type": "display_data",
          "data": {
            "application/javascript": [
              "\n",
              "        if (window._pyforest_update_imports_cell) { window._pyforest_update_imports_cell('from sklearn.model_selection import cross_val_score\\nimport torch\\nimport bokeh\\nimport pandas as pd\\nimport numpy as np\\nimport matplotlib as mpl\\nfrom sklearn.feature_extraction.text import CountVectorizer\\nfrom sklearn.model_selection import train_test_split\\nfrom sklearn import metrics\\nimport tqdm\\nimport cv2\\nfrom statsmodels.tsa.arima_model import ARIMA\\nimport textblob\\nimport altair as alt'); }\n",
              "    "
            ],
            "text/plain": [
              "<IPython.core.display.Javascript object>"
            ]
          },
          "metadata": {}
        },
        {
          "output_type": "stream",
          "name": "stdout",
          "text": [
            "/content/ML_class_final/test_imgs_1/3673046362.jpg 3\n"
          ]
        },
        {
          "output_type": "display_data",
          "data": {
            "application/javascript": [
              "\n",
              "        if (window._pyforest_update_imports_cell) { window._pyforest_update_imports_cell('from sklearn.model_selection import cross_val_score\\nimport torch\\nimport bokeh\\nimport pandas as pd\\nimport numpy as np\\nimport matplotlib as mpl\\nfrom sklearn.feature_extraction.text import CountVectorizer\\nfrom sklearn.model_selection import train_test_split\\nfrom sklearn import metrics\\nimport tqdm\\nimport cv2\\nfrom statsmodels.tsa.arima_model import ARIMA\\nimport textblob\\nimport altair as alt'); }\n",
              "    "
            ],
            "text/plain": [
              "<IPython.core.display.Javascript object>"
            ]
          },
          "metadata": {}
        },
        {
          "output_type": "stream",
          "name": "stdout",
          "text": [
            "/content/ML_class_final/test_imgs_1/1409426378.jpg 2\n"
          ]
        },
        {
          "output_type": "display_data",
          "data": {
            "application/javascript": [
              "\n",
              "        if (window._pyforest_update_imports_cell) { window._pyforest_update_imports_cell('from sklearn.model_selection import cross_val_score\\nimport torch\\nimport bokeh\\nimport pandas as pd\\nimport numpy as np\\nimport matplotlib as mpl\\nfrom sklearn.feature_extraction.text import CountVectorizer\\nfrom sklearn.model_selection import train_test_split\\nfrom sklearn import metrics\\nimport tqdm\\nimport cv2\\nfrom statsmodels.tsa.arima_model import ARIMA\\nimport textblob\\nimport altair as alt'); }\n",
              "    "
            ],
            "text/plain": [
              "<IPython.core.display.Javascript object>"
            ]
          },
          "metadata": {}
        },
        {
          "output_type": "stream",
          "name": "stdout",
          "text": [
            "/content/ML_class_final/test_imgs_1/3602819316.jpg 1\n"
          ]
        },
        {
          "output_type": "display_data",
          "data": {
            "application/javascript": [
              "\n",
              "        if (window._pyforest_update_imports_cell) { window._pyforest_update_imports_cell('from sklearn.model_selection import cross_val_score\\nimport torch\\nimport bokeh\\nimport pandas as pd\\nimport numpy as np\\nimport matplotlib as mpl\\nfrom sklearn.feature_extraction.text import CountVectorizer\\nfrom sklearn.model_selection import train_test_split\\nfrom sklearn import metrics\\nimport tqdm\\nimport cv2\\nfrom statsmodels.tsa.arima_model import ARIMA\\nimport textblob\\nimport altair as alt'); }\n",
              "    "
            ],
            "text/plain": [
              "<IPython.core.display.Javascript object>"
            ]
          },
          "metadata": {}
        },
        {
          "output_type": "stream",
          "name": "stdout",
          "text": [
            "/content/ML_class_final/test_imgs_1/963168720.jpg 3\n"
          ]
        },
        {
          "output_type": "display_data",
          "data": {
            "application/javascript": [
              "\n",
              "        if (window._pyforest_update_imports_cell) { window._pyforest_update_imports_cell('from sklearn.model_selection import cross_val_score\\nimport torch\\nimport bokeh\\nimport pandas as pd\\nimport numpy as np\\nimport matplotlib as mpl\\nfrom sklearn.feature_extraction.text import CountVectorizer\\nfrom sklearn.model_selection import train_test_split\\nfrom sklearn import metrics\\nimport tqdm\\nimport cv2\\nfrom statsmodels.tsa.arima_model import ARIMA\\nimport textblob\\nimport altair as alt'); }\n",
              "    "
            ],
            "text/plain": [
              "<IPython.core.display.Javascript object>"
            ]
          },
          "metadata": {}
        },
        {
          "output_type": "stream",
          "name": "stdout",
          "text": [
            "/content/ML_class_final/test_imgs_1/3184864595.jpg 1\n"
          ]
        },
        {
          "output_type": "display_data",
          "data": {
            "application/javascript": [
              "\n",
              "        if (window._pyforest_update_imports_cell) { window._pyforest_update_imports_cell('from sklearn.model_selection import cross_val_score\\nimport torch\\nimport bokeh\\nimport pandas as pd\\nimport numpy as np\\nimport matplotlib as mpl\\nfrom sklearn.feature_extraction.text import CountVectorizer\\nfrom sklearn.model_selection import train_test_split\\nfrom sklearn import metrics\\nimport tqdm\\nimport cv2\\nfrom statsmodels.tsa.arima_model import ARIMA\\nimport textblob\\nimport altair as alt'); }\n",
              "    "
            ],
            "text/plain": [
              "<IPython.core.display.Javascript object>"
            ]
          },
          "metadata": {}
        },
        {
          "output_type": "stream",
          "name": "stdout",
          "text": [
            "/content/ML_class_final/test_imgs_1/187887606.jpg 4\n"
          ]
        },
        {
          "output_type": "display_data",
          "data": {
            "application/javascript": [
              "\n",
              "        if (window._pyforest_update_imports_cell) { window._pyforest_update_imports_cell('from sklearn.model_selection import cross_val_score\\nimport torch\\nimport bokeh\\nimport pandas as pd\\nimport numpy as np\\nimport matplotlib as mpl\\nfrom sklearn.feature_extraction.text import CountVectorizer\\nfrom sklearn.model_selection import train_test_split\\nfrom sklearn import metrics\\nimport tqdm\\nimport cv2\\nfrom statsmodels.tsa.arima_model import ARIMA\\nimport textblob\\nimport altair as alt'); }\n",
              "    "
            ],
            "text/plain": [
              "<IPython.core.display.Javascript object>"
            ]
          },
          "metadata": {}
        },
        {
          "output_type": "stream",
          "name": "stdout",
          "text": [
            "/content/ML_class_final/test_imgs_1/3247553763.jpg 4\n"
          ]
        },
        {
          "output_type": "display_data",
          "data": {
            "application/javascript": [
              "\n",
              "        if (window._pyforest_update_imports_cell) { window._pyforest_update_imports_cell('from sklearn.model_selection import cross_val_score\\nimport torch\\nimport bokeh\\nimport pandas as pd\\nimport numpy as np\\nimport matplotlib as mpl\\nfrom sklearn.feature_extraction.text import CountVectorizer\\nfrom sklearn.model_selection import train_test_split\\nfrom sklearn import metrics\\nimport tqdm\\nimport cv2\\nfrom statsmodels.tsa.arima_model import ARIMA\\nimport textblob\\nimport altair as alt'); }\n",
              "    "
            ],
            "text/plain": [
              "<IPython.core.display.Javascript object>"
            ]
          },
          "metadata": {}
        },
        {
          "output_type": "stream",
          "name": "stdout",
          "text": [
            "/content/ML_class_final/test_imgs_1/4062679165.jpg 1\n"
          ]
        },
        {
          "output_type": "display_data",
          "data": {
            "application/javascript": [
              "\n",
              "        if (window._pyforest_update_imports_cell) { window._pyforest_update_imports_cell('from sklearn.model_selection import cross_val_score\\nimport torch\\nimport bokeh\\nimport pandas as pd\\nimport numpy as np\\nimport matplotlib as mpl\\nfrom sklearn.feature_extraction.text import CountVectorizer\\nfrom sklearn.model_selection import train_test_split\\nfrom sklearn import metrics\\nimport tqdm\\nimport cv2\\nfrom statsmodels.tsa.arima_model import ARIMA\\nimport textblob\\nimport altair as alt'); }\n",
              "    "
            ],
            "text/plain": [
              "<IPython.core.display.Javascript object>"
            ]
          },
          "metadata": {}
        },
        {
          "output_type": "stream",
          "name": "stdout",
          "text": [
            "/content/ML_class_final/test_imgs_1/4256882986.jpg 1\n"
          ]
        },
        {
          "output_type": "display_data",
          "data": {
            "application/javascript": [
              "\n",
              "        if (window._pyforest_update_imports_cell) { window._pyforest_update_imports_cell('from sklearn.model_selection import cross_val_score\\nimport torch\\nimport bokeh\\nimport pandas as pd\\nimport numpy as np\\nimport matplotlib as mpl\\nfrom sklearn.feature_extraction.text import CountVectorizer\\nfrom sklearn.model_selection import train_test_split\\nfrom sklearn import metrics\\nimport tqdm\\nimport cv2\\nfrom statsmodels.tsa.arima_model import ARIMA\\nimport textblob\\nimport altair as alt'); }\n",
              "    "
            ],
            "text/plain": [
              "<IPython.core.display.Javascript object>"
            ]
          },
          "metadata": {}
        },
        {
          "output_type": "stream",
          "name": "stdout",
          "text": [
            "/content/ML_class_final/test_imgs_1/771588286.jpg 4\n"
          ]
        },
        {
          "output_type": "display_data",
          "data": {
            "application/javascript": [
              "\n",
              "        if (window._pyforest_update_imports_cell) { window._pyforest_update_imports_cell('from sklearn.model_selection import cross_val_score\\nimport torch\\nimport bokeh\\nimport pandas as pd\\nimport numpy as np\\nimport matplotlib as mpl\\nfrom sklearn.feature_extraction.text import CountVectorizer\\nfrom sklearn.model_selection import train_test_split\\nfrom sklearn import metrics\\nimport tqdm\\nimport cv2\\nfrom statsmodels.tsa.arima_model import ARIMA\\nimport textblob\\nimport altair as alt'); }\n",
              "    "
            ],
            "text/plain": [
              "<IPython.core.display.Javascript object>"
            ]
          },
          "metadata": {}
        },
        {
          "output_type": "stream",
          "name": "stdout",
          "text": [
            "/content/ML_class_final/test_imgs_1/173864450.jpg 4\n"
          ]
        },
        {
          "output_type": "display_data",
          "data": {
            "application/javascript": [
              "\n",
              "        if (window._pyforest_update_imports_cell) { window._pyforest_update_imports_cell('from sklearn.model_selection import cross_val_score\\nimport torch\\nimport bokeh\\nimport pandas as pd\\nimport numpy as np\\nimport matplotlib as mpl\\nfrom sklearn.feature_extraction.text import CountVectorizer\\nfrom sklearn.model_selection import train_test_split\\nfrom sklearn import metrics\\nimport tqdm\\nimport cv2\\nfrom statsmodels.tsa.arima_model import ARIMA\\nimport textblob\\nimport altair as alt'); }\n",
              "    "
            ],
            "text/plain": [
              "<IPython.core.display.Javascript object>"
            ]
          },
          "metadata": {}
        },
        {
          "output_type": "stream",
          "name": "stdout",
          "text": [
            "/content/ML_class_final/test_imgs_1/3151779462.jpg 0\n"
          ]
        },
        {
          "output_type": "display_data",
          "data": {
            "application/javascript": [
              "\n",
              "        if (window._pyforest_update_imports_cell) { window._pyforest_update_imports_cell('from sklearn.model_selection import cross_val_score\\nimport torch\\nimport bokeh\\nimport pandas as pd\\nimport numpy as np\\nimport matplotlib as mpl\\nfrom sklearn.feature_extraction.text import CountVectorizer\\nfrom sklearn.model_selection import train_test_split\\nfrom sklearn import metrics\\nimport tqdm\\nimport cv2\\nfrom statsmodels.tsa.arima_model import ARIMA\\nimport textblob\\nimport altair as alt'); }\n",
              "    "
            ],
            "text/plain": [
              "<IPython.core.display.Javascript object>"
            ]
          },
          "metadata": {}
        },
        {
          "output_type": "stream",
          "name": "stdout",
          "text": [
            "/content/ML_class_final/test_imgs_1/1602157367.jpg 4\n"
          ]
        },
        {
          "output_type": "display_data",
          "data": {
            "application/javascript": [
              "\n",
              "        if (window._pyforest_update_imports_cell) { window._pyforest_update_imports_cell('from sklearn.model_selection import cross_val_score\\nimport torch\\nimport bokeh\\nimport pandas as pd\\nimport numpy as np\\nimport matplotlib as mpl\\nfrom sklearn.feature_extraction.text import CountVectorizer\\nfrom sklearn.model_selection import train_test_split\\nfrom sklearn import metrics\\nimport tqdm\\nimport cv2\\nfrom statsmodels.tsa.arima_model import ARIMA\\nimport textblob\\nimport altair as alt'); }\n",
              "    "
            ],
            "text/plain": [
              "<IPython.core.display.Javascript object>"
            ]
          },
          "metadata": {}
        },
        {
          "output_type": "stream",
          "name": "stdout",
          "text": [
            "/content/ML_class_final/test_imgs_1/2488982493.jpg 3\n"
          ]
        },
        {
          "output_type": "display_data",
          "data": {
            "application/javascript": [
              "\n",
              "        if (window._pyforest_update_imports_cell) { window._pyforest_update_imports_cell('from sklearn.model_selection import cross_val_score\\nimport torch\\nimport bokeh\\nimport pandas as pd\\nimport numpy as np\\nimport matplotlib as mpl\\nfrom sklearn.feature_extraction.text import CountVectorizer\\nfrom sklearn.model_selection import train_test_split\\nfrom sklearn import metrics\\nimport tqdm\\nimport cv2\\nfrom statsmodels.tsa.arima_model import ARIMA\\nimport textblob\\nimport altair as alt'); }\n",
              "    "
            ],
            "text/plain": [
              "<IPython.core.display.Javascript object>"
            ]
          },
          "metadata": {}
        },
        {
          "output_type": "stream",
          "name": "stdout",
          "text": [
            "/content/ML_class_final/test_imgs_1/1622141266.jpg 1\n"
          ]
        },
        {
          "output_type": "display_data",
          "data": {
            "application/javascript": [
              "\n",
              "        if (window._pyforest_update_imports_cell) { window._pyforest_update_imports_cell('from sklearn.model_selection import cross_val_score\\nimport torch\\nimport bokeh\\nimport pandas as pd\\nimport numpy as np\\nimport matplotlib as mpl\\nfrom sklearn.feature_extraction.text import CountVectorizer\\nfrom sklearn.model_selection import train_test_split\\nfrom sklearn import metrics\\nimport tqdm\\nimport cv2\\nfrom statsmodels.tsa.arima_model import ARIMA\\nimport textblob\\nimport altair as alt'); }\n",
              "    "
            ],
            "text/plain": [
              "<IPython.core.display.Javascript object>"
            ]
          },
          "metadata": {}
        },
        {
          "output_type": "stream",
          "name": "stdout",
          "text": [
            "/content/ML_class_final/test_imgs_1/298056095.jpg 1\n"
          ]
        },
        {
          "output_type": "display_data",
          "data": {
            "application/javascript": [
              "\n",
              "        if (window._pyforest_update_imports_cell) { window._pyforest_update_imports_cell('from sklearn.model_selection import cross_val_score\\nimport torch\\nimport bokeh\\nimport pandas as pd\\nimport numpy as np\\nimport matplotlib as mpl\\nfrom sklearn.feature_extraction.text import CountVectorizer\\nfrom sklearn.model_selection import train_test_split\\nfrom sklearn import metrics\\nimport tqdm\\nimport cv2\\nfrom statsmodels.tsa.arima_model import ARIMA\\nimport textblob\\nimport altair as alt'); }\n",
              "    "
            ],
            "text/plain": [
              "<IPython.core.display.Javascript object>"
            ]
          },
          "metadata": {}
        },
        {
          "output_type": "stream",
          "name": "stdout",
          "text": [
            "/content/ML_class_final/test_imgs_1/3971043257.jpg 4\n"
          ]
        },
        {
          "output_type": "display_data",
          "data": {
            "application/javascript": [
              "\n",
              "        if (window._pyforest_update_imports_cell) { window._pyforest_update_imports_cell('from sklearn.model_selection import cross_val_score\\nimport torch\\nimport bokeh\\nimport pandas as pd\\nimport numpy as np\\nimport matplotlib as mpl\\nfrom sklearn.feature_extraction.text import CountVectorizer\\nfrom sklearn.model_selection import train_test_split\\nfrom sklearn import metrics\\nimport tqdm\\nimport cv2\\nfrom statsmodels.tsa.arima_model import ARIMA\\nimport textblob\\nimport altair as alt'); }\n",
              "    "
            ],
            "text/plain": [
              "<IPython.core.display.Javascript object>"
            ]
          },
          "metadata": {}
        },
        {
          "output_type": "stream",
          "name": "stdout",
          "text": [
            "/content/ML_class_final/test_imgs_1/1218351890.jpg 1\n"
          ]
        },
        {
          "output_type": "display_data",
          "data": {
            "application/javascript": [
              "\n",
              "        if (window._pyforest_update_imports_cell) { window._pyforest_update_imports_cell('from sklearn.model_selection import cross_val_score\\nimport torch\\nimport bokeh\\nimport pandas as pd\\nimport numpy as np\\nimport matplotlib as mpl\\nfrom sklearn.feature_extraction.text import CountVectorizer\\nfrom sklearn.model_selection import train_test_split\\nfrom sklearn import metrics\\nimport tqdm\\nimport cv2\\nfrom statsmodels.tsa.arima_model import ARIMA\\nimport textblob\\nimport altair as alt'); }\n",
              "    "
            ],
            "text/plain": [
              "<IPython.core.display.Javascript object>"
            ]
          },
          "metadata": {}
        },
        {
          "output_type": "stream",
          "name": "stdout",
          "text": [
            "/content/ML_class_final/test_imgs_1/2369441283.jpg 3\n"
          ]
        },
        {
          "output_type": "display_data",
          "data": {
            "application/javascript": [
              "\n",
              "        if (window._pyforest_update_imports_cell) { window._pyforest_update_imports_cell('from sklearn.model_selection import cross_val_score\\nimport torch\\nimport bokeh\\nimport pandas as pd\\nimport numpy as np\\nimport matplotlib as mpl\\nfrom sklearn.feature_extraction.text import CountVectorizer\\nfrom sklearn.model_selection import train_test_split\\nfrom sklearn import metrics\\nimport tqdm\\nimport cv2\\nfrom statsmodels.tsa.arima_model import ARIMA\\nimport textblob\\nimport altair as alt'); }\n",
              "    "
            ],
            "text/plain": [
              "<IPython.core.display.Javascript object>"
            ]
          },
          "metadata": {}
        },
        {
          "output_type": "stream",
          "name": "stdout",
          "text": [
            "/content/ML_class_final/test_imgs_1/1952239701.jpg 4\n"
          ]
        },
        {
          "output_type": "display_data",
          "data": {
            "application/javascript": [
              "\n",
              "        if (window._pyforest_update_imports_cell) { window._pyforest_update_imports_cell('from sklearn.model_selection import cross_val_score\\nimport torch\\nimport bokeh\\nimport pandas as pd\\nimport numpy as np\\nimport matplotlib as mpl\\nfrom sklearn.feature_extraction.text import CountVectorizer\\nfrom sklearn.model_selection import train_test_split\\nfrom sklearn import metrics\\nimport tqdm\\nimport cv2\\nfrom statsmodels.tsa.arima_model import ARIMA\\nimport textblob\\nimport altair as alt'); }\n",
              "    "
            ],
            "text/plain": [
              "<IPython.core.display.Javascript object>"
            ]
          },
          "metadata": {}
        },
        {
          "output_type": "stream",
          "name": "stdout",
          "text": [
            "/content/ML_class_final/test_imgs_1/1345401195.jpg 1\n"
          ]
        },
        {
          "output_type": "display_data",
          "data": {
            "application/javascript": [
              "\n",
              "        if (window._pyforest_update_imports_cell) { window._pyforest_update_imports_cell('from sklearn.model_selection import cross_val_score\\nimport torch\\nimport bokeh\\nimport pandas as pd\\nimport numpy as np\\nimport matplotlib as mpl\\nfrom sklearn.feature_extraction.text import CountVectorizer\\nfrom sklearn.model_selection import train_test_split\\nfrom sklearn import metrics\\nimport tqdm\\nimport cv2\\nfrom statsmodels.tsa.arima_model import ARIMA\\nimport textblob\\nimport altair as alt'); }\n",
              "    "
            ],
            "text/plain": [
              "<IPython.core.display.Javascript object>"
            ]
          },
          "metadata": {}
        },
        {
          "output_type": "stream",
          "name": "stdout",
          "text": [
            "/content/ML_class_final/test_imgs_1/732531942.jpg 3\n"
          ]
        },
        {
          "output_type": "display_data",
          "data": {
            "application/javascript": [
              "\n",
              "        if (window._pyforest_update_imports_cell) { window._pyforest_update_imports_cell('from sklearn.model_selection import cross_val_score\\nimport torch\\nimport bokeh\\nimport pandas as pd\\nimport numpy as np\\nimport matplotlib as mpl\\nfrom sklearn.feature_extraction.text import CountVectorizer\\nfrom sklearn.model_selection import train_test_split\\nfrom sklearn import metrics\\nimport tqdm\\nimport cv2\\nfrom statsmodels.tsa.arima_model import ARIMA\\nimport textblob\\nimport altair as alt'); }\n",
              "    "
            ],
            "text/plain": [
              "<IPython.core.display.Javascript object>"
            ]
          },
          "metadata": {}
        },
        {
          "output_type": "stream",
          "name": "stdout",
          "text": [
            "/content/ML_class_final/test_imgs_1/1251480782.jpg 4\n"
          ]
        },
        {
          "output_type": "display_data",
          "data": {
            "application/javascript": [
              "\n",
              "        if (window._pyforest_update_imports_cell) { window._pyforest_update_imports_cell('from sklearn.model_selection import cross_val_score\\nimport torch\\nimport bokeh\\nimport pandas as pd\\nimport numpy as np\\nimport matplotlib as mpl\\nfrom sklearn.feature_extraction.text import CountVectorizer\\nfrom sklearn.model_selection import train_test_split\\nfrom sklearn import metrics\\nimport tqdm\\nimport cv2\\nfrom statsmodels.tsa.arima_model import ARIMA\\nimport textblob\\nimport altair as alt'); }\n",
              "    "
            ],
            "text/plain": [
              "<IPython.core.display.Javascript object>"
            ]
          },
          "metadata": {}
        },
        {
          "output_type": "stream",
          "name": "stdout",
          "text": [
            "/content/ML_class_final/test_imgs_1/541997227.jpg 1\n"
          ]
        },
        {
          "output_type": "display_data",
          "data": {
            "application/javascript": [
              "\n",
              "        if (window._pyforest_update_imports_cell) { window._pyforest_update_imports_cell('from sklearn.model_selection import cross_val_score\\nimport torch\\nimport bokeh\\nimport pandas as pd\\nimport numpy as np\\nimport matplotlib as mpl\\nfrom sklearn.feature_extraction.text import CountVectorizer\\nfrom sklearn.model_selection import train_test_split\\nfrom sklearn import metrics\\nimport tqdm\\nimport cv2\\nfrom statsmodels.tsa.arima_model import ARIMA\\nimport textblob\\nimport altair as alt'); }\n",
              "    "
            ],
            "text/plain": [
              "<IPython.core.display.Javascript object>"
            ]
          },
          "metadata": {}
        },
        {
          "output_type": "stream",
          "name": "stdout",
          "text": [
            "/content/ML_class_final/test_imgs_1/1894675387.jpg 4\n"
          ]
        },
        {
          "output_type": "display_data",
          "data": {
            "application/javascript": [
              "\n",
              "        if (window._pyforest_update_imports_cell) { window._pyforest_update_imports_cell('from sklearn.model_selection import cross_val_score\\nimport torch\\nimport bokeh\\nimport pandas as pd\\nimport numpy as np\\nimport matplotlib as mpl\\nfrom sklearn.feature_extraction.text import CountVectorizer\\nfrom sklearn.model_selection import train_test_split\\nfrom sklearn import metrics\\nimport tqdm\\nimport cv2\\nfrom statsmodels.tsa.arima_model import ARIMA\\nimport textblob\\nimport altair as alt'); }\n",
              "    "
            ],
            "text/plain": [
              "<IPython.core.display.Javascript object>"
            ]
          },
          "metadata": {}
        },
        {
          "output_type": "stream",
          "name": "stdout",
          "text": [
            "/content/ML_class_final/test_imgs_1/1745363268.jpg 4\n"
          ]
        },
        {
          "output_type": "display_data",
          "data": {
            "application/javascript": [
              "\n",
              "        if (window._pyforest_update_imports_cell) { window._pyforest_update_imports_cell('from sklearn.model_selection import cross_val_score\\nimport torch\\nimport bokeh\\nimport pandas as pd\\nimport numpy as np\\nimport matplotlib as mpl\\nfrom sklearn.feature_extraction.text import CountVectorizer\\nfrom sklearn.model_selection import train_test_split\\nfrom sklearn import metrics\\nimport tqdm\\nimport cv2\\nfrom statsmodels.tsa.arima_model import ARIMA\\nimport textblob\\nimport altair as alt'); }\n",
              "    "
            ],
            "text/plain": [
              "<IPython.core.display.Javascript object>"
            ]
          },
          "metadata": {}
        },
        {
          "output_type": "stream",
          "name": "stdout",
          "text": [
            "/content/ML_class_final/test_imgs_1/1426129628.jpg 1\n"
          ]
        },
        {
          "output_type": "display_data",
          "data": {
            "application/javascript": [
              "\n",
              "        if (window._pyforest_update_imports_cell) { window._pyforest_update_imports_cell('from sklearn.model_selection import cross_val_score\\nimport torch\\nimport bokeh\\nimport pandas as pd\\nimport numpy as np\\nimport matplotlib as mpl\\nfrom sklearn.feature_extraction.text import CountVectorizer\\nfrom sklearn.model_selection import train_test_split\\nfrom sklearn import metrics\\nimport tqdm\\nimport cv2\\nfrom statsmodels.tsa.arima_model import ARIMA\\nimport textblob\\nimport altair as alt'); }\n",
              "    "
            ],
            "text/plain": [
              "<IPython.core.display.Javascript object>"
            ]
          },
          "metadata": {}
        },
        {
          "output_type": "stream",
          "name": "stdout",
          "text": [
            "/content/ML_class_final/test_imgs_1/1568245644.jpg 0\n"
          ]
        },
        {
          "output_type": "display_data",
          "data": {
            "application/javascript": [
              "\n",
              "        if (window._pyforest_update_imports_cell) { window._pyforest_update_imports_cell('from sklearn.model_selection import cross_val_score\\nimport torch\\nimport bokeh\\nimport pandas as pd\\nimport numpy as np\\nimport matplotlib as mpl\\nfrom sklearn.feature_extraction.text import CountVectorizer\\nfrom sklearn.model_selection import train_test_split\\nfrom sklearn import metrics\\nimport tqdm\\nimport cv2\\nfrom statsmodels.tsa.arima_model import ARIMA\\nimport textblob\\nimport altair as alt'); }\n",
              "    "
            ],
            "text/plain": [
              "<IPython.core.display.Javascript object>"
            ]
          },
          "metadata": {}
        },
        {
          "output_type": "stream",
          "name": "stdout",
          "text": [
            "/content/ML_class_final/test_imgs_1/1955971780.jpg 1\n"
          ]
        },
        {
          "output_type": "display_data",
          "data": {
            "application/javascript": [
              "\n",
              "        if (window._pyforest_update_imports_cell) { window._pyforest_update_imports_cell('from sklearn.model_selection import cross_val_score\\nimport torch\\nimport bokeh\\nimport pandas as pd\\nimport numpy as np\\nimport matplotlib as mpl\\nfrom sklearn.feature_extraction.text import CountVectorizer\\nfrom sklearn.model_selection import train_test_split\\nfrom sklearn import metrics\\nimport tqdm\\nimport cv2\\nfrom statsmodels.tsa.arima_model import ARIMA\\nimport textblob\\nimport altair as alt'); }\n",
              "    "
            ],
            "text/plain": [
              "<IPython.core.display.Javascript object>"
            ]
          },
          "metadata": {}
        },
        {
          "output_type": "stream",
          "name": "stdout",
          "text": [
            "/content/ML_class_final/test_imgs_1/2886939236.jpg 3\n"
          ]
        },
        {
          "output_type": "display_data",
          "data": {
            "application/javascript": [
              "\n",
              "        if (window._pyforest_update_imports_cell) { window._pyforest_update_imports_cell('from sklearn.model_selection import cross_val_score\\nimport torch\\nimport bokeh\\nimport pandas as pd\\nimport numpy as np\\nimport matplotlib as mpl\\nfrom sklearn.feature_extraction.text import CountVectorizer\\nfrom sklearn.model_selection import train_test_split\\nfrom sklearn import metrics\\nimport tqdm\\nimport cv2\\nfrom statsmodels.tsa.arima_model import ARIMA\\nimport textblob\\nimport altair as alt'); }\n",
              "    "
            ],
            "text/plain": [
              "<IPython.core.display.Javascript object>"
            ]
          },
          "metadata": {}
        },
        {
          "output_type": "stream",
          "name": "stdout",
          "text": [
            "/content/ML_class_final/test_imgs_1/796933103.jpg 1\n"
          ]
        },
        {
          "output_type": "display_data",
          "data": {
            "application/javascript": [
              "\n",
              "        if (window._pyforest_update_imports_cell) { window._pyforest_update_imports_cell('from sklearn.model_selection import cross_val_score\\nimport torch\\nimport bokeh\\nimport pandas as pd\\nimport numpy as np\\nimport matplotlib as mpl\\nfrom sklearn.feature_extraction.text import CountVectorizer\\nfrom sklearn.model_selection import train_test_split\\nfrom sklearn import metrics\\nimport tqdm\\nimport cv2\\nfrom statsmodels.tsa.arima_model import ARIMA\\nimport textblob\\nimport altair as alt'); }\n",
              "    "
            ],
            "text/plain": [
              "<IPython.core.display.Javascript object>"
            ]
          },
          "metadata": {}
        },
        {
          "output_type": "stream",
          "name": "stdout",
          "text": [
            "/content/ML_class_final/test_imgs_1/2027426362.jpg 1\n"
          ]
        },
        {
          "output_type": "display_data",
          "data": {
            "application/javascript": [
              "\n",
              "        if (window._pyforest_update_imports_cell) { window._pyforest_update_imports_cell('from sklearn.model_selection import cross_val_score\\nimport torch\\nimport bokeh\\nimport pandas as pd\\nimport numpy as np\\nimport matplotlib as mpl\\nfrom sklearn.feature_extraction.text import CountVectorizer\\nfrom sklearn.model_selection import train_test_split\\nfrom sklearn import metrics\\nimport tqdm\\nimport cv2\\nfrom statsmodels.tsa.arima_model import ARIMA\\nimport textblob\\nimport altair as alt'); }\n",
              "    "
            ],
            "text/plain": [
              "<IPython.core.display.Javascript object>"
            ]
          },
          "metadata": {}
        },
        {
          "output_type": "stream",
          "name": "stdout",
          "text": [
            "/content/ML_class_final/test_imgs_1/1891937724.jpg 4\n"
          ]
        },
        {
          "output_type": "display_data",
          "data": {
            "application/javascript": [
              "\n",
              "        if (window._pyforest_update_imports_cell) { window._pyforest_update_imports_cell('from sklearn.model_selection import cross_val_score\\nimport torch\\nimport bokeh\\nimport pandas as pd\\nimport numpy as np\\nimport matplotlib as mpl\\nfrom sklearn.feature_extraction.text import CountVectorizer\\nfrom sklearn.model_selection import train_test_split\\nfrom sklearn import metrics\\nimport tqdm\\nimport cv2\\nfrom statsmodels.tsa.arima_model import ARIMA\\nimport textblob\\nimport altair as alt'); }\n",
              "    "
            ],
            "text/plain": [
              "<IPython.core.display.Javascript object>"
            ]
          },
          "metadata": {}
        },
        {
          "output_type": "stream",
          "name": "stdout",
          "text": [
            "/content/ML_class_final/test_imgs_1/1164550544.jpg 4\n"
          ]
        },
        {
          "output_type": "display_data",
          "data": {
            "application/javascript": [
              "\n",
              "        if (window._pyforest_update_imports_cell) { window._pyforest_update_imports_cell('from sklearn.model_selection import cross_val_score\\nimport torch\\nimport bokeh\\nimport pandas as pd\\nimport numpy as np\\nimport matplotlib as mpl\\nfrom sklearn.feature_extraction.text import CountVectorizer\\nfrom sklearn.model_selection import train_test_split\\nfrom sklearn import metrics\\nimport tqdm\\nimport cv2\\nfrom statsmodels.tsa.arima_model import ARIMA\\nimport textblob\\nimport altair as alt'); }\n",
              "    "
            ],
            "text/plain": [
              "<IPython.core.display.Javascript object>"
            ]
          },
          "metadata": {}
        },
        {
          "output_type": "stream",
          "name": "stdout",
          "text": [
            "/content/ML_class_final/test_imgs_1/3878803293.jpg 3\n"
          ]
        },
        {
          "output_type": "display_data",
          "data": {
            "application/javascript": [
              "\n",
              "        if (window._pyforest_update_imports_cell) { window._pyforest_update_imports_cell('from sklearn.model_selection import cross_val_score\\nimport torch\\nimport bokeh\\nimport pandas as pd\\nimport numpy as np\\nimport matplotlib as mpl\\nfrom sklearn.feature_extraction.text import CountVectorizer\\nfrom sklearn.model_selection import train_test_split\\nfrom sklearn import metrics\\nimport tqdm\\nimport cv2\\nfrom statsmodels.tsa.arima_model import ARIMA\\nimport textblob\\nimport altair as alt'); }\n",
              "    "
            ],
            "text/plain": [
              "<IPython.core.display.Javascript object>"
            ]
          },
          "metadata": {}
        },
        {
          "output_type": "stream",
          "name": "stdout",
          "text": [
            "/content/ML_class_final/test_imgs_1/1881585879.jpg 4\n"
          ]
        },
        {
          "output_type": "display_data",
          "data": {
            "application/javascript": [
              "\n",
              "        if (window._pyforest_update_imports_cell) { window._pyforest_update_imports_cell('from sklearn.model_selection import cross_val_score\\nimport torch\\nimport bokeh\\nimport pandas as pd\\nimport numpy as np\\nimport matplotlib as mpl\\nfrom sklearn.feature_extraction.text import CountVectorizer\\nfrom sklearn.model_selection import train_test_split\\nfrom sklearn import metrics\\nimport tqdm\\nimport cv2\\nfrom statsmodels.tsa.arima_model import ARIMA\\nimport textblob\\nimport altair as alt'); }\n",
              "    "
            ],
            "text/plain": [
              "<IPython.core.display.Javascript object>"
            ]
          },
          "metadata": {}
        },
        {
          "output_type": "stream",
          "name": "stdout",
          "text": [
            "/content/ML_class_final/test_imgs_1/1748314267.jpg 4\n"
          ]
        },
        {
          "output_type": "display_data",
          "data": {
            "application/javascript": [
              "\n",
              "        if (window._pyforest_update_imports_cell) { window._pyforest_update_imports_cell('from sklearn.model_selection import cross_val_score\\nimport torch\\nimport bokeh\\nimport pandas as pd\\nimport numpy as np\\nimport matplotlib as mpl\\nfrom sklearn.feature_extraction.text import CountVectorizer\\nfrom sklearn.model_selection import train_test_split\\nfrom sklearn import metrics\\nimport tqdm\\nimport cv2\\nfrom statsmodels.tsa.arima_model import ARIMA\\nimport textblob\\nimport altair as alt'); }\n",
              "    "
            ],
            "text/plain": [
              "<IPython.core.display.Javascript object>"
            ]
          },
          "metadata": {}
        },
        {
          "output_type": "stream",
          "name": "stdout",
          "text": [
            "/content/ML_class_final/test_imgs_1/796761175.jpg 3\n"
          ]
        },
        {
          "output_type": "display_data",
          "data": {
            "application/javascript": [
              "\n",
              "        if (window._pyforest_update_imports_cell) { window._pyforest_update_imports_cell('from sklearn.model_selection import cross_val_score\\nimport torch\\nimport bokeh\\nimport pandas as pd\\nimport numpy as np\\nimport matplotlib as mpl\\nfrom sklearn.feature_extraction.text import CountVectorizer\\nfrom sklearn.model_selection import train_test_split\\nfrom sklearn import metrics\\nimport tqdm\\nimport cv2\\nfrom statsmodels.tsa.arima_model import ARIMA\\nimport textblob\\nimport altair as alt'); }\n",
              "    "
            ],
            "text/plain": [
              "<IPython.core.display.Javascript object>"
            ]
          },
          "metadata": {}
        },
        {
          "output_type": "stream",
          "name": "stdout",
          "text": [
            "/content/ML_class_final/test_imgs_1/503037836.jpg 4\n"
          ]
        },
        {
          "output_type": "display_data",
          "data": {
            "application/javascript": [
              "\n",
              "        if (window._pyforest_update_imports_cell) { window._pyforest_update_imports_cell('from sklearn.model_selection import cross_val_score\\nimport torch\\nimport bokeh\\nimport pandas as pd\\nimport numpy as np\\nimport matplotlib as mpl\\nfrom sklearn.feature_extraction.text import CountVectorizer\\nfrom sklearn.model_selection import train_test_split\\nfrom sklearn import metrics\\nimport tqdm\\nimport cv2\\nfrom statsmodels.tsa.arima_model import ARIMA\\nimport textblob\\nimport altair as alt'); }\n",
              "    "
            ],
            "text/plain": [
              "<IPython.core.display.Javascript object>"
            ]
          },
          "metadata": {}
        },
        {
          "output_type": "stream",
          "name": "stdout",
          "text": [
            "/content/ML_class_final/test_imgs_1/253218787.jpg 4\n"
          ]
        },
        {
          "output_type": "display_data",
          "data": {
            "application/javascript": [
              "\n",
              "        if (window._pyforest_update_imports_cell) { window._pyforest_update_imports_cell('from sklearn.model_selection import cross_val_score\\nimport torch\\nimport bokeh\\nimport pandas as pd\\nimport numpy as np\\nimport matplotlib as mpl\\nfrom sklearn.feature_extraction.text import CountVectorizer\\nfrom sklearn.model_selection import train_test_split\\nfrom sklearn import metrics\\nimport tqdm\\nimport cv2\\nfrom statsmodels.tsa.arima_model import ARIMA\\nimport textblob\\nimport altair as alt'); }\n",
              "    "
            ],
            "text/plain": [
              "<IPython.core.display.Javascript object>"
            ]
          },
          "metadata": {}
        },
        {
          "output_type": "stream",
          "name": "stdout",
          "text": [
            "/content/ML_class_final/test_imgs_1/3896618890.jpg 0\n"
          ]
        },
        {
          "output_type": "display_data",
          "data": {
            "application/javascript": [
              "\n",
              "        if (window._pyforest_update_imports_cell) { window._pyforest_update_imports_cell('from sklearn.model_selection import cross_val_score\\nimport torch\\nimport bokeh\\nimport pandas as pd\\nimport numpy as np\\nimport matplotlib as mpl\\nfrom sklearn.feature_extraction.text import CountVectorizer\\nfrom sklearn.model_selection import train_test_split\\nfrom sklearn import metrics\\nimport tqdm\\nimport cv2\\nfrom statsmodels.tsa.arima_model import ARIMA\\nimport textblob\\nimport altair as alt'); }\n",
              "    "
            ],
            "text/plain": [
              "<IPython.core.display.Javascript object>"
            ]
          },
          "metadata": {}
        },
        {
          "output_type": "stream",
          "name": "stdout",
          "text": [
            "/content/ML_class_final/test_imgs_1/3919261355.jpg 1\n"
          ]
        },
        {
          "output_type": "display_data",
          "data": {
            "application/javascript": [
              "\n",
              "        if (window._pyforest_update_imports_cell) { window._pyforest_update_imports_cell('from sklearn.model_selection import cross_val_score\\nimport torch\\nimport bokeh\\nimport pandas as pd\\nimport numpy as np\\nimport matplotlib as mpl\\nfrom sklearn.feature_extraction.text import CountVectorizer\\nfrom sklearn.model_selection import train_test_split\\nfrom sklearn import metrics\\nimport tqdm\\nimport cv2\\nfrom statsmodels.tsa.arima_model import ARIMA\\nimport textblob\\nimport altair as alt'); }\n",
              "    "
            ],
            "text/plain": [
              "<IPython.core.display.Javascript object>"
            ]
          },
          "metadata": {}
        },
        {
          "output_type": "stream",
          "name": "stdout",
          "text": [
            "/content/ML_class_final/test_imgs_1/1551557825.jpg 3\n"
          ]
        },
        {
          "output_type": "display_data",
          "data": {
            "application/javascript": [
              "\n",
              "        if (window._pyforest_update_imports_cell) { window._pyforest_update_imports_cell('from sklearn.model_selection import cross_val_score\\nimport torch\\nimport bokeh\\nimport pandas as pd\\nimport numpy as np\\nimport matplotlib as mpl\\nfrom sklearn.feature_extraction.text import CountVectorizer\\nfrom sklearn.model_selection import train_test_split\\nfrom sklearn import metrics\\nimport tqdm\\nimport cv2\\nfrom statsmodels.tsa.arima_model import ARIMA\\nimport textblob\\nimport altair as alt'); }\n",
              "    "
            ],
            "text/plain": [
              "<IPython.core.display.Javascript object>"
            ]
          },
          "metadata": {}
        },
        {
          "output_type": "stream",
          "name": "stdout",
          "text": [
            "/content/ML_class_final/test_imgs_1/2205584045.jpg 1\n"
          ]
        },
        {
          "output_type": "display_data",
          "data": {
            "application/javascript": [
              "\n",
              "        if (window._pyforest_update_imports_cell) { window._pyforest_update_imports_cell('from sklearn.model_selection import cross_val_score\\nimport torch\\nimport bokeh\\nimport pandas as pd\\nimport numpy as np\\nimport matplotlib as mpl\\nfrom sklearn.feature_extraction.text import CountVectorizer\\nfrom sklearn.model_selection import train_test_split\\nfrom sklearn import metrics\\nimport tqdm\\nimport cv2\\nfrom statsmodels.tsa.arima_model import ARIMA\\nimport textblob\\nimport altair as alt'); }\n",
              "    "
            ],
            "text/plain": [
              "<IPython.core.display.Javascript object>"
            ]
          },
          "metadata": {}
        },
        {
          "output_type": "stream",
          "name": "stdout",
          "text": [
            "/content/ML_class_final/test_imgs_1/184909120.jpg 3\n"
          ]
        },
        {
          "output_type": "display_data",
          "data": {
            "application/javascript": [
              "\n",
              "        if (window._pyforest_update_imports_cell) { window._pyforest_update_imports_cell('from sklearn.model_selection import cross_val_score\\nimport torch\\nimport bokeh\\nimport pandas as pd\\nimport numpy as np\\nimport matplotlib as mpl\\nfrom sklearn.feature_extraction.text import CountVectorizer\\nfrom sklearn.model_selection import train_test_split\\nfrom sklearn import metrics\\nimport tqdm\\nimport cv2\\nfrom statsmodels.tsa.arima_model import ARIMA\\nimport textblob\\nimport altair as alt'); }\n",
              "    "
            ],
            "text/plain": [
              "<IPython.core.display.Javascript object>"
            ]
          },
          "metadata": {}
        },
        {
          "output_type": "stream",
          "name": "stdout",
          "text": [
            "/content/ML_class_final/test_imgs_1/1536479398.jpg 1\n"
          ]
        },
        {
          "output_type": "display_data",
          "data": {
            "application/javascript": [
              "\n",
              "        if (window._pyforest_update_imports_cell) { window._pyforest_update_imports_cell('from sklearn.model_selection import cross_val_score\\nimport torch\\nimport bokeh\\nimport pandas as pd\\nimport numpy as np\\nimport matplotlib as mpl\\nfrom sklearn.feature_extraction.text import CountVectorizer\\nfrom sklearn.model_selection import train_test_split\\nfrom sklearn import metrics\\nimport tqdm\\nimport cv2\\nfrom statsmodels.tsa.arima_model import ARIMA\\nimport textblob\\nimport altair as alt'); }\n",
              "    "
            ],
            "text/plain": [
              "<IPython.core.display.Javascript object>"
            ]
          },
          "metadata": {}
        },
        {
          "output_type": "stream",
          "name": "stdout",
          "text": [
            "/content/ML_class_final/test_imgs_1/1059986462.jpg 3\n"
          ]
        },
        {
          "output_type": "display_data",
          "data": {
            "application/javascript": [
              "\n",
              "        if (window._pyforest_update_imports_cell) { window._pyforest_update_imports_cell('from sklearn.model_selection import cross_val_score\\nimport torch\\nimport bokeh\\nimport pandas as pd\\nimport numpy as np\\nimport matplotlib as mpl\\nfrom sklearn.feature_extraction.text import CountVectorizer\\nfrom sklearn.model_selection import train_test_split\\nfrom sklearn import metrics\\nimport tqdm\\nimport cv2\\nfrom statsmodels.tsa.arima_model import ARIMA\\nimport textblob\\nimport altair as alt'); }\n",
              "    "
            ],
            "text/plain": [
              "<IPython.core.display.Javascript object>"
            ]
          },
          "metadata": {}
        },
        {
          "output_type": "stream",
          "name": "stdout",
          "text": [
            "/content/ML_class_final/test_imgs_1/291970029.jpg 4\n"
          ]
        },
        {
          "output_type": "display_data",
          "data": {
            "application/javascript": [
              "\n",
              "        if (window._pyforest_update_imports_cell) { window._pyforest_update_imports_cell('from sklearn.model_selection import cross_val_score\\nimport torch\\nimport bokeh\\nimport pandas as pd\\nimport numpy as np\\nimport matplotlib as mpl\\nfrom sklearn.feature_extraction.text import CountVectorizer\\nfrom sklearn.model_selection import train_test_split\\nfrom sklearn import metrics\\nimport tqdm\\nimport cv2\\nfrom statsmodels.tsa.arima_model import ARIMA\\nimport textblob\\nimport altair as alt'); }\n",
              "    "
            ],
            "text/plain": [
              "<IPython.core.display.Javascript object>"
            ]
          },
          "metadata": {}
        },
        {
          "output_type": "stream",
          "name": "stdout",
          "text": [
            "/content/ML_class_final/test_imgs_1/166356403.jpg 4\n"
          ]
        },
        {
          "output_type": "display_data",
          "data": {
            "application/javascript": [
              "\n",
              "        if (window._pyforest_update_imports_cell) { window._pyforest_update_imports_cell('from sklearn.model_selection import cross_val_score\\nimport torch\\nimport bokeh\\nimport pandas as pd\\nimport numpy as np\\nimport matplotlib as mpl\\nfrom sklearn.feature_extraction.text import CountVectorizer\\nfrom sklearn.model_selection import train_test_split\\nfrom sklearn import metrics\\nimport tqdm\\nimport cv2\\nfrom statsmodels.tsa.arima_model import ARIMA\\nimport textblob\\nimport altair as alt'); }\n",
              "    "
            ],
            "text/plain": [
              "<IPython.core.display.Javascript object>"
            ]
          },
          "metadata": {}
        },
        {
          "output_type": "stream",
          "name": "stdout",
          "text": [
            "/content/ML_class_final/test_imgs_1/670541081.jpg 1\n"
          ]
        },
        {
          "output_type": "display_data",
          "data": {
            "application/javascript": [
              "\n",
              "        if (window._pyforest_update_imports_cell) { window._pyforest_update_imports_cell('from sklearn.model_selection import cross_val_score\\nimport torch\\nimport bokeh\\nimport pandas as pd\\nimport numpy as np\\nimport matplotlib as mpl\\nfrom sklearn.feature_extraction.text import CountVectorizer\\nfrom sklearn.model_selection import train_test_split\\nfrom sklearn import metrics\\nimport tqdm\\nimport cv2\\nfrom statsmodels.tsa.arima_model import ARIMA\\nimport textblob\\nimport altair as alt'); }\n",
              "    "
            ],
            "text/plain": [
              "<IPython.core.display.Javascript object>"
            ]
          },
          "metadata": {}
        },
        {
          "output_type": "stream",
          "name": "stdout",
          "text": [
            "/content/ML_class_final/test_imgs_1/1900666535.jpg 1\n"
          ]
        },
        {
          "output_type": "display_data",
          "data": {
            "application/javascript": [
              "\n",
              "        if (window._pyforest_update_imports_cell) { window._pyforest_update_imports_cell('from sklearn.model_selection import cross_val_score\\nimport torch\\nimport bokeh\\nimport pandas as pd\\nimport numpy as np\\nimport matplotlib as mpl\\nfrom sklearn.feature_extraction.text import CountVectorizer\\nfrom sklearn.model_selection import train_test_split\\nfrom sklearn import metrics\\nimport tqdm\\nimport cv2\\nfrom statsmodels.tsa.arima_model import ARIMA\\nimport textblob\\nimport altair as alt'); }\n",
              "    "
            ],
            "text/plain": [
              "<IPython.core.display.Javascript object>"
            ]
          },
          "metadata": {}
        },
        {
          "output_type": "stream",
          "name": "stdout",
          "text": [
            "/content/ML_class_final/test_imgs_1/986854149.jpg 3\n"
          ]
        },
        {
          "output_type": "display_data",
          "data": {
            "application/javascript": [
              "\n",
              "        if (window._pyforest_update_imports_cell) { window._pyforest_update_imports_cell('from sklearn.model_selection import cross_val_score\\nimport torch\\nimport bokeh\\nimport pandas as pd\\nimport numpy as np\\nimport matplotlib as mpl\\nfrom sklearn.feature_extraction.text import CountVectorizer\\nfrom sklearn.model_selection import train_test_split\\nfrom sklearn import metrics\\nimport tqdm\\nimport cv2\\nfrom statsmodels.tsa.arima_model import ARIMA\\nimport textblob\\nimport altair as alt'); }\n",
              "    "
            ],
            "text/plain": [
              "<IPython.core.display.Javascript object>"
            ]
          },
          "metadata": {}
        },
        {
          "output_type": "stream",
          "name": "stdout",
          "text": [
            "/content/ML_class_final/test_imgs_1/2878645903.jpg 0\n"
          ]
        },
        {
          "output_type": "display_data",
          "data": {
            "application/javascript": [
              "\n",
              "        if (window._pyforest_update_imports_cell) { window._pyforest_update_imports_cell('from sklearn.model_selection import cross_val_score\\nimport torch\\nimport bokeh\\nimport pandas as pd\\nimport numpy as np\\nimport matplotlib as mpl\\nfrom sklearn.feature_extraction.text import CountVectorizer\\nfrom sklearn.model_selection import train_test_split\\nfrom sklearn import metrics\\nimport tqdm\\nimport cv2\\nfrom statsmodels.tsa.arima_model import ARIMA\\nimport textblob\\nimport altair as alt'); }\n",
              "    "
            ],
            "text/plain": [
              "<IPython.core.display.Javascript object>"
            ]
          },
          "metadata": {}
        },
        {
          "output_type": "stream",
          "name": "stdout",
          "text": [
            "/content/ML_class_final/test_imgs_1/125738717.jpg 4\n"
          ]
        },
        {
          "output_type": "display_data",
          "data": {
            "application/javascript": [
              "\n",
              "        if (window._pyforest_update_imports_cell) { window._pyforest_update_imports_cell('from sklearn.model_selection import cross_val_score\\nimport torch\\nimport bokeh\\nimport pandas as pd\\nimport numpy as np\\nimport matplotlib as mpl\\nfrom sklearn.feature_extraction.text import CountVectorizer\\nfrom sklearn.model_selection import train_test_split\\nfrom sklearn import metrics\\nimport tqdm\\nimport cv2\\nfrom statsmodels.tsa.arima_model import ARIMA\\nimport textblob\\nimport altair as alt'); }\n",
              "    "
            ],
            "text/plain": [
              "<IPython.core.display.Javascript object>"
            ]
          },
          "metadata": {}
        },
        {
          "output_type": "stream",
          "name": "stdout",
          "text": [
            "/content/ML_class_final/test_imgs_1/1366430957.jpg 1\n"
          ]
        },
        {
          "output_type": "display_data",
          "data": {
            "application/javascript": [
              "\n",
              "        if (window._pyforest_update_imports_cell) { window._pyforest_update_imports_cell('from sklearn.model_selection import cross_val_score\\nimport torch\\nimport bokeh\\nimport pandas as pd\\nimport numpy as np\\nimport matplotlib as mpl\\nfrom sklearn.feature_extraction.text import CountVectorizer\\nfrom sklearn.model_selection import train_test_split\\nfrom sklearn import metrics\\nimport tqdm\\nimport cv2\\nfrom statsmodels.tsa.arima_model import ARIMA\\nimport textblob\\nimport altair as alt'); }\n",
              "    "
            ],
            "text/plain": [
              "<IPython.core.display.Javascript object>"
            ]
          },
          "metadata": {}
        },
        {
          "output_type": "stream",
          "name": "stdout",
          "text": [
            "/content/ML_class_final/test_imgs_1/573879422.jpg 1\n"
          ]
        },
        {
          "output_type": "display_data",
          "data": {
            "application/javascript": [
              "\n",
              "        if (window._pyforest_update_imports_cell) { window._pyforest_update_imports_cell('from sklearn.model_selection import cross_val_score\\nimport torch\\nimport bokeh\\nimport pandas as pd\\nimport numpy as np\\nimport matplotlib as mpl\\nfrom sklearn.feature_extraction.text import CountVectorizer\\nfrom sklearn.model_selection import train_test_split\\nfrom sklearn import metrics\\nimport tqdm\\nimport cv2\\nfrom statsmodels.tsa.arima_model import ARIMA\\nimport textblob\\nimport altair as alt'); }\n",
              "    "
            ],
            "text/plain": [
              "<IPython.core.display.Javascript object>"
            ]
          },
          "metadata": {}
        },
        {
          "output_type": "stream",
          "name": "stdout",
          "text": [
            "/content/ML_class_final/test_imgs_1/3112835749.jpg 1\n"
          ]
        },
        {
          "output_type": "display_data",
          "data": {
            "application/javascript": [
              "\n",
              "        if (window._pyforest_update_imports_cell) { window._pyforest_update_imports_cell('from sklearn.model_selection import cross_val_score\\nimport torch\\nimport bokeh\\nimport pandas as pd\\nimport numpy as np\\nimport matplotlib as mpl\\nfrom sklearn.feature_extraction.text import CountVectorizer\\nfrom sklearn.model_selection import train_test_split\\nfrom sklearn import metrics\\nimport tqdm\\nimport cv2\\nfrom statsmodels.tsa.arima_model import ARIMA\\nimport textblob\\nimport altair as alt'); }\n",
              "    "
            ],
            "text/plain": [
              "<IPython.core.display.Javascript object>"
            ]
          },
          "metadata": {}
        },
        {
          "output_type": "stream",
          "name": "stdout",
          "text": [
            "/content/ML_class_final/test_imgs_1/1834269542.jpg 3\n"
          ]
        },
        {
          "output_type": "display_data",
          "data": {
            "application/javascript": [
              "\n",
              "        if (window._pyforest_update_imports_cell) { window._pyforest_update_imports_cell('from sklearn.model_selection import cross_val_score\\nimport torch\\nimport bokeh\\nimport pandas as pd\\nimport numpy as np\\nimport matplotlib as mpl\\nfrom sklearn.feature_extraction.text import CountVectorizer\\nfrom sklearn.model_selection import train_test_split\\nfrom sklearn import metrics\\nimport tqdm\\nimport cv2\\nfrom statsmodels.tsa.arima_model import ARIMA\\nimport textblob\\nimport altair as alt'); }\n",
              "    "
            ],
            "text/plain": [
              "<IPython.core.display.Javascript object>"
            ]
          },
          "metadata": {}
        },
        {
          "output_type": "stream",
          "name": "stdout",
          "text": [
            "/content/ML_class_final/test_imgs_1/3165951820.jpg 3\n"
          ]
        },
        {
          "output_type": "display_data",
          "data": {
            "application/javascript": [
              "\n",
              "        if (window._pyforest_update_imports_cell) { window._pyforest_update_imports_cell('from sklearn.model_selection import cross_val_score\\nimport torch\\nimport bokeh\\nimport pandas as pd\\nimport numpy as np\\nimport matplotlib as mpl\\nfrom sklearn.feature_extraction.text import CountVectorizer\\nfrom sklearn.model_selection import train_test_split\\nfrom sklearn import metrics\\nimport tqdm\\nimport cv2\\nfrom statsmodels.tsa.arima_model import ARIMA\\nimport textblob\\nimport altair as alt'); }\n",
              "    "
            ],
            "text/plain": [
              "<IPython.core.display.Javascript object>"
            ]
          },
          "metadata": {}
        },
        {
          "output_type": "stream",
          "name": "stdout",
          "text": [
            "/content/ML_class_final/test_imgs_1/1557739195.jpg 3\n"
          ]
        },
        {
          "output_type": "display_data",
          "data": {
            "application/javascript": [
              "\n",
              "        if (window._pyforest_update_imports_cell) { window._pyforest_update_imports_cell('from sklearn.model_selection import cross_val_score\\nimport torch\\nimport bokeh\\nimport pandas as pd\\nimport numpy as np\\nimport matplotlib as mpl\\nfrom sklearn.feature_extraction.text import CountVectorizer\\nfrom sklearn.model_selection import train_test_split\\nfrom sklearn import metrics\\nimport tqdm\\nimport cv2\\nfrom statsmodels.tsa.arima_model import ARIMA\\nimport textblob\\nimport altair as alt'); }\n",
              "    "
            ],
            "text/plain": [
              "<IPython.core.display.Javascript object>"
            ]
          },
          "metadata": {}
        },
        {
          "output_type": "stream",
          "name": "stdout",
          "text": [
            "/content/ML_class_final/test_imgs_1/711417337.jpg 3\n"
          ]
        },
        {
          "output_type": "display_data",
          "data": {
            "application/javascript": [
              "\n",
              "        if (window._pyforest_update_imports_cell) { window._pyforest_update_imports_cell('from sklearn.model_selection import cross_val_score\\nimport torch\\nimport bokeh\\nimport pandas as pd\\nimport numpy as np\\nimport matplotlib as mpl\\nfrom sklearn.feature_extraction.text import CountVectorizer\\nfrom sklearn.model_selection import train_test_split\\nfrom sklearn import metrics\\nimport tqdm\\nimport cv2\\nfrom statsmodels.tsa.arima_model import ARIMA\\nimport textblob\\nimport altair as alt'); }\n",
              "    "
            ],
            "text/plain": [
              "<IPython.core.display.Javascript object>"
            ]
          },
          "metadata": {}
        },
        {
          "output_type": "stream",
          "name": "stdout",
          "text": [
            "/content/ML_class_final/test_imgs_1/491402925.jpg 3\n"
          ]
        },
        {
          "output_type": "display_data",
          "data": {
            "application/javascript": [
              "\n",
              "        if (window._pyforest_update_imports_cell) { window._pyforest_update_imports_cell('from sklearn.model_selection import cross_val_score\\nimport torch\\nimport bokeh\\nimport pandas as pd\\nimport numpy as np\\nimport matplotlib as mpl\\nfrom sklearn.feature_extraction.text import CountVectorizer\\nfrom sklearn.model_selection import train_test_split\\nfrom sklearn import metrics\\nimport tqdm\\nimport cv2\\nfrom statsmodels.tsa.arima_model import ARIMA\\nimport textblob\\nimport altair as alt'); }\n",
              "    "
            ],
            "text/plain": [
              "<IPython.core.display.Javascript object>"
            ]
          },
          "metadata": {}
        },
        {
          "output_type": "stream",
          "name": "stdout",
          "text": [
            "/content/ML_class_final/test_imgs_1/2922919647.jpg 4\n"
          ]
        },
        {
          "output_type": "display_data",
          "data": {
            "application/javascript": [
              "\n",
              "        if (window._pyforest_update_imports_cell) { window._pyforest_update_imports_cell('from sklearn.model_selection import cross_val_score\\nimport torch\\nimport bokeh\\nimport pandas as pd\\nimport numpy as np\\nimport matplotlib as mpl\\nfrom sklearn.feature_extraction.text import CountVectorizer\\nfrom sklearn.model_selection import train_test_split\\nfrom sklearn import metrics\\nimport tqdm\\nimport cv2\\nfrom statsmodels.tsa.arima_model import ARIMA\\nimport textblob\\nimport altair as alt'); }\n",
              "    "
            ],
            "text/plain": [
              "<IPython.core.display.Javascript object>"
            ]
          },
          "metadata": {}
        },
        {
          "output_type": "stream",
          "name": "stdout",
          "text": [
            "/content/ML_class_final/test_imgs_1/2807173695.jpg 4\n"
          ]
        },
        {
          "output_type": "display_data",
          "data": {
            "application/javascript": [
              "\n",
              "        if (window._pyforest_update_imports_cell) { window._pyforest_update_imports_cell('from sklearn.model_selection import cross_val_score\\nimport torch\\nimport bokeh\\nimport pandas as pd\\nimport numpy as np\\nimport matplotlib as mpl\\nfrom sklearn.feature_extraction.text import CountVectorizer\\nfrom sklearn.model_selection import train_test_split\\nfrom sklearn import metrics\\nimport tqdm\\nimport cv2\\nfrom statsmodels.tsa.arima_model import ARIMA\\nimport textblob\\nimport altair as alt'); }\n",
              "    "
            ],
            "text/plain": [
              "<IPython.core.display.Javascript object>"
            ]
          },
          "metadata": {}
        },
        {
          "output_type": "stream",
          "name": "stdout",
          "text": [
            "/content/ML_class_final/test_imgs_1/2815339197.jpg 3\n"
          ]
        },
        {
          "output_type": "display_data",
          "data": {
            "application/javascript": [
              "\n",
              "        if (window._pyforest_update_imports_cell) { window._pyforest_update_imports_cell('from sklearn.model_selection import cross_val_score\\nimport torch\\nimport bokeh\\nimport pandas as pd\\nimport numpy as np\\nimport matplotlib as mpl\\nfrom sklearn.feature_extraction.text import CountVectorizer\\nfrom sklearn.model_selection import train_test_split\\nfrom sklearn import metrics\\nimport tqdm\\nimport cv2\\nfrom statsmodels.tsa.arima_model import ARIMA\\nimport textblob\\nimport altair as alt'); }\n",
              "    "
            ],
            "text/plain": [
              "<IPython.core.display.Javascript object>"
            ]
          },
          "metadata": {}
        },
        {
          "output_type": "stream",
          "name": "stdout",
          "text": [
            "/content/ML_class_final/test_imgs_1/4060304349.jpg 3\n"
          ]
        },
        {
          "output_type": "display_data",
          "data": {
            "application/javascript": [
              "\n",
              "        if (window._pyforest_update_imports_cell) { window._pyforest_update_imports_cell('from sklearn.model_selection import cross_val_score\\nimport torch\\nimport bokeh\\nimport pandas as pd\\nimport numpy as np\\nimport matplotlib as mpl\\nfrom sklearn.feature_extraction.text import CountVectorizer\\nfrom sklearn.model_selection import train_test_split\\nfrom sklearn import metrics\\nimport tqdm\\nimport cv2\\nfrom statsmodels.tsa.arima_model import ARIMA\\nimport textblob\\nimport altair as alt'); }\n",
              "    "
            ],
            "text/plain": [
              "<IPython.core.display.Javascript object>"
            ]
          },
          "metadata": {}
        },
        {
          "output_type": "stream",
          "name": "stdout",
          "text": [
            "/content/ML_class_final/test_imgs_1/786525788.jpg 1\n"
          ]
        },
        {
          "output_type": "display_data",
          "data": {
            "application/javascript": [
              "\n",
              "        if (window._pyforest_update_imports_cell) { window._pyforest_update_imports_cell('from sklearn.model_selection import cross_val_score\\nimport torch\\nimport bokeh\\nimport pandas as pd\\nimport numpy as np\\nimport matplotlib as mpl\\nfrom sklearn.feature_extraction.text import CountVectorizer\\nfrom sklearn.model_selection import train_test_split\\nfrom sklearn import metrics\\nimport tqdm\\nimport cv2\\nfrom statsmodels.tsa.arima_model import ARIMA\\nimport textblob\\nimport altair as alt'); }\n",
              "    "
            ],
            "text/plain": [
              "<IPython.core.display.Javascript object>"
            ]
          },
          "metadata": {}
        },
        {
          "output_type": "stream",
          "name": "stdout",
          "text": [
            "/content/ML_class_final/test_imgs_1/4189636250.jpg 1\n"
          ]
        },
        {
          "output_type": "display_data",
          "data": {
            "application/javascript": [
              "\n",
              "        if (window._pyforest_update_imports_cell) { window._pyforest_update_imports_cell('from sklearn.model_selection import cross_val_score\\nimport torch\\nimport bokeh\\nimport pandas as pd\\nimport numpy as np\\nimport matplotlib as mpl\\nfrom sklearn.feature_extraction.text import CountVectorizer\\nfrom sklearn.model_selection import train_test_split\\nfrom sklearn import metrics\\nimport tqdm\\nimport cv2\\nfrom statsmodels.tsa.arima_model import ARIMA\\nimport textblob\\nimport altair as alt'); }\n",
              "    "
            ],
            "text/plain": [
              "<IPython.core.display.Javascript object>"
            ]
          },
          "metadata": {}
        },
        {
          "output_type": "stream",
          "name": "stdout",
          "text": [
            "/content/ML_class_final/test_imgs_1/2828144235.jpg 3\n"
          ]
        },
        {
          "output_type": "display_data",
          "data": {
            "application/javascript": [
              "\n",
              "        if (window._pyforest_update_imports_cell) { window._pyforest_update_imports_cell('from sklearn.model_selection import cross_val_score\\nimport torch\\nimport bokeh\\nimport pandas as pd\\nimport numpy as np\\nimport matplotlib as mpl\\nfrom sklearn.feature_extraction.text import CountVectorizer\\nfrom sklearn.model_selection import train_test_split\\nfrom sklearn import metrics\\nimport tqdm\\nimport cv2\\nfrom statsmodels.tsa.arima_model import ARIMA\\nimport textblob\\nimport altair as alt'); }\n",
              "    "
            ],
            "text/plain": [
              "<IPython.core.display.Javascript object>"
            ]
          },
          "metadata": {}
        },
        {
          "output_type": "stream",
          "name": "stdout",
          "text": [
            "/content/ML_class_final/test_imgs_1/3011636410.jpg 1\n"
          ]
        },
        {
          "output_type": "display_data",
          "data": {
            "application/javascript": [
              "\n",
              "        if (window._pyforest_update_imports_cell) { window._pyforest_update_imports_cell('from sklearn.model_selection import cross_val_score\\nimport torch\\nimport bokeh\\nimport pandas as pd\\nimport numpy as np\\nimport matplotlib as mpl\\nfrom sklearn.feature_extraction.text import CountVectorizer\\nfrom sklearn.model_selection import train_test_split\\nfrom sklearn import metrics\\nimport tqdm\\nimport cv2\\nfrom statsmodels.tsa.arima_model import ARIMA\\nimport textblob\\nimport altair as alt'); }\n",
              "    "
            ],
            "text/plain": [
              "<IPython.core.display.Javascript object>"
            ]
          },
          "metadata": {}
        },
        {
          "output_type": "stream",
          "name": "stdout",
          "text": [
            "/content/ML_class_final/test_imgs_1/2740240477.jpg 4\n"
          ]
        },
        {
          "output_type": "display_data",
          "data": {
            "application/javascript": [
              "\n",
              "        if (window._pyforest_update_imports_cell) { window._pyforest_update_imports_cell('from sklearn.model_selection import cross_val_score\\nimport torch\\nimport bokeh\\nimport pandas as pd\\nimport numpy as np\\nimport matplotlib as mpl\\nfrom sklearn.feature_extraction.text import CountVectorizer\\nfrom sklearn.model_selection import train_test_split\\nfrom sklearn import metrics\\nimport tqdm\\nimport cv2\\nfrom statsmodels.tsa.arima_model import ARIMA\\nimport textblob\\nimport altair as alt'); }\n",
              "    "
            ],
            "text/plain": [
              "<IPython.core.display.Javascript object>"
            ]
          },
          "metadata": {}
        },
        {
          "output_type": "stream",
          "name": "stdout",
          "text": [
            "/content/ML_class_final/test_imgs_1/772317210.jpg 1\n"
          ]
        },
        {
          "output_type": "display_data",
          "data": {
            "application/javascript": [
              "\n",
              "        if (window._pyforest_update_imports_cell) { window._pyforest_update_imports_cell('from sklearn.model_selection import cross_val_score\\nimport torch\\nimport bokeh\\nimport pandas as pd\\nimport numpy as np\\nimport matplotlib as mpl\\nfrom sklearn.feature_extraction.text import CountVectorizer\\nfrom sklearn.model_selection import train_test_split\\nfrom sklearn import metrics\\nimport tqdm\\nimport cv2\\nfrom statsmodels.tsa.arima_model import ARIMA\\nimport textblob\\nimport altair as alt'); }\n",
              "    "
            ],
            "text/plain": [
              "<IPython.core.display.Javascript object>"
            ]
          },
          "metadata": {}
        },
        {
          "output_type": "stream",
          "name": "stdout",
          "text": [
            "/content/ML_class_final/test_imgs_1/4004256594.jpg 1\n"
          ]
        },
        {
          "output_type": "display_data",
          "data": {
            "application/javascript": [
              "\n",
              "        if (window._pyforest_update_imports_cell) { window._pyforest_update_imports_cell('from sklearn.model_selection import cross_val_score\\nimport torch\\nimport bokeh\\nimport pandas as pd\\nimport numpy as np\\nimport matplotlib as mpl\\nfrom sklearn.feature_extraction.text import CountVectorizer\\nfrom sklearn.model_selection import train_test_split\\nfrom sklearn import metrics\\nimport tqdm\\nimport cv2\\nfrom statsmodels.tsa.arima_model import ARIMA\\nimport textblob\\nimport altair as alt'); }\n",
              "    "
            ],
            "text/plain": [
              "<IPython.core.display.Javascript object>"
            ]
          },
          "metadata": {}
        },
        {
          "output_type": "stream",
          "name": "stdout",
          "text": [
            "/content/ML_class_final/test_imgs_1/3810425289.jpg 1\n"
          ]
        },
        {
          "output_type": "display_data",
          "data": {
            "application/javascript": [
              "\n",
              "        if (window._pyforest_update_imports_cell) { window._pyforest_update_imports_cell('from sklearn.model_selection import cross_val_score\\nimport torch\\nimport bokeh\\nimport pandas as pd\\nimport numpy as np\\nimport matplotlib as mpl\\nfrom sklearn.feature_extraction.text import CountVectorizer\\nfrom sklearn.model_selection import train_test_split\\nfrom sklearn import metrics\\nimport tqdm\\nimport cv2\\nfrom statsmodels.tsa.arima_model import ARIMA\\nimport textblob\\nimport altair as alt'); }\n",
              "    "
            ],
            "text/plain": [
              "<IPython.core.display.Javascript object>"
            ]
          },
          "metadata": {}
        },
        {
          "output_type": "stream",
          "name": "stdout",
          "text": [
            "/content/ML_class_final/test_imgs_1/3910075821.jpg 1\n"
          ]
        },
        {
          "output_type": "display_data",
          "data": {
            "application/javascript": [
              "\n",
              "        if (window._pyforest_update_imports_cell) { window._pyforest_update_imports_cell('from sklearn.model_selection import cross_val_score\\nimport torch\\nimport bokeh\\nimport pandas as pd\\nimport numpy as np\\nimport matplotlib as mpl\\nfrom sklearn.feature_extraction.text import CountVectorizer\\nfrom sklearn.model_selection import train_test_split\\nfrom sklearn import metrics\\nimport tqdm\\nimport cv2\\nfrom statsmodels.tsa.arima_model import ARIMA\\nimport textblob\\nimport altair as alt'); }\n",
              "    "
            ],
            "text/plain": [
              "<IPython.core.display.Javascript object>"
            ]
          },
          "metadata": {}
        },
        {
          "output_type": "stream",
          "name": "stdout",
          "text": [
            "/content/ML_class_final/test_imgs_1/781215669.jpg 4\n"
          ]
        },
        {
          "output_type": "display_data",
          "data": {
            "application/javascript": [
              "\n",
              "        if (window._pyforest_update_imports_cell) { window._pyforest_update_imports_cell('from sklearn.model_selection import cross_val_score\\nimport torch\\nimport bokeh\\nimport pandas as pd\\nimport numpy as np\\nimport matplotlib as mpl\\nfrom sklearn.feature_extraction.text import CountVectorizer\\nfrom sklearn.model_selection import train_test_split\\nfrom sklearn import metrics\\nimport tqdm\\nimport cv2\\nfrom statsmodels.tsa.arima_model import ARIMA\\nimport textblob\\nimport altair as alt'); }\n",
              "    "
            ],
            "text/plain": [
              "<IPython.core.display.Javascript object>"
            ]
          },
          "metadata": {}
        },
        {
          "output_type": "stream",
          "name": "stdout",
          "text": [
            "/content/ML_class_final/test_imgs_1/544841387.jpg 3\n"
          ]
        },
        {
          "output_type": "display_data",
          "data": {
            "application/javascript": [
              "\n",
              "        if (window._pyforest_update_imports_cell) { window._pyforest_update_imports_cell('from sklearn.model_selection import cross_val_score\\nimport torch\\nimport bokeh\\nimport pandas as pd\\nimport numpy as np\\nimport matplotlib as mpl\\nfrom sklearn.feature_extraction.text import CountVectorizer\\nfrom sklearn.model_selection import train_test_split\\nfrom sklearn import metrics\\nimport tqdm\\nimport cv2\\nfrom statsmodels.tsa.arima_model import ARIMA\\nimport textblob\\nimport altair as alt'); }\n",
              "    "
            ],
            "text/plain": [
              "<IPython.core.display.Javascript object>"
            ]
          },
          "metadata": {}
        },
        {
          "output_type": "stream",
          "name": "stdout",
          "text": [
            "/content/ML_class_final/test_imgs_1/3821145878.jpg 3\n"
          ]
        },
        {
          "output_type": "display_data",
          "data": {
            "application/javascript": [
              "\n",
              "        if (window._pyforest_update_imports_cell) { window._pyforest_update_imports_cell('from sklearn.model_selection import cross_val_score\\nimport torch\\nimport bokeh\\nimport pandas as pd\\nimport numpy as np\\nimport matplotlib as mpl\\nfrom sklearn.feature_extraction.text import CountVectorizer\\nfrom sklearn.model_selection import train_test_split\\nfrom sklearn import metrics\\nimport tqdm\\nimport cv2\\nfrom statsmodels.tsa.arima_model import ARIMA\\nimport textblob\\nimport altair as alt'); }\n",
              "    "
            ],
            "text/plain": [
              "<IPython.core.display.Javascript object>"
            ]
          },
          "metadata": {}
        },
        {
          "output_type": "stream",
          "name": "stdout",
          "text": [
            "/content/ML_class_final/test_imgs_1/2457010245.jpg 3\n"
          ]
        },
        {
          "output_type": "display_data",
          "data": {
            "application/javascript": [
              "\n",
              "        if (window._pyforest_update_imports_cell) { window._pyforest_update_imports_cell('from sklearn.model_selection import cross_val_score\\nimport torch\\nimport bokeh\\nimport pandas as pd\\nimport numpy as np\\nimport matplotlib as mpl\\nfrom sklearn.feature_extraction.text import CountVectorizer\\nfrom sklearn.model_selection import train_test_split\\nfrom sklearn import metrics\\nimport tqdm\\nimport cv2\\nfrom statsmodels.tsa.arima_model import ARIMA\\nimport textblob\\nimport altair as alt'); }\n",
              "    "
            ],
            "text/plain": [
              "<IPython.core.display.Javascript object>"
            ]
          },
          "metadata": {}
        },
        {
          "output_type": "stream",
          "name": "stdout",
          "text": [
            "/content/ML_class_final/test_imgs_1/157425630.jpg 3\n"
          ]
        },
        {
          "output_type": "display_data",
          "data": {
            "application/javascript": [
              "\n",
              "        if (window._pyforest_update_imports_cell) { window._pyforest_update_imports_cell('from sklearn.model_selection import cross_val_score\\nimport torch\\nimport bokeh\\nimport pandas as pd\\nimport numpy as np\\nimport matplotlib as mpl\\nfrom sklearn.feature_extraction.text import CountVectorizer\\nfrom sklearn.model_selection import train_test_split\\nfrom sklearn import metrics\\nimport tqdm\\nimport cv2\\nfrom statsmodels.tsa.arima_model import ARIMA\\nimport textblob\\nimport altair as alt'); }\n",
              "    "
            ],
            "text/plain": [
              "<IPython.core.display.Javascript object>"
            ]
          },
          "metadata": {}
        },
        {
          "output_type": "stream",
          "name": "stdout",
          "text": [
            "/content/ML_class_final/test_imgs_1/217477861.jpg 1\n"
          ]
        },
        {
          "output_type": "display_data",
          "data": {
            "application/javascript": [
              "\n",
              "        if (window._pyforest_update_imports_cell) { window._pyforest_update_imports_cell('from sklearn.model_selection import cross_val_score\\nimport torch\\nimport bokeh\\nimport pandas as pd\\nimport numpy as np\\nimport matplotlib as mpl\\nfrom sklearn.feature_extraction.text import CountVectorizer\\nfrom sklearn.model_selection import train_test_split\\nfrom sklearn import metrics\\nimport tqdm\\nimport cv2\\nfrom statsmodels.tsa.arima_model import ARIMA\\nimport textblob\\nimport altair as alt'); }\n",
              "    "
            ],
            "text/plain": [
              "<IPython.core.display.Javascript object>"
            ]
          },
          "metadata": {}
        },
        {
          "output_type": "stream",
          "name": "stdout",
          "text": [
            "/content/ML_class_final/test_imgs_1/3118860161.jpg 1\n"
          ]
        },
        {
          "output_type": "display_data",
          "data": {
            "application/javascript": [
              "\n",
              "        if (window._pyforest_update_imports_cell) { window._pyforest_update_imports_cell('from sklearn.model_selection import cross_val_score\\nimport torch\\nimport bokeh\\nimport pandas as pd\\nimport numpy as np\\nimport matplotlib as mpl\\nfrom sklearn.feature_extraction.text import CountVectorizer\\nfrom sklearn.model_selection import train_test_split\\nfrom sklearn import metrics\\nimport tqdm\\nimport cv2\\nfrom statsmodels.tsa.arima_model import ARIMA\\nimport textblob\\nimport altair as alt'); }\n",
              "    "
            ],
            "text/plain": [
              "<IPython.core.display.Javascript object>"
            ]
          },
          "metadata": {}
        },
        {
          "output_type": "stream",
          "name": "stdout",
          "text": [
            "/content/ML_class_final/test_imgs_1/2047483616.jpg 1\n"
          ]
        },
        {
          "output_type": "display_data",
          "data": {
            "application/javascript": [
              "\n",
              "        if (window._pyforest_update_imports_cell) { window._pyforest_update_imports_cell('from sklearn.model_selection import cross_val_score\\nimport torch\\nimport bokeh\\nimport pandas as pd\\nimport numpy as np\\nimport matplotlib as mpl\\nfrom sklearn.feature_extraction.text import CountVectorizer\\nfrom sklearn.model_selection import train_test_split\\nfrom sklearn import metrics\\nimport tqdm\\nimport cv2\\nfrom statsmodels.tsa.arima_model import ARIMA\\nimport textblob\\nimport altair as alt'); }\n",
              "    "
            ],
            "text/plain": [
              "<IPython.core.display.Javascript object>"
            ]
          },
          "metadata": {}
        },
        {
          "output_type": "stream",
          "name": "stdout",
          "text": [
            "/content/ML_class_final/test_imgs_1/1713497934.jpg 2\n"
          ]
        },
        {
          "output_type": "display_data",
          "data": {
            "application/javascript": [
              "\n",
              "        if (window._pyforest_update_imports_cell) { window._pyforest_update_imports_cell('from sklearn.model_selection import cross_val_score\\nimport torch\\nimport bokeh\\nimport pandas as pd\\nimport numpy as np\\nimport matplotlib as mpl\\nfrom sklearn.feature_extraction.text import CountVectorizer\\nfrom sklearn.model_selection import train_test_split\\nfrom sklearn import metrics\\nimport tqdm\\nimport cv2\\nfrom statsmodels.tsa.arima_model import ARIMA\\nimport textblob\\nimport altair as alt'); }\n",
              "    "
            ],
            "text/plain": [
              "<IPython.core.display.Javascript object>"
            ]
          },
          "metadata": {}
        },
        {
          "output_type": "stream",
          "name": "stdout",
          "text": [
            "/content/ML_class_final/test_imgs_1/1238159478.jpg 1\n"
          ]
        },
        {
          "output_type": "display_data",
          "data": {
            "application/javascript": [
              "\n",
              "        if (window._pyforest_update_imports_cell) { window._pyforest_update_imports_cell('from sklearn.model_selection import cross_val_score\\nimport torch\\nimport bokeh\\nimport pandas as pd\\nimport numpy as np\\nimport matplotlib as mpl\\nfrom sklearn.feature_extraction.text import CountVectorizer\\nfrom sklearn.model_selection import train_test_split\\nfrom sklearn import metrics\\nimport tqdm\\nimport cv2\\nfrom statsmodels.tsa.arima_model import ARIMA\\nimport textblob\\nimport altair as alt'); }\n",
              "    "
            ],
            "text/plain": [
              "<IPython.core.display.Javascript object>"
            ]
          },
          "metadata": {}
        },
        {
          "output_type": "stream",
          "name": "stdout",
          "text": [
            "/content/ML_class_final/test_imgs_1/194265941.jpg 3\n"
          ]
        },
        {
          "output_type": "display_data",
          "data": {
            "application/javascript": [
              "\n",
              "        if (window._pyforest_update_imports_cell) { window._pyforest_update_imports_cell('from sklearn.model_selection import cross_val_score\\nimport torch\\nimport bokeh\\nimport pandas as pd\\nimport numpy as np\\nimport matplotlib as mpl\\nfrom sklearn.feature_extraction.text import CountVectorizer\\nfrom sklearn.model_selection import train_test_split\\nfrom sklearn import metrics\\nimport tqdm\\nimport cv2\\nfrom statsmodels.tsa.arima_model import ARIMA\\nimport textblob\\nimport altair as alt'); }\n",
              "    "
            ],
            "text/plain": [
              "<IPython.core.display.Javascript object>"
            ]
          },
          "metadata": {}
        },
        {
          "output_type": "stream",
          "name": "stdout",
          "text": [
            "/content/ML_class_final/test_imgs_1/3214572366.jpg 4\n"
          ]
        },
        {
          "output_type": "display_data",
          "data": {
            "application/javascript": [
              "\n",
              "        if (window._pyforest_update_imports_cell) { window._pyforest_update_imports_cell('from sklearn.model_selection import cross_val_score\\nimport torch\\nimport bokeh\\nimport pandas as pd\\nimport numpy as np\\nimport matplotlib as mpl\\nfrom sklearn.feature_extraction.text import CountVectorizer\\nfrom sklearn.model_selection import train_test_split\\nfrom sklearn import metrics\\nimport tqdm\\nimport cv2\\nfrom statsmodels.tsa.arima_model import ARIMA\\nimport textblob\\nimport altair as alt'); }\n",
              "    "
            ],
            "text/plain": [
              "<IPython.core.display.Javascript object>"
            ]
          },
          "metadata": {}
        },
        {
          "output_type": "stream",
          "name": "stdout",
          "text": [
            "/content/ML_class_final/test_imgs_1/520827506.jpg 4\n"
          ]
        },
        {
          "output_type": "display_data",
          "data": {
            "application/javascript": [
              "\n",
              "        if (window._pyforest_update_imports_cell) { window._pyforest_update_imports_cell('from sklearn.model_selection import cross_val_score\\nimport torch\\nimport bokeh\\nimport pandas as pd\\nimport numpy as np\\nimport matplotlib as mpl\\nfrom sklearn.feature_extraction.text import CountVectorizer\\nfrom sklearn.model_selection import train_test_split\\nfrom sklearn import metrics\\nimport tqdm\\nimport cv2\\nfrom statsmodels.tsa.arima_model import ARIMA\\nimport textblob\\nimport altair as alt'); }\n",
              "    "
            ],
            "text/plain": [
              "<IPython.core.display.Javascript object>"
            ]
          },
          "metadata": {}
        },
        {
          "output_type": "stream",
          "name": "stdout",
          "text": [
            "/content/ML_class_final/test_imgs_1/2597280377.jpg 4\n"
          ]
        },
        {
          "output_type": "display_data",
          "data": {
            "application/javascript": [
              "\n",
              "        if (window._pyforest_update_imports_cell) { window._pyforest_update_imports_cell('from sklearn.model_selection import cross_val_score\\nimport torch\\nimport bokeh\\nimport pandas as pd\\nimport numpy as np\\nimport matplotlib as mpl\\nfrom sklearn.feature_extraction.text import CountVectorizer\\nfrom sklearn.model_selection import train_test_split\\nfrom sklearn import metrics\\nimport tqdm\\nimport cv2\\nfrom statsmodels.tsa.arima_model import ARIMA\\nimport textblob\\nimport altair as alt'); }\n",
              "    "
            ],
            "text/plain": [
              "<IPython.core.display.Javascript object>"
            ]
          },
          "metadata": {}
        },
        {
          "output_type": "stream",
          "name": "stdout",
          "text": [
            "/content/ML_class_final/test_imgs_1/1653382438.jpg 1\n"
          ]
        },
        {
          "output_type": "display_data",
          "data": {
            "application/javascript": [
              "\n",
              "        if (window._pyforest_update_imports_cell) { window._pyforest_update_imports_cell('from sklearn.model_selection import cross_val_score\\nimport torch\\nimport bokeh\\nimport pandas as pd\\nimport numpy as np\\nimport matplotlib as mpl\\nfrom sklearn.feature_extraction.text import CountVectorizer\\nfrom sklearn.model_selection import train_test_split\\nfrom sklearn import metrics\\nimport tqdm\\nimport cv2\\nfrom statsmodels.tsa.arima_model import ARIMA\\nimport textblob\\nimport altair as alt'); }\n",
              "    "
            ],
            "text/plain": [
              "<IPython.core.display.Javascript object>"
            ]
          },
          "metadata": {}
        },
        {
          "output_type": "stream",
          "name": "stdout",
          "text": [
            "/content/ML_class_final/test_imgs_1/958289716.jpg 4\n"
          ]
        },
        {
          "output_type": "display_data",
          "data": {
            "application/javascript": [
              "\n",
              "        if (window._pyforest_update_imports_cell) { window._pyforest_update_imports_cell('from sklearn.model_selection import cross_val_score\\nimport torch\\nimport bokeh\\nimport pandas as pd\\nimport numpy as np\\nimport matplotlib as mpl\\nfrom sklearn.feature_extraction.text import CountVectorizer\\nfrom sklearn.model_selection import train_test_split\\nfrom sklearn import metrics\\nimport tqdm\\nimport cv2\\nfrom statsmodels.tsa.arima_model import ARIMA\\nimport textblob\\nimport altair as alt'); }\n",
              "    "
            ],
            "text/plain": [
              "<IPython.core.display.Javascript object>"
            ]
          },
          "metadata": {}
        },
        {
          "output_type": "stream",
          "name": "stdout",
          "text": [
            "/content/ML_class_final/test_imgs_1/142362483.jpg 4\n"
          ]
        },
        {
          "output_type": "display_data",
          "data": {
            "application/javascript": [
              "\n",
              "        if (window._pyforest_update_imports_cell) { window._pyforest_update_imports_cell('from sklearn.model_selection import cross_val_score\\nimport torch\\nimport bokeh\\nimport pandas as pd\\nimport numpy as np\\nimport matplotlib as mpl\\nfrom sklearn.feature_extraction.text import CountVectorizer\\nfrom sklearn.model_selection import train_test_split\\nfrom sklearn import metrics\\nimport tqdm\\nimport cv2\\nfrom statsmodels.tsa.arima_model import ARIMA\\nimport textblob\\nimport altair as alt'); }\n",
              "    "
            ],
            "text/plain": [
              "<IPython.core.display.Javascript object>"
            ]
          },
          "metadata": {}
        },
        {
          "output_type": "stream",
          "name": "stdout",
          "text": [
            "/content/ML_class_final/test_imgs_1/1778344931.jpg 1\n"
          ]
        },
        {
          "output_type": "display_data",
          "data": {
            "application/javascript": [
              "\n",
              "        if (window._pyforest_update_imports_cell) { window._pyforest_update_imports_cell('from sklearn.model_selection import cross_val_score\\nimport torch\\nimport bokeh\\nimport pandas as pd\\nimport numpy as np\\nimport matplotlib as mpl\\nfrom sklearn.feature_extraction.text import CountVectorizer\\nfrom sklearn.model_selection import train_test_split\\nfrom sklearn import metrics\\nimport tqdm\\nimport cv2\\nfrom statsmodels.tsa.arima_model import ARIMA\\nimport textblob\\nimport altair as alt'); }\n",
              "    "
            ],
            "text/plain": [
              "<IPython.core.display.Javascript object>"
            ]
          },
          "metadata": {}
        },
        {
          "output_type": "stream",
          "name": "stdout",
          "text": [
            "/content/ML_class_final/test_imgs_1/1038176489.jpg 1\n"
          ]
        },
        {
          "output_type": "display_data",
          "data": {
            "application/javascript": [
              "\n",
              "        if (window._pyforest_update_imports_cell) { window._pyforest_update_imports_cell('from sklearn.model_selection import cross_val_score\\nimport torch\\nimport bokeh\\nimport pandas as pd\\nimport numpy as np\\nimport matplotlib as mpl\\nfrom sklearn.feature_extraction.text import CountVectorizer\\nfrom sklearn.model_selection import train_test_split\\nfrom sklearn import metrics\\nimport tqdm\\nimport cv2\\nfrom statsmodels.tsa.arima_model import ARIMA\\nimport textblob\\nimport altair as alt'); }\n",
              "    "
            ],
            "text/plain": [
              "<IPython.core.display.Javascript object>"
            ]
          },
          "metadata": {}
        },
        {
          "output_type": "stream",
          "name": "stdout",
          "text": [
            "/content/ML_class_final/test_imgs_1/2185157799.jpg 1\n"
          ]
        },
        {
          "output_type": "display_data",
          "data": {
            "application/javascript": [
              "\n",
              "        if (window._pyforest_update_imports_cell) { window._pyforest_update_imports_cell('from sklearn.model_selection import cross_val_score\\nimport torch\\nimport bokeh\\nimport pandas as pd\\nimport numpy as np\\nimport matplotlib as mpl\\nfrom sklearn.feature_extraction.text import CountVectorizer\\nfrom sklearn.model_selection import train_test_split\\nfrom sklearn import metrics\\nimport tqdm\\nimport cv2\\nfrom statsmodels.tsa.arima_model import ARIMA\\nimport textblob\\nimport altair as alt'); }\n",
              "    "
            ],
            "text/plain": [
              "<IPython.core.display.Javascript object>"
            ]
          },
          "metadata": {}
        },
        {
          "output_type": "stream",
          "name": "stdout",
          "text": [
            "/content/ML_class_final/test_imgs_1/3973759314.jpg 1\n"
          ]
        },
        {
          "output_type": "display_data",
          "data": {
            "application/javascript": [
              "\n",
              "        if (window._pyforest_update_imports_cell) { window._pyforest_update_imports_cell('from sklearn.model_selection import cross_val_score\\nimport torch\\nimport bokeh\\nimport pandas as pd\\nimport numpy as np\\nimport matplotlib as mpl\\nfrom sklearn.feature_extraction.text import CountVectorizer\\nfrom sklearn.model_selection import train_test_split\\nfrom sklearn import metrics\\nimport tqdm\\nimport cv2\\nfrom statsmodels.tsa.arima_model import ARIMA\\nimport textblob\\nimport altair as alt'); }\n",
              "    "
            ],
            "text/plain": [
              "<IPython.core.display.Javascript object>"
            ]
          },
          "metadata": {}
        },
        {
          "output_type": "stream",
          "name": "stdout",
          "text": [
            "/content/ML_class_final/test_imgs_1/3933504809.jpg 1\n"
          ]
        },
        {
          "output_type": "display_data",
          "data": {
            "application/javascript": [
              "\n",
              "        if (window._pyforest_update_imports_cell) { window._pyforest_update_imports_cell('from sklearn.model_selection import cross_val_score\\nimport torch\\nimport bokeh\\nimport pandas as pd\\nimport numpy as np\\nimport matplotlib as mpl\\nfrom sklearn.feature_extraction.text import CountVectorizer\\nfrom sklearn.model_selection import train_test_split\\nfrom sklearn import metrics\\nimport tqdm\\nimport cv2\\nfrom statsmodels.tsa.arima_model import ARIMA\\nimport textblob\\nimport altair as alt'); }\n",
              "    "
            ],
            "text/plain": [
              "<IPython.core.display.Javascript object>"
            ]
          },
          "metadata": {}
        },
        {
          "output_type": "stream",
          "name": "stdout",
          "text": [
            "/content/ML_class_final/test_imgs_1/3708475076.jpg 4\n"
          ]
        },
        {
          "output_type": "display_data",
          "data": {
            "application/javascript": [
              "\n",
              "        if (window._pyforest_update_imports_cell) { window._pyforest_update_imports_cell('from sklearn.model_selection import cross_val_score\\nimport torch\\nimport bokeh\\nimport pandas as pd\\nimport numpy as np\\nimport matplotlib as mpl\\nfrom sklearn.feature_extraction.text import CountVectorizer\\nfrom sklearn.model_selection import train_test_split\\nfrom sklearn import metrics\\nimport tqdm\\nimport cv2\\nfrom statsmodels.tsa.arima_model import ARIMA\\nimport textblob\\nimport altair as alt'); }\n",
              "    "
            ],
            "text/plain": [
              "<IPython.core.display.Javascript object>"
            ]
          },
          "metadata": {}
        },
        {
          "output_type": "stream",
          "name": "stdout",
          "text": [
            "/content/ML_class_final/test_imgs_1/106233037.jpg 1\n"
          ]
        },
        {
          "output_type": "display_data",
          "data": {
            "application/javascript": [
              "\n",
              "        if (window._pyforest_update_imports_cell) { window._pyforest_update_imports_cell('from sklearn.model_selection import cross_val_score\\nimport torch\\nimport bokeh\\nimport pandas as pd\\nimport numpy as np\\nimport matplotlib as mpl\\nfrom sklearn.feature_extraction.text import CountVectorizer\\nfrom sklearn.model_selection import train_test_split\\nfrom sklearn import metrics\\nimport tqdm\\nimport cv2\\nfrom statsmodels.tsa.arima_model import ARIMA\\nimport textblob\\nimport altair as alt'); }\n",
              "    "
            ],
            "text/plain": [
              "<IPython.core.display.Javascript object>"
            ]
          },
          "metadata": {}
        },
        {
          "output_type": "stream",
          "name": "stdout",
          "text": [
            "/content/ML_class_final/test_imgs_1/1170646822.jpg 1\n"
          ]
        },
        {
          "output_type": "display_data",
          "data": {
            "application/javascript": [
              "\n",
              "        if (window._pyforest_update_imports_cell) { window._pyforest_update_imports_cell('from sklearn.model_selection import cross_val_score\\nimport torch\\nimport bokeh\\nimport pandas as pd\\nimport numpy as np\\nimport matplotlib as mpl\\nfrom sklearn.feature_extraction.text import CountVectorizer\\nfrom sklearn.model_selection import train_test_split\\nfrom sklearn import metrics\\nimport tqdm\\nimport cv2\\nfrom statsmodels.tsa.arima_model import ARIMA\\nimport textblob\\nimport altair as alt'); }\n",
              "    "
            ],
            "text/plain": [
              "<IPython.core.display.Javascript object>"
            ]
          },
          "metadata": {}
        },
        {
          "output_type": "stream",
          "name": "stdout",
          "text": [
            "/content/ML_class_final/test_imgs_1/1994098867.jpg 4\n"
          ]
        },
        {
          "output_type": "display_data",
          "data": {
            "application/javascript": [
              "\n",
              "        if (window._pyforest_update_imports_cell) { window._pyforest_update_imports_cell('from sklearn.model_selection import cross_val_score\\nimport torch\\nimport bokeh\\nimport pandas as pd\\nimport numpy as np\\nimport matplotlib as mpl\\nfrom sklearn.feature_extraction.text import CountVectorizer\\nfrom sklearn.model_selection import train_test_split\\nfrom sklearn import metrics\\nimport tqdm\\nimport cv2\\nfrom statsmodels.tsa.arima_model import ARIMA\\nimport textblob\\nimport altair as alt'); }\n",
              "    "
            ],
            "text/plain": [
              "<IPython.core.display.Javascript object>"
            ]
          },
          "metadata": {}
        },
        {
          "output_type": "stream",
          "name": "stdout",
          "text": [
            "/content/ML_class_final/test_imgs_1/847847826.jpg 1\n"
          ]
        },
        {
          "output_type": "display_data",
          "data": {
            "application/javascript": [
              "\n",
              "        if (window._pyforest_update_imports_cell) { window._pyforest_update_imports_cell('from sklearn.model_selection import cross_val_score\\nimport torch\\nimport bokeh\\nimport pandas as pd\\nimport numpy as np\\nimport matplotlib as mpl\\nfrom sklearn.feature_extraction.text import CountVectorizer\\nfrom sklearn.model_selection import train_test_split\\nfrom sklearn import metrics\\nimport tqdm\\nimport cv2\\nfrom statsmodels.tsa.arima_model import ARIMA\\nimport textblob\\nimport altair as alt'); }\n",
              "    "
            ],
            "text/plain": [
              "<IPython.core.display.Javascript object>"
            ]
          },
          "metadata": {}
        },
        {
          "output_type": "stream",
          "name": "stdout",
          "text": [
            "/content/ML_class_final/test_imgs_1/1218762874.jpg 3\n"
          ]
        },
        {
          "output_type": "display_data",
          "data": {
            "application/javascript": [
              "\n",
              "        if (window._pyforest_update_imports_cell) { window._pyforest_update_imports_cell('from sklearn.model_selection import cross_val_score\\nimport torch\\nimport bokeh\\nimport pandas as pd\\nimport numpy as np\\nimport matplotlib as mpl\\nfrom sklearn.feature_extraction.text import CountVectorizer\\nfrom sklearn.model_selection import train_test_split\\nfrom sklearn import metrics\\nimport tqdm\\nimport cv2\\nfrom statsmodels.tsa.arima_model import ARIMA\\nimport textblob\\nimport altair as alt'); }\n",
              "    "
            ],
            "text/plain": [
              "<IPython.core.display.Javascript object>"
            ]
          },
          "metadata": {}
        },
        {
          "output_type": "stream",
          "name": "stdout",
          "text": [
            "/content/ML_class_final/test_imgs_1/1963478389.jpg 3\n"
          ]
        },
        {
          "output_type": "display_data",
          "data": {
            "application/javascript": [
              "\n",
              "        if (window._pyforest_update_imports_cell) { window._pyforest_update_imports_cell('from sklearn.model_selection import cross_val_score\\nimport torch\\nimport bokeh\\nimport pandas as pd\\nimport numpy as np\\nimport matplotlib as mpl\\nfrom sklearn.feature_extraction.text import CountVectorizer\\nfrom sklearn.model_selection import train_test_split\\nfrom sklearn import metrics\\nimport tqdm\\nimport cv2\\nfrom statsmodels.tsa.arima_model import ARIMA\\nimport textblob\\nimport altair as alt'); }\n",
              "    "
            ],
            "text/plain": [
              "<IPython.core.display.Javascript object>"
            ]
          },
          "metadata": {}
        },
        {
          "output_type": "stream",
          "name": "stdout",
          "text": [
            "/content/ML_class_final/test_imgs_1/1025557405.jpg 4\n"
          ]
        },
        {
          "output_type": "display_data",
          "data": {
            "application/javascript": [
              "\n",
              "        if (window._pyforest_update_imports_cell) { window._pyforest_update_imports_cell('from sklearn.model_selection import cross_val_score\\nimport torch\\nimport bokeh\\nimport pandas as pd\\nimport numpy as np\\nimport matplotlib as mpl\\nfrom sklearn.feature_extraction.text import CountVectorizer\\nfrom sklearn.model_selection import train_test_split\\nfrom sklearn import metrics\\nimport tqdm\\nimport cv2\\nfrom statsmodels.tsa.arima_model import ARIMA\\nimport textblob\\nimport altair as alt'); }\n",
              "    "
            ],
            "text/plain": [
              "<IPython.core.display.Javascript object>"
            ]
          },
          "metadata": {}
        },
        {
          "output_type": "stream",
          "name": "stdout",
          "text": [
            "/content/ML_class_final/test_imgs_1/2550504430.jpg 1\n"
          ]
        },
        {
          "output_type": "display_data",
          "data": {
            "application/javascript": [
              "\n",
              "        if (window._pyforest_update_imports_cell) { window._pyforest_update_imports_cell('from sklearn.model_selection import cross_val_score\\nimport torch\\nimport bokeh\\nimport pandas as pd\\nimport numpy as np\\nimport matplotlib as mpl\\nfrom sklearn.feature_extraction.text import CountVectorizer\\nfrom sklearn.model_selection import train_test_split\\nfrom sklearn import metrics\\nimport tqdm\\nimport cv2\\nfrom statsmodels.tsa.arima_model import ARIMA\\nimport textblob\\nimport altair as alt'); }\n",
              "    "
            ],
            "text/plain": [
              "<IPython.core.display.Javascript object>"
            ]
          },
          "metadata": {}
        },
        {
          "output_type": "stream",
          "name": "stdout",
          "text": [
            "/content/ML_class_final/test_imgs_1/1194287929.jpg 4\n"
          ]
        },
        {
          "output_type": "display_data",
          "data": {
            "application/javascript": [
              "\n",
              "        if (window._pyforest_update_imports_cell) { window._pyforest_update_imports_cell('from sklearn.model_selection import cross_val_score\\nimport torch\\nimport bokeh\\nimport pandas as pd\\nimport numpy as np\\nimport matplotlib as mpl\\nfrom sklearn.feature_extraction.text import CountVectorizer\\nfrom sklearn.model_selection import train_test_split\\nfrom sklearn import metrics\\nimport tqdm\\nimport cv2\\nfrom statsmodels.tsa.arima_model import ARIMA\\nimport textblob\\nimport altair as alt'); }\n",
              "    "
            ],
            "text/plain": [
              "<IPython.core.display.Javascript object>"
            ]
          },
          "metadata": {}
        },
        {
          "output_type": "stream",
          "name": "stdout",
          "text": [
            "/content/ML_class_final/test_imgs_1/2967016928.jpg 4\n"
          ]
        },
        {
          "output_type": "display_data",
          "data": {
            "application/javascript": [
              "\n",
              "        if (window._pyforest_update_imports_cell) { window._pyforest_update_imports_cell('from sklearn.model_selection import cross_val_score\\nimport torch\\nimport bokeh\\nimport pandas as pd\\nimport numpy as np\\nimport matplotlib as mpl\\nfrom sklearn.feature_extraction.text import CountVectorizer\\nfrom sklearn.model_selection import train_test_split\\nfrom sklearn import metrics\\nimport tqdm\\nimport cv2\\nfrom statsmodels.tsa.arima_model import ARIMA\\nimport textblob\\nimport altair as alt'); }\n",
              "    "
            ],
            "text/plain": [
              "<IPython.core.display.Javascript object>"
            ]
          },
          "metadata": {}
        },
        {
          "output_type": "stream",
          "name": "stdout",
          "text": [
            "/content/ML_class_final/test_imgs_1/2535154640.jpg 1\n"
          ]
        },
        {
          "output_type": "display_data",
          "data": {
            "application/javascript": [
              "\n",
              "        if (window._pyforest_update_imports_cell) { window._pyforest_update_imports_cell('from sklearn.model_selection import cross_val_score\\nimport torch\\nimport bokeh\\nimport pandas as pd\\nimport numpy as np\\nimport matplotlib as mpl\\nfrom sklearn.feature_extraction.text import CountVectorizer\\nfrom sklearn.model_selection import train_test_split\\nfrom sklearn import metrics\\nimport tqdm\\nimport cv2\\nfrom statsmodels.tsa.arima_model import ARIMA\\nimport textblob\\nimport altair as alt'); }\n",
              "    "
            ],
            "text/plain": [
              "<IPython.core.display.Javascript object>"
            ]
          },
          "metadata": {}
        },
        {
          "output_type": "stream",
          "name": "stdout",
          "text": [
            "/content/ML_class_final/test_imgs_1/3717600910.jpg 4\n"
          ]
        },
        {
          "output_type": "display_data",
          "data": {
            "application/javascript": [
              "\n",
              "        if (window._pyforest_update_imports_cell) { window._pyforest_update_imports_cell('from sklearn.model_selection import cross_val_score\\nimport torch\\nimport bokeh\\nimport pandas as pd\\nimport numpy as np\\nimport matplotlib as mpl\\nfrom sklearn.feature_extraction.text import CountVectorizer\\nfrom sklearn.model_selection import train_test_split\\nfrom sklearn import metrics\\nimport tqdm\\nimport cv2\\nfrom statsmodels.tsa.arima_model import ARIMA\\nimport textblob\\nimport altair as alt'); }\n",
              "    "
            ],
            "text/plain": [
              "<IPython.core.display.Javascript object>"
            ]
          },
          "metadata": {}
        },
        {
          "output_type": "stream",
          "name": "stdout",
          "text": [
            "/content/ML_class_final/test_imgs_1/1974242714.jpg 4\n"
          ]
        },
        {
          "output_type": "display_data",
          "data": {
            "application/javascript": [
              "\n",
              "        if (window._pyforest_update_imports_cell) { window._pyforest_update_imports_cell('from sklearn.model_selection import cross_val_score\\nimport torch\\nimport bokeh\\nimport pandas as pd\\nimport numpy as np\\nimport matplotlib as mpl\\nfrom sklearn.feature_extraction.text import CountVectorizer\\nfrom sklearn.model_selection import train_test_split\\nfrom sklearn import metrics\\nimport tqdm\\nimport cv2\\nfrom statsmodels.tsa.arima_model import ARIMA\\nimport textblob\\nimport altair as alt'); }\n",
              "    "
            ],
            "text/plain": [
              "<IPython.core.display.Javascript object>"
            ]
          },
          "metadata": {}
        },
        {
          "output_type": "stream",
          "name": "stdout",
          "text": [
            "/content/ML_class_final/test_imgs_1/1760414048.jpg 4\n"
          ]
        },
        {
          "output_type": "display_data",
          "data": {
            "application/javascript": [
              "\n",
              "        if (window._pyforest_update_imports_cell) { window._pyforest_update_imports_cell('from sklearn.model_selection import cross_val_score\\nimport torch\\nimport bokeh\\nimport pandas as pd\\nimport numpy as np\\nimport matplotlib as mpl\\nfrom sklearn.feature_extraction.text import CountVectorizer\\nfrom sklearn.model_selection import train_test_split\\nfrom sklearn import metrics\\nimport tqdm\\nimport cv2\\nfrom statsmodels.tsa.arima_model import ARIMA\\nimport textblob\\nimport altair as alt'); }\n",
              "    "
            ],
            "text/plain": [
              "<IPython.core.display.Javascript object>"
            ]
          },
          "metadata": {}
        },
        {
          "output_type": "stream",
          "name": "stdout",
          "text": [
            "/content/ML_class_final/test_imgs_1/2342506991.jpg 4\n"
          ]
        },
        {
          "output_type": "display_data",
          "data": {
            "application/javascript": [
              "\n",
              "        if (window._pyforest_update_imports_cell) { window._pyforest_update_imports_cell('from sklearn.model_selection import cross_val_score\\nimport torch\\nimport bokeh\\nimport pandas as pd\\nimport numpy as np\\nimport matplotlib as mpl\\nfrom sklearn.feature_extraction.text import CountVectorizer\\nfrom sklearn.model_selection import train_test_split\\nfrom sklearn import metrics\\nimport tqdm\\nimport cv2\\nfrom statsmodels.tsa.arima_model import ARIMA\\nimport textblob\\nimport altair as alt'); }\n",
              "    "
            ],
            "text/plain": [
              "<IPython.core.display.Javascript object>"
            ]
          },
          "metadata": {}
        },
        {
          "output_type": "stream",
          "name": "stdout",
          "text": [
            "/content/ML_class_final/test_imgs_1/3487867690.jpg 4\n"
          ]
        },
        {
          "output_type": "display_data",
          "data": {
            "application/javascript": [
              "\n",
              "        if (window._pyforest_update_imports_cell) { window._pyforest_update_imports_cell('from sklearn.model_selection import cross_val_score\\nimport torch\\nimport bokeh\\nimport pandas as pd\\nimport numpy as np\\nimport matplotlib as mpl\\nfrom sklearn.feature_extraction.text import CountVectorizer\\nfrom sklearn.model_selection import train_test_split\\nfrom sklearn import metrics\\nimport tqdm\\nimport cv2\\nfrom statsmodels.tsa.arima_model import ARIMA\\nimport textblob\\nimport altair as alt'); }\n",
              "    "
            ],
            "text/plain": [
              "<IPython.core.display.Javascript object>"
            ]
          },
          "metadata": {}
        },
        {
          "output_type": "stream",
          "name": "stdout",
          "text": [
            "/content/ML_class_final/test_imgs_1/3980236832.jpg 2\n"
          ]
        },
        {
          "output_type": "display_data",
          "data": {
            "application/javascript": [
              "\n",
              "        if (window._pyforest_update_imports_cell) { window._pyforest_update_imports_cell('from sklearn.model_selection import cross_val_score\\nimport torch\\nimport bokeh\\nimport pandas as pd\\nimport numpy as np\\nimport matplotlib as mpl\\nfrom sklearn.feature_extraction.text import CountVectorizer\\nfrom sklearn.model_selection import train_test_split\\nfrom sklearn import metrics\\nimport tqdm\\nimport cv2\\nfrom statsmodels.tsa.arima_model import ARIMA\\nimport textblob\\nimport altair as alt'); }\n",
              "    "
            ],
            "text/plain": [
              "<IPython.core.display.Javascript object>"
            ]
          },
          "metadata": {}
        },
        {
          "output_type": "stream",
          "name": "stdout",
          "text": [
            "/content/ML_class_final/test_imgs_1/1774341872.jpg 4\n"
          ]
        },
        {
          "output_type": "display_data",
          "data": {
            "application/javascript": [
              "\n",
              "        if (window._pyforest_update_imports_cell) { window._pyforest_update_imports_cell('from sklearn.model_selection import cross_val_score\\nimport torch\\nimport bokeh\\nimport pandas as pd\\nimport numpy as np\\nimport matplotlib as mpl\\nfrom sklearn.feature_extraction.text import CountVectorizer\\nfrom sklearn.model_selection import train_test_split\\nfrom sklearn import metrics\\nimport tqdm\\nimport cv2\\nfrom statsmodels.tsa.arima_model import ARIMA\\nimport textblob\\nimport altair as alt'); }\n",
              "    "
            ],
            "text/plain": [
              "<IPython.core.display.Javascript object>"
            ]
          },
          "metadata": {}
        },
        {
          "output_type": "stream",
          "name": "stdout",
          "text": [
            "/content/ML_class_final/test_imgs_1/1478823591.jpg 1\n"
          ]
        },
        {
          "output_type": "display_data",
          "data": {
            "application/javascript": [
              "\n",
              "        if (window._pyforest_update_imports_cell) { window._pyforest_update_imports_cell('from sklearn.model_selection import cross_val_score\\nimport torch\\nimport bokeh\\nimport pandas as pd\\nimport numpy as np\\nimport matplotlib as mpl\\nfrom sklearn.feature_extraction.text import CountVectorizer\\nfrom sklearn.model_selection import train_test_split\\nfrom sklearn import metrics\\nimport tqdm\\nimport cv2\\nfrom statsmodels.tsa.arima_model import ARIMA\\nimport textblob\\nimport altair as alt'); }\n",
              "    "
            ],
            "text/plain": [
              "<IPython.core.display.Javascript object>"
            ]
          },
          "metadata": {}
        },
        {
          "output_type": "stream",
          "name": "stdout",
          "text": [
            "/content/ML_class_final/test_imgs_1/498277992.jpg 3\n"
          ]
        }
      ]
    },
    {
      "cell_type": "code",
      "metadata": {
        "id": "WutEWB_zxKby",
        "outputId": "e2c5756d-dfc9-46cd-c9bd-62efe68a1bd5",
        "colab": {
          "base_uri": "https://localhost:8080/",
          "height": 17
        }
      },
      "source": [
        "df = pd.DataFrame(columns = ['Filename'])\n",
        "\n",
        "def get_row_prediction(row):\n",
        "  return predict_an_image(model, '/content/ML_class_final/test_imgs_1' + row['Filename'])\n",
        "df['predicted_class'] = df.apply(get_row_prediction, axis=1)"
      ],
      "execution_count": 46,
      "outputs": [
        {
          "output_type": "display_data",
          "data": {
            "application/javascript": [
              "\n",
              "        if (window._pyforest_update_imports_cell) { window._pyforest_update_imports_cell('from sklearn.model_selection import cross_val_score\\nimport torch\\nimport fbprophet\\nimport bokeh\\nimport fastai\\nimport pandas as pd\\nimport numpy as np\\nimport re\\nimport matplotlib as mpl\\nfrom sklearn.feature_extraction.text import CountVectorizer\\nfrom sklearn.model_selection import train_test_split\\nfrom sklearn import metrics\\nimport tqdm\\nimport cv2\\nfrom statsmodels.tsa.arima_model import ARIMA\\nimport textblob\\nimport altair as alt'); }\n",
              "    "
            ],
            "text/plain": [
              "<IPython.core.display.Javascript object>"
            ]
          },
          "metadata": {}
        }
      ]
    },
    {
      "cell_type": "code",
      "metadata": {
        "id": "yE6WollBxRZA",
        "outputId": "3da962ba-b650-40f7-8939-fba4ffc68205",
        "colab": {
          "base_uri": "https://localhost:8080/",
          "height": 49
        }
      },
      "source": [
        "df.head()"
      ],
      "execution_count": 47,
      "outputs": [
        {
          "output_type": "execute_result",
          "data": {
            "text/html": [
              "<div>\n",
              "<style scoped>\n",
              "    .dataframe tbody tr th:only-of-type {\n",
              "        vertical-align: middle;\n",
              "    }\n",
              "\n",
              "    .dataframe tbody tr th {\n",
              "        vertical-align: top;\n",
              "    }\n",
              "\n",
              "    .dataframe thead th {\n",
              "        text-align: right;\n",
              "    }\n",
              "</style>\n",
              "<table border=\"1\" class=\"dataframe\">\n",
              "  <thead>\n",
              "    <tr style=\"text-align: right;\">\n",
              "      <th></th>\n",
              "      <th>Filename</th>\n",
              "      <th>predicted_class</th>\n",
              "    </tr>\n",
              "  </thead>\n",
              "  <tbody>\n",
              "  </tbody>\n",
              "</table>\n",
              "</div>"
            ],
            "text/plain": [
              "Empty DataFrame\n",
              "Columns: [Filename, predicted_class]\n",
              "Index: []"
            ]
          },
          "metadata": {},
          "execution_count": 47
        }
      ]
    },
    {
      "cell_type": "code",
      "metadata": {
        "id": "Df1I7zdK0tJK",
        "outputId": "8799f388-795a-44c7-f10f-6bffad40ab27",
        "colab": {
          "base_uri": "https://localhost:8080/",
          "height": 49
        }
      },
      "source": [
        ""
      ],
      "execution_count": 28,
      "outputs": [
        {
          "output_type": "execute_result",
          "data": {
            "text/html": [
              "<div>\n",
              "<style scoped>\n",
              "    .dataframe tbody tr th:only-of-type {\n",
              "        vertical-align: middle;\n",
              "    }\n",
              "\n",
              "    .dataframe tbody tr th {\n",
              "        vertical-align: top;\n",
              "    }\n",
              "\n",
              "    .dataframe thead th {\n",
              "        text-align: right;\n",
              "    }\n",
              "</style>\n",
              "<table border=\"1\" class=\"dataframe\">\n",
              "  <thead>\n",
              "    <tr style=\"text-align: right;\">\n",
              "      <th></th>\n",
              "      <th>image_id</th>\n",
              "      <th>class</th>\n",
              "    </tr>\n",
              "  </thead>\n",
              "  <tbody>\n",
              "  </tbody>\n",
              "</table>\n",
              "</div>"
            ],
            "text/plain": [
              "Empty DataFrame\n",
              "Columns: [image_id, class]\n",
              "Index: []"
            ]
          },
          "metadata": {},
          "execution_count": 28
        }
      ]
    },
    {
      "cell_type": "code",
      "metadata": {
        "id": "diX2bDV70uoq"
      },
      "source": [
        ""
      ],
      "execution_count": null,
      "outputs": []
    }
  ]
}